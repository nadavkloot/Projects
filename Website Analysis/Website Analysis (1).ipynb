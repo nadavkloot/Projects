{
 "cells": [
  {
   "cell_type": "markdown",
   "id": "f8d3638f",
   "metadata": {},
   "source": [
    "# Table of contents:"
   ]
  },
  {
   "cell_type": "markdown",
   "id": "2896966b",
   "metadata": {},
   "source": [
    "1. [Introduction](#Introduction)\n",
    "    * [Description of the data](#Data_outline)\n",
    "    \n",
    "    \n",
    "2. [Part 1: Opening the data and reading it](#part_1)\n",
    "3.[Part 2: Prepare the data for analysis](#part_2)\n",
    "    * [Changing column names](#column_names)\n",
    "    * [Checking for missing values and duplicates](#missing_values)\n",
    "    * [Changing column datatypes](#column_datatypes)\n",
    "    * [Creating date columns](#date_column)\n",
    "4. [Part 3: Study and check the data](#part_3)\n",
    "    * [3.1 How many events are in the logs?](#3.1)\n",
    "    * [3.2 How many users are in the logs?](#3.2)\n",
    "    * [3.3 What's the average number of events per user?](#3.3)\n",
    "    * [3.4 What period of time does the data cover?](#3.4)\n",
    "    * [3.5 Users in groups](#3.5)\n",
    "5. [Part 4: Event Funnel](#4)\n",
    "    * [Conclusion](#funnel_conclusion)\n",
    "6. [Part 5: A/A/B test](#5)\n",
    "    * [Conclusion](#5.1)"
   ]
  },
  {
   "cell_type": "markdown",
   "id": "73495487",
   "metadata": {},
   "source": [
    "<a id=introduction></a>"
   ]
  },
  {
   "cell_type": "markdown",
   "id": "5153d55e",
   "metadata": {},
   "source": [
    "# Introduction"
   ]
  },
  {
   "cell_type": "markdown",
   "id": "3759907a",
   "metadata": {},
   "source": [
    "I work at a startup that sells food products. I need to investigate user behavior for the company's app. First I'll study the sales funnel. I'll Find out how users reach the purchase stage. Then I'll look at the results of an A/A/B test. The designers would like to change the fonts for the entire app, but the managers are afraid the users might find the new design intimidating. I'll analyize the results, and write conclusions accordingly. "
   ]
  },
  {
   "cell_type": "markdown",
   "id": "17664958",
   "metadata": {},
   "source": [
    "<a id=Data_outline></a>"
   ]
  },
  {
   "cell_type": "markdown",
   "id": "a47d7204",
   "metadata": {},
   "source": [
    "## Description of the data:\n"
   ]
  },
  {
   "cell_type": "markdown",
   "id": "9a0ee2c6",
   "metadata": {},
   "source": [
    "EventName — event name\n",
    "\n",
    "DeviceIDHash — unique user identifier\n",
    "\n",
    "EventTimestamp — event time\n",
    "\n",
    "ExpId — experiment number: 246 and 247 are the control groups, 248 is the test group"
   ]
  },
  {
   "cell_type": "markdown",
   "id": "8880460b",
   "metadata": {},
   "source": [
    "<a id=part_1></a>"
   ]
  },
  {
   "cell_type": "markdown",
   "id": "0e8a2f05",
   "metadata": {},
   "source": [
    "# Part 1: Opening the data and reading it"
   ]
  },
  {
   "cell_type": "markdown",
   "id": "0691ce62",
   "metadata": {},
   "source": [
    "First, Let's import all the libaries:"
   ]
  },
  {
   "cell_type": "code",
   "execution_count": 1,
   "id": "3f5c2a23",
   "metadata": {},
   "outputs": [],
   "source": [
    "import pandas as pd\n",
    "import numpy as np\n",
    "from datetime import datetime as dt\n",
    "import matplotlib.pyplot as plt\n",
    "import seaborn as sns\n",
    "import plotly.express as px\n",
    "from plotly import graph_objects as go\n",
    "import scipy.stats as stats\n",
    "import math as mth\n",
    "import pingouin as png"
   ]
  },
  {
   "cell_type": "markdown",
   "id": "1e644503",
   "metadata": {},
   "source": [
    "Let's read the dataframe:"
   ]
  },
  {
   "cell_type": "code",
   "execution_count": 2,
   "id": "e0619928",
   "metadata": {},
   "outputs": [],
   "source": [
    "try:\n",
    "    data = pd.read_csv(r'C:\\Users\\nadav\\OneDrive\\מסמכים\\Practicum100\\databases\\logs_exp_us.csv')\n",
    "except:\n",
    "    data = pd.read_csv('/datasets/logs_exp_us.csv')"
   ]
  },
  {
   "cell_type": "markdown",
   "id": "0eb5c872",
   "metadata": {},
   "source": [
    "Let's see the file:"
   ]
  },
  {
   "cell_type": "code",
   "execution_count": 3,
   "id": "0071fc49",
   "metadata": {},
   "outputs": [
    {
     "data": {
      "text/html": [
       "<div>\n",
       "<style scoped>\n",
       "    .dataframe tbody tr th:only-of-type {\n",
       "        vertical-align: middle;\n",
       "    }\n",
       "\n",
       "    .dataframe tbody tr th {\n",
       "        vertical-align: top;\n",
       "    }\n",
       "\n",
       "    .dataframe thead th {\n",
       "        text-align: right;\n",
       "    }\n",
       "</style>\n",
       "<table border=\"1\" class=\"dataframe\">\n",
       "  <thead>\n",
       "    <tr style=\"text-align: right;\">\n",
       "      <th></th>\n",
       "      <th>EventName\\tDeviceIDHash\\tEventTimestamp\\tExpId</th>\n",
       "    </tr>\n",
       "  </thead>\n",
       "  <tbody>\n",
       "    <tr>\n",
       "      <th>0</th>\n",
       "      <td>MainScreenAppear\\t4575588528974610257\\t1564029...</td>\n",
       "    </tr>\n",
       "    <tr>\n",
       "      <th>1</th>\n",
       "      <td>MainScreenAppear\\t7416695313311560658\\t1564053...</td>\n",
       "    </tr>\n",
       "    <tr>\n",
       "      <th>2</th>\n",
       "      <td>PaymentScreenSuccessful\\t3518123091307005509\\t...</td>\n",
       "    </tr>\n",
       "    <tr>\n",
       "      <th>3</th>\n",
       "      <td>CartScreenAppear\\t3518123091307005509\\t1564054...</td>\n",
       "    </tr>\n",
       "    <tr>\n",
       "      <th>4</th>\n",
       "      <td>PaymentScreenSuccessful\\t6217807653094995999\\t...</td>\n",
       "    </tr>\n",
       "  </tbody>\n",
       "</table>\n",
       "</div>"
      ],
      "text/plain": [
       "      EventName\\tDeviceIDHash\\tEventTimestamp\\tExpId\n",
       "0  MainScreenAppear\\t4575588528974610257\\t1564029...\n",
       "1  MainScreenAppear\\t7416695313311560658\\t1564053...\n",
       "2  PaymentScreenSuccessful\\t3518123091307005509\\t...\n",
       "3  CartScreenAppear\\t3518123091307005509\\t1564054...\n",
       "4  PaymentScreenSuccessful\\t6217807653094995999\\t..."
      ]
     },
     "execution_count": 3,
     "metadata": {},
     "output_type": "execute_result"
    }
   ],
   "source": [
    "data.head()"
   ]
  },
  {
   "cell_type": "markdown",
   "id": "720bde00",
   "metadata": {},
   "source": [
    "We see we have a parsing problem. Let's re-read the file:"
   ]
  },
  {
   "cell_type": "code",
   "execution_count": 4,
   "id": "bab822dc",
   "metadata": {},
   "outputs": [],
   "source": [
    "try:\n",
    "    data = pd.read_csv(r'C:\\Users\\nadav\\OneDrive\\מסמכים\\Practicum100\\databases\\logs_exp_us.csv', sep = '\\s+')\n",
    "except:\n",
    "    data = pd.read_csv('/datasets/logs_exp_us.csv', sep = '\\s+')"
   ]
  },
  {
   "cell_type": "code",
   "execution_count": 5,
   "id": "a8ab339b",
   "metadata": {},
   "outputs": [
    {
     "data": {
      "text/html": [
       "<div>\n",
       "<style scoped>\n",
       "    .dataframe tbody tr th:only-of-type {\n",
       "        vertical-align: middle;\n",
       "    }\n",
       "\n",
       "    .dataframe tbody tr th {\n",
       "        vertical-align: top;\n",
       "    }\n",
       "\n",
       "    .dataframe thead th {\n",
       "        text-align: right;\n",
       "    }\n",
       "</style>\n",
       "<table border=\"1\" class=\"dataframe\">\n",
       "  <thead>\n",
       "    <tr style=\"text-align: right;\">\n",
       "      <th></th>\n",
       "      <th>EventName</th>\n",
       "      <th>DeviceIDHash</th>\n",
       "      <th>EventTimestamp</th>\n",
       "      <th>ExpId</th>\n",
       "    </tr>\n",
       "  </thead>\n",
       "  <tbody>\n",
       "    <tr>\n",
       "      <th>0</th>\n",
       "      <td>MainScreenAppear</td>\n",
       "      <td>4575588528974610257</td>\n",
       "      <td>1564029816</td>\n",
       "      <td>246</td>\n",
       "    </tr>\n",
       "    <tr>\n",
       "      <th>1</th>\n",
       "      <td>MainScreenAppear</td>\n",
       "      <td>7416695313311560658</td>\n",
       "      <td>1564053102</td>\n",
       "      <td>246</td>\n",
       "    </tr>\n",
       "    <tr>\n",
       "      <th>2</th>\n",
       "      <td>PaymentScreenSuccessful</td>\n",
       "      <td>3518123091307005509</td>\n",
       "      <td>1564054127</td>\n",
       "      <td>248</td>\n",
       "    </tr>\n",
       "    <tr>\n",
       "      <th>3</th>\n",
       "      <td>CartScreenAppear</td>\n",
       "      <td>3518123091307005509</td>\n",
       "      <td>1564054127</td>\n",
       "      <td>248</td>\n",
       "    </tr>\n",
       "    <tr>\n",
       "      <th>4</th>\n",
       "      <td>PaymentScreenSuccessful</td>\n",
       "      <td>6217807653094995999</td>\n",
       "      <td>1564055322</td>\n",
       "      <td>248</td>\n",
       "    </tr>\n",
       "  </tbody>\n",
       "</table>\n",
       "</div>"
      ],
      "text/plain": [
       "                 EventName         DeviceIDHash  EventTimestamp  ExpId\n",
       "0         MainScreenAppear  4575588528974610257      1564029816    246\n",
       "1         MainScreenAppear  7416695313311560658      1564053102    246\n",
       "2  PaymentScreenSuccessful  3518123091307005509      1564054127    248\n",
       "3         CartScreenAppear  3518123091307005509      1564054127    248\n",
       "4  PaymentScreenSuccessful  6217807653094995999      1564055322    248"
      ]
     },
     "execution_count": 5,
     "metadata": {},
     "output_type": "execute_result"
    }
   ],
   "source": [
    "data.head()"
   ]
  },
  {
   "cell_type": "markdown",
   "id": "6784a966",
   "metadata": {},
   "source": [
    "Thats better!"
   ]
  },
  {
   "cell_type": "markdown",
   "id": "885a153e",
   "metadata": {},
   "source": [
    "<a id=part_2></a>"
   ]
  },
  {
   "cell_type": "markdown",
   "id": "91c7b223",
   "metadata": {},
   "source": [
    "# Part 2. Prepare the data for analysis"
   ]
  },
  {
   "cell_type": "markdown",
   "id": "bb60e538",
   "metadata": {},
   "source": [
    "Let's study the general information on this dataframe:"
   ]
  },
  {
   "cell_type": "code",
   "execution_count": 6,
   "id": "97b82ef3",
   "metadata": {},
   "outputs": [
    {
     "name": "stdout",
     "output_type": "stream",
     "text": [
      "<class 'pandas.core.frame.DataFrame'>\n",
      "RangeIndex: 244126 entries, 0 to 244125\n",
      "Data columns (total 4 columns):\n",
      " #   Column          Non-Null Count   Dtype \n",
      "---  ------          --------------   ----- \n",
      " 0   EventName       244126 non-null  object\n",
      " 1   DeviceIDHash    244126 non-null  int64 \n",
      " 2   EventTimestamp  244126 non-null  int64 \n",
      " 3   ExpId           244126 non-null  int64 \n",
      "dtypes: int64(3), object(1)\n",
      "memory usage: 7.5+ MB\n"
     ]
    }
   ],
   "source": [
    "data.info()"
   ]
  },
  {
   "cell_type": "markdown",
   "id": "54a16204",
   "metadata": {},
   "source": [
    "<a id=column_names></a>"
   ]
  },
  {
   "cell_type": "markdown",
   "id": "eee70233",
   "metadata": {},
   "source": [
    "We have some adjustments to do. Let's change our column names:"
   ]
  },
  {
   "cell_type": "code",
   "execution_count": 7,
   "id": "af98b414",
   "metadata": {},
   "outputs": [],
   "source": [
    "data.columns = ['event_name','user_id', 'timestamp', 'group']"
   ]
  },
  {
   "cell_type": "code",
   "execution_count": 8,
   "id": "afc0952d",
   "metadata": {},
   "outputs": [
    {
     "name": "stdout",
     "output_type": "stream",
     "text": [
      "<class 'pandas.core.frame.DataFrame'>\n",
      "RangeIndex: 244126 entries, 0 to 244125\n",
      "Data columns (total 4 columns):\n",
      " #   Column      Non-Null Count   Dtype \n",
      "---  ------      --------------   ----- \n",
      " 0   event_name  244126 non-null  object\n",
      " 1   user_id     244126 non-null  int64 \n",
      " 2   timestamp   244126 non-null  int64 \n",
      " 3   group       244126 non-null  int64 \n",
      "dtypes: int64(3), object(1)\n",
      "memory usage: 7.5+ MB\n"
     ]
    }
   ],
   "source": [
    "data.info()"
   ]
  },
  {
   "cell_type": "markdown",
   "id": "910d8d98",
   "metadata": {},
   "source": [
    "<a id=missing_values></a>"
   ]
  },
  {
   "cell_type": "markdown",
   "id": "eb7df894",
   "metadata": {},
   "source": [
    "Great! Let's check for missing values and duplicates:"
   ]
  },
  {
   "cell_type": "code",
   "execution_count": 9,
   "id": "385aecf4",
   "metadata": {},
   "outputs": [
    {
     "data": {
      "text/plain": [
       "event_name    0\n",
       "user_id       0\n",
       "timestamp     0\n",
       "group         0\n",
       "dtype: int64"
      ]
     },
     "execution_count": 9,
     "metadata": {},
     "output_type": "execute_result"
    }
   ],
   "source": [
    "data.isnull().sum()"
   ]
  },
  {
   "cell_type": "code",
   "execution_count": 10,
   "id": "704348cb",
   "metadata": {},
   "outputs": [
    {
     "data": {
      "text/plain": [
       "413"
      ]
     },
     "execution_count": 10,
     "metadata": {},
     "output_type": "execute_result"
    }
   ],
   "source": [
    "data.duplicated().sum()"
   ]
  },
  {
   "cell_type": "markdown",
   "id": "54aee64e",
   "metadata": {},
   "source": [
    "On the one hand, We have no missing values, but on the other hand, we have 413 duplicates! Let's check if they have anything in common:"
   ]
  },
  {
   "cell_type": "code",
   "execution_count": 11,
   "id": "45867c01",
   "metadata": {},
   "outputs": [
    {
     "data": {
      "text/html": [
       "<div>\n",
       "<style scoped>\n",
       "    .dataframe tbody tr th:only-of-type {\n",
       "        vertical-align: middle;\n",
       "    }\n",
       "\n",
       "    .dataframe tbody tr th {\n",
       "        vertical-align: top;\n",
       "    }\n",
       "\n",
       "    .dataframe thead th {\n",
       "        text-align: right;\n",
       "    }\n",
       "</style>\n",
       "<table border=\"1\" class=\"dataframe\">\n",
       "  <thead>\n",
       "    <tr style=\"text-align: right;\">\n",
       "      <th></th>\n",
       "      <th>event_name</th>\n",
       "      <th>user_id</th>\n",
       "      <th>timestamp</th>\n",
       "      <th>group</th>\n",
       "    </tr>\n",
       "  </thead>\n",
       "  <tbody>\n",
       "    <tr>\n",
       "      <th>453</th>\n",
       "      <td>MainScreenAppear</td>\n",
       "      <td>5613408041324010552</td>\n",
       "      <td>1564474784</td>\n",
       "      <td>248</td>\n",
       "    </tr>\n",
       "    <tr>\n",
       "      <th>2350</th>\n",
       "      <td>CartScreenAppear</td>\n",
       "      <td>1694940645335807244</td>\n",
       "      <td>1564609899</td>\n",
       "      <td>248</td>\n",
       "    </tr>\n",
       "    <tr>\n",
       "      <th>3573</th>\n",
       "      <td>MainScreenAppear</td>\n",
       "      <td>434103746454591587</td>\n",
       "      <td>1564628377</td>\n",
       "      <td>248</td>\n",
       "    </tr>\n",
       "    <tr>\n",
       "      <th>4076</th>\n",
       "      <td>MainScreenAppear</td>\n",
       "      <td>3761373764179762633</td>\n",
       "      <td>1564631266</td>\n",
       "      <td>247</td>\n",
       "    </tr>\n",
       "    <tr>\n",
       "      <th>4803</th>\n",
       "      <td>MainScreenAppear</td>\n",
       "      <td>2835328739789306622</td>\n",
       "      <td>1564634641</td>\n",
       "      <td>248</td>\n",
       "    </tr>\n",
       "  </tbody>\n",
       "</table>\n",
       "</div>"
      ],
      "text/plain": [
       "            event_name              user_id   timestamp  group\n",
       "453   MainScreenAppear  5613408041324010552  1564474784    248\n",
       "2350  CartScreenAppear  1694940645335807244  1564609899    248\n",
       "3573  MainScreenAppear   434103746454591587  1564628377    248\n",
       "4076  MainScreenAppear  3761373764179762633  1564631266    247\n",
       "4803  MainScreenAppear  2835328739789306622  1564634641    248"
      ]
     },
     "execution_count": 11,
     "metadata": {},
     "output_type": "execute_result"
    }
   ],
   "source": [
    "data[data.duplicated()].head()"
   ]
  },
  {
   "cell_type": "markdown",
   "id": "17694db6",
   "metadata": {},
   "source": [
    "Seems like they have nothing in common. Probably it's just a bug. Let's inform the developers and delete the duplicates:"
   ]
  },
  {
   "cell_type": "code",
   "execution_count": 12,
   "id": "486eb945",
   "metadata": {},
   "outputs": [],
   "source": [
    "data = data.drop_duplicates().reset_index(drop = True)"
   ]
  },
  {
   "cell_type": "code",
   "execution_count": 13,
   "id": "35da4a11",
   "metadata": {},
   "outputs": [
    {
     "data": {
      "text/plain": [
       "0"
      ]
     },
     "execution_count": 13,
     "metadata": {},
     "output_type": "execute_result"
    }
   ],
   "source": [
    "data.duplicated().sum()"
   ]
  },
  {
   "cell_type": "markdown",
   "id": "1108cd10",
   "metadata": {},
   "source": [
    "Great! No duplicates. Let's check the 'expid' column for weird values:"
   ]
  },
  {
   "cell_type": "code",
   "execution_count": 14,
   "id": "bf0cda82",
   "metadata": {},
   "outputs": [
    {
     "data": {
      "text/plain": [
       "248    85582\n",
       "246    80181\n",
       "247    77950\n",
       "Name: group, dtype: int64"
      ]
     },
     "execution_count": 14,
     "metadata": {},
     "output_type": "execute_result"
    }
   ],
   "source": [
    "data['group'].value_counts()"
   ]
  },
  {
   "cell_type": "markdown",
   "id": "a25abb8a",
   "metadata": {},
   "source": [
    "<a id=column_datatypes></a>"
   ]
  },
  {
   "cell_type": "markdown",
   "id": "5cd69463",
   "metadata": {},
   "source": [
    "The group sizes look good. Let's turn the column to categorical:"
   ]
  },
  {
   "cell_type": "code",
   "execution_count": 15,
   "id": "3057016b",
   "metadata": {},
   "outputs": [],
   "source": [
    "data['group'] = data['group'].astype('category')"
   ]
  },
  {
   "cell_type": "markdown",
   "id": "dd337f7b",
   "metadata": {},
   "source": [
    "Great! Let's check the event name and see if all values add up there:"
   ]
  },
  {
   "cell_type": "code",
   "execution_count": 16,
   "id": "9ce15d83",
   "metadata": {
    "scrolled": false
   },
   "outputs": [
    {
     "data": {
      "text/plain": [
       "MainScreenAppear           119101\n",
       "OffersScreenAppear          46808\n",
       "CartScreenAppear            42668\n",
       "PaymentScreenSuccessful     34118\n",
       "Tutorial                     1018\n",
       "Name: event_name, dtype: int64"
      ]
     },
     "execution_count": 16,
     "metadata": {},
     "output_type": "execute_result"
    }
   ],
   "source": [
    "data['event_name'].value_counts()"
   ]
  },
  {
   "cell_type": "markdown",
   "id": "b0877055",
   "metadata": {},
   "source": [
    "Looks like we can turn this into category too. Let's do that:"
   ]
  },
  {
   "cell_type": "code",
   "execution_count": 17,
   "id": "8b40ca83",
   "metadata": {},
   "outputs": [],
   "source": [
    "data['event_name'] = data['event_name'].astype('category')"
   ]
  },
  {
   "cell_type": "code",
   "execution_count": 18,
   "id": "bcb9b71b",
   "metadata": {
    "scrolled": false
   },
   "outputs": [
    {
     "name": "stdout",
     "output_type": "stream",
     "text": [
      "<class 'pandas.core.frame.DataFrame'>\n",
      "RangeIndex: 243713 entries, 0 to 243712\n",
      "Data columns (total 4 columns):\n",
      " #   Column      Non-Null Count   Dtype   \n",
      "---  ------      --------------   -----   \n",
      " 0   event_name  243713 non-null  category\n",
      " 1   user_id     243713 non-null  int64   \n",
      " 2   timestamp   243713 non-null  int64   \n",
      " 3   group       243713 non-null  category\n",
      "dtypes: category(2), int64(2)\n",
      "memory usage: 4.2 MB\n"
     ]
    }
   ],
   "source": [
    "data.info()"
   ]
  },
  {
   "cell_type": "markdown",
   "id": "519af679",
   "metadata": {},
   "source": [
    "<a id=date_column></a>"
   ]
  },
  {
   "cell_type": "markdown",
   "id": "1419e548",
   "metadata": {},
   "source": [
    "Now, let's create a column for the date:"
   ]
  },
  {
   "cell_type": "code",
   "execution_count": 19,
   "id": "29784790",
   "metadata": {},
   "outputs": [],
   "source": [
    "data['datetime'] = [dt.fromtimestamp(x) for x in data['timestamp']]"
   ]
  },
  {
   "cell_type": "markdown",
   "id": "df3e8695",
   "metadata": {},
   "source": [
    "Let's create a new column only for dates:"
   ]
  },
  {
   "cell_type": "code",
   "execution_count": 20,
   "id": "1a84e508",
   "metadata": {},
   "outputs": [],
   "source": [
    "data['date'] = data['datetime'].dt.date.astype('datetime64')"
   ]
  },
  {
   "cell_type": "code",
   "execution_count": 21,
   "id": "97321d99",
   "metadata": {},
   "outputs": [
    {
     "data": {
      "text/plain": [
       "0        2019-07-25\n",
       "1        2019-07-25\n",
       "2        2019-07-25\n",
       "3        2019-07-25\n",
       "4        2019-07-25\n",
       "            ...    \n",
       "243708   2019-08-08\n",
       "243709   2019-08-08\n",
       "243710   2019-08-08\n",
       "243711   2019-08-08\n",
       "243712   2019-08-08\n",
       "Name: date, Length: 243713, dtype: datetime64[ns]"
      ]
     },
     "execution_count": 21,
     "metadata": {},
     "output_type": "execute_result"
    }
   ],
   "source": [
    "data['date']"
   ]
  },
  {
   "cell_type": "markdown",
   "id": "f0b82888",
   "metadata": {},
   "source": [
    "Looks good!"
   ]
  },
  {
   "cell_type": "markdown",
   "id": "8aabd74b",
   "metadata": {},
   "source": [
    "### Conclusion:\n",
    "\n",
    "Let's summarize what we did in this part:\n",
    "- We changed column names.\n",
    "- We checked for missing values and found that we didn't have any.\n",
    "- We found duplicates in the data and deleted them.\n",
    "- We changed the datatypes of the 'event_name' and 'group' columns from 'object' to 'category'.\n",
    "- We created 2 new columns: 'datetime' - The date and time of the event, 'date' the date of the event. "
   ]
  },
  {
   "cell_type": "markdown",
   "id": "a82412bc",
   "metadata": {},
   "source": [
    "---"
   ]
  },
  {
   "cell_type": "markdown",
   "id": "b91f5b78",
   "metadata": {},
   "source": [
    "<a id=part_3></a>"
   ]
  },
  {
   "cell_type": "markdown",
   "id": "d1beb2c9",
   "metadata": {},
   "source": [
    "# Part 3. Study and check the data"
   ]
  },
  {
   "cell_type": "markdown",
   "id": "c25e671d",
   "metadata": {},
   "source": [
    "<a id=3.1></a>"
   ]
  },
  {
   "cell_type": "markdown",
   "id": "34611ec6",
   "metadata": {},
   "source": [
    "### 3.1 How many events are in the logs?"
   ]
  },
  {
   "cell_type": "markdown",
   "id": "4dd7b484",
   "metadata": {},
   "source": [
    "Let's check the total number of events we have:"
   ]
  },
  {
   "cell_type": "code",
   "execution_count": 22,
   "id": "838135a9",
   "metadata": {},
   "outputs": [
    {
     "name": "stdout",
     "output_type": "stream",
     "text": [
      "There are 243713 events in total\n"
     ]
    }
   ],
   "source": [
    "event_num = len(data)\n",
    "print(f'There are {event_num} events in total')"
   ]
  },
  {
   "cell_type": "markdown",
   "id": "dc9bd33e",
   "metadata": {},
   "source": [
    "We have 243,713 events, a lot to work with."
   ]
  },
  {
   "cell_type": "markdown",
   "id": "5e88adc0",
   "metadata": {},
   "source": [
    "<a id=3.2></a>"
   ]
  },
  {
   "cell_type": "markdown",
   "id": "038c8cfd",
   "metadata": {},
   "source": [
    "### 3.2 How many users are in the logs?"
   ]
  },
  {
   "cell_type": "markdown",
   "id": "49dab403",
   "metadata": {},
   "source": [
    "Let's check the number of users:"
   ]
  },
  {
   "cell_type": "code",
   "execution_count": 23,
   "id": "768aee22",
   "metadata": {},
   "outputs": [
    {
     "name": "stdout",
     "output_type": "stream",
     "text": [
      "There are 7551 users in total\n"
     ]
    }
   ],
   "source": [
    "user_num = data['user_id'].nunique()\n",
    "print(f'There are {user_num} users in total')"
   ]
  },
  {
   "cell_type": "markdown",
   "id": "b2b8259c",
   "metadata": {},
   "source": [
    "7551 users in total."
   ]
  },
  {
   "cell_type": "markdown",
   "id": "7a373dca",
   "metadata": {},
   "source": [
    "<a id=3.3></a>"
   ]
  },
  {
   "cell_type": "markdown",
   "id": "ee19c98d",
   "metadata": {},
   "source": [
    "### 3.3 What's the average number of events per user?"
   ]
  },
  {
   "cell_type": "code",
   "execution_count": 24,
   "id": "3243422e",
   "metadata": {},
   "outputs": [
    {
     "name": "stdout",
     "output_type": "stream",
     "text": [
      "The average events per user is: 32.27559263673685\n"
     ]
    }
   ],
   "source": [
    "print(f'The average events per user is: {event_num / user_num}')"
   ]
  },
  {
   "cell_type": "markdown",
   "id": "5bb64f9b",
   "metadata": {},
   "source": [
    "On average, each user does 32.275 actions on the website. This is quite a large number which is a good sign!"
   ]
  },
  {
   "cell_type": "markdown",
   "id": "345d1643",
   "metadata": {},
   "source": [
    "Let's check the distribution of the data:"
   ]
  },
  {
   "cell_type": "code",
   "execution_count": 25,
   "id": "5f8cea36",
   "metadata": {},
   "outputs": [
    {
     "data": {
      "image/png": "[encoded data removed]",
      "text/plain": [
       "<Figure size 432x288 with 1 Axes>"
      ]
     },
     "metadata": {
      "needs_background": "light"
     },
     "output_type": "display_data"
    }
   ],
   "source": [
    "events_per_user = data.groupby('user_id', as_index = False).agg({'event_name':'count'})\n",
    "events_per_user['event_name'].hist(bins = 30)\n",
    "plt.title(\"Distribution of events per user\")\n",
    "plt.xlabel(\"Events per user\");"
   ]
  },
  {
   "cell_type": "markdown",
   "id": "2459eb3e",
   "metadata": {},
   "source": [
    "It seems we have some big outlines! Let's check the mode of events per user:"
   ]
  },
  {
   "cell_type": "code",
   "execution_count": 26,
   "id": "76c3375b",
   "metadata": {},
   "outputs": [
    {
     "name": "stdout",
     "output_type": "stream",
     "text": [
      "The mode of events per user is: 5\n"
     ]
    }
   ],
   "source": [
    "event_med = events_per_user['event_name'].mode()[0]\n",
    "print(f'The mode of events per user is: {event_med}')"
   ]
  },
  {
   "cell_type": "markdown",
   "id": "c6ec6a05",
   "metadata": {},
   "source": [
    "We can see that most people did 5 events in our website. This isn't a very good sign and we should analyze why do most people not do a lot of actions. Maybe the time period is too small for customers to return."
   ]
  },
  {
   "cell_type": "markdown",
   "id": "832f7e90",
   "metadata": {},
   "source": [
    "<a id=3.4></a>"
   ]
  },
  {
   "cell_type": "markdown",
   "id": "448183d1",
   "metadata": {},
   "source": [
    "### 3.4 What period of time does the data cover?"
   ]
  },
  {
   "cell_type": "markdown",
   "id": "9855cf90",
   "metadata": {},
   "source": [
    "Let's check the maximum and minimum dates:"
   ]
  },
  {
   "cell_type": "code",
   "execution_count": 27,
   "id": "2cd912bd",
   "metadata": {},
   "outputs": [
    {
     "data": {
      "text/plain": [
       "Timestamp('2019-08-08 00:00:00')"
      ]
     },
     "execution_count": 27,
     "metadata": {},
     "output_type": "execute_result"
    }
   ],
   "source": [
    "data['date'].max()"
   ]
  },
  {
   "cell_type": "code",
   "execution_count": 28,
   "id": "ea015543",
   "metadata": {},
   "outputs": [
    {
     "data": {
      "text/plain": [
       "Timestamp('2019-07-25 00:00:00')"
      ]
     },
     "execution_count": 28,
     "metadata": {},
     "output_type": "execute_result"
    }
   ],
   "source": [
    "data['date'].min()"
   ]
  },
  {
   "cell_type": "markdown",
   "id": "3843c669",
   "metadata": {},
   "source": [
    "We can see from this that our data covers a 2 week span: from the 25\\07\\2019 untill 08\\08\\2019. Let's check the ditribution of those dates:"
   ]
  },
  {
   "cell_type": "code",
   "execution_count": 29,
   "id": "9f445af5",
   "metadata": {},
   "outputs": [
    {
     "data": {
      "image/png": "[encoded data removed]",
      "text/plain": [
       "<Figure size 720x720 with 1 Axes>"
      ]
     },
     "metadata": {
      "needs_background": "light"
     },
     "output_type": "display_data"
    }
   ],
   "source": [
    "data['datetime'].hist(bins = 20,figsize = (10,10), edgecolor = 'black')\n",
    "plt.title('Date distribution')\n",
    "plt.xlabel('Dates')\n",
    "plt.ylabel('Number of times in the data');"
   ]
  },
  {
   "cell_type": "markdown",
   "id": "cf542435",
   "metadata": {},
   "source": [
    "It looks like our data is not distributed right. Older events probably ended up in some users' logs for technical reasons, and this skewed the overall picture. Let's find the time where the data begins to even up:"
   ]
  },
  {
   "cell_type": "code",
   "execution_count": 30,
   "id": "29490980",
   "metadata": {},
   "outputs": [
    {
     "data": {
      "text/plain": [
       "date\n",
       "2019-07-25        9\n",
       "2019-07-26       30\n",
       "2019-07-27       55\n",
       "2019-07-28      104\n",
       "2019-07-29      181\n",
       "2019-07-30      397\n",
       "2019-07-31     1213\n",
       "2019-08-01    35767\n",
       "2019-08-02    35571\n",
       "2019-08-03    33602\n",
       "2019-08-04    32583\n",
       "2019-08-05    36075\n",
       "2019-08-06    36270\n",
       "2019-08-07    31788\n",
       "2019-08-08       68\n",
       "Name: user_id, dtype: int64"
      ]
     },
     "execution_count": 30,
     "metadata": {},
     "output_type": "execute_result"
    }
   ],
   "source": [
    "data.groupby('date')['user_id'].count()"
   ]
  },
  {
   "cell_type": "markdown",
   "id": "9a8aa415",
   "metadata": {},
   "source": [
    "We can see that the data we have is acctually a week period: from 01/08/2019 untill 07/08/2019. Let's filter our data accordingly:"
   ]
  },
  {
   "cell_type": "code",
   "execution_count": 31,
   "id": "2f44137e",
   "metadata": {},
   "outputs": [],
   "source": [
    "filtered_data = data.loc[(data['date'] >= '2019-08-01') & (data['date'] <= '2019-08-07')]"
   ]
  },
  {
   "cell_type": "markdown",
   "id": "2926ff9f",
   "metadata": {},
   "source": [
    "Let's check how many events we lost in the filtered data:"
   ]
  },
  {
   "cell_type": "code",
   "execution_count": 32,
   "id": "39d662b2",
   "metadata": {},
   "outputs": [
    {
     "name": "stdout",
     "output_type": "stream",
     "text": [
      "Amount of events lost in new data: 2057\n",
      "The percentage of events lost in new data:0.84%\n"
     ]
    }
   ],
   "source": [
    "new_event_num = len(filtered_data)\n",
    "print(\"Amount of events lost in new data:\",event_num - new_event_num)\n",
    "print(\"The percentage of events lost in new data:{:.2%}\".format((event_num - new_event_num) / event_num))"
   ]
  },
  {
   "cell_type": "markdown",
   "id": "bd1fe95a",
   "metadata": {},
   "source": [
    "We lost 2057 events, which makes it 0.84% of the original data. Out of nearly 250,000 events, this is a very small portion. Let's check how many users we lost:"
   ]
  },
  {
   "cell_type": "code",
   "execution_count": 33,
   "id": "21c5cfcd",
   "metadata": {},
   "outputs": [
    {
     "name": "stdout",
     "output_type": "stream",
     "text": [
      "Number of users lost in new data: 13\n",
      "The percentage of users lost in new data:0.17%\n"
     ]
    }
   ],
   "source": [
    "new_user_num = filtered_data['user_id'].nunique()\n",
    "print(\"Number of users lost in new data:\",user_num - new_user_num)\n",
    "print(\"The percentage of users lost in new data:{:.2%}\".format((user_num - new_user_num) / user_num))"
   ]
  },
  {
   "cell_type": "markdown",
   "id": "68761676",
   "metadata": {},
   "source": [
    "We lost 13 users out of 7551, which makes it 0.17% of the old data. That is also a very small amount. We can say that the ratio of events per user is quite the same. "
   ]
  },
  {
   "cell_type": "markdown",
   "id": "197ea8da",
   "metadata": {},
   "source": [
    "<a id=3.5></a>"
   ]
  },
  {
   "cell_type": "markdown",
   "id": "7aab584b",
   "metadata": {},
   "source": [
    "### 3.5 Users in groups"
   ]
  },
  {
   "cell_type": "markdown",
   "id": "918a721b",
   "metadata": {},
   "source": [
    "Let's check if we have users in all groups:"
   ]
  },
  {
   "cell_type": "code",
   "execution_count": 34,
   "id": "9b433ab3",
   "metadata": {},
   "outputs": [
    {
     "data": {
      "text/plain": [
       "group\n",
       "246    2484\n",
       "247    2517\n",
       "248    2537\n",
       "Name: user_id, dtype: int64"
      ]
     },
     "execution_count": 34,
     "metadata": {},
     "output_type": "execute_result"
    }
   ],
   "source": [
    "filtered_data.groupby('group')['user_id'].nunique()"
   ]
  },
  {
   "cell_type": "markdown",
   "id": "ba9478aa",
   "metadata": {},
   "source": [
    "We can see we have unique users in each group. Let's check if there are any users that are in more than 1 group:"
   ]
  },
  {
   "cell_type": "code",
   "execution_count": 35,
   "id": "937fc81d",
   "metadata": {},
   "outputs": [
    {
     "data": {
      "text/plain": [
       "0"
      ]
     },
     "execution_count": 35,
     "metadata": {},
     "output_type": "execute_result"
    }
   ],
   "source": [
    "uniq_group_users = filtered_data.groupby('group')['user_id'].nunique().sum()\n",
    "uniq_group_users - new_user_num"
   ]
  },
  {
   "cell_type": "markdown",
   "id": "9394e21f",
   "metadata": {},
   "source": [
    "We see that the sum of all of the groups unique users equals the sum of all the experiments unique users. This means we don't have any user who is on both groups. We can go on to the analysis."
   ]
  },
  {
   "cell_type": "markdown",
   "id": "ffc0f90f",
   "metadata": {},
   "source": [
    "### Conclusion:\n",
    "\n",
    "Let's summurize what we did in this part:\n",
    "- We calculated the number of users, number of events and the number of events per user\n",
    "- We checked the distribution of the data according to dates, and filtered the data accordingly.\n",
    "- We checked how many users are in each data group and if there are any users on both groups.\n",
    "\n",
    "We discovered that:\n",
    "- Most users complete only 5 events on the website.\n",
    "- The dates that we will work with only consist of a week: 01/08/19 - 07/08/2019."
   ]
  },
  {
   "cell_type": "markdown",
   "id": "3b3230c0",
   "metadata": {},
   "source": [
    "<a id=4></a>"
   ]
  },
  {
   "cell_type": "markdown",
   "id": "128b765f",
   "metadata": {},
   "source": [
    "# Part 4: Event Funnel"
   ]
  },
  {
   "cell_type": "markdown",
   "id": "0f2b7173",
   "metadata": {},
   "source": [
    "Let's check our events and their frequency:"
   ]
  },
  {
   "cell_type": "code",
   "execution_count": 36,
   "id": "b6b1d26e",
   "metadata": {},
   "outputs": [
    {
     "data": {
      "text/plain": [
       "MainScreenAppear           117850\n",
       "OffersScreenAppear          46509\n",
       "CartScreenAppear            42338\n",
       "PaymentScreenSuccessful     33949\n",
       "Tutorial                     1010\n",
       "Name: event_name, dtype: int64"
      ]
     },
     "execution_count": 36,
     "metadata": {},
     "output_type": "execute_result"
    }
   ],
   "source": [
    "filtered_data['event_name'].value_counts()"
   ]
  },
  {
   "cell_type": "markdown",
   "id": "e98f9576",
   "metadata": {},
   "source": [
    "We can see we have 5 events: 1. Main screen 2.Offers screen 3.Cart screen 4. Payment successful screen 5.Tutorial"
   ]
  },
  {
   "cell_type": "markdown",
   "id": "0c2e4490",
   "metadata": {},
   "source": [
    "Let's check the number of users that did each event at least once:"
   ]
  },
  {
   "cell_type": "code",
   "execution_count": 37,
   "id": "bad0be4f",
   "metadata": {},
   "outputs": [
    {
     "data": {
      "text/html": [
       "<div>\n",
       "<style scoped>\n",
       "    .dataframe tbody tr th:only-of-type {\n",
       "        vertical-align: middle;\n",
       "    }\n",
       "\n",
       "    .dataframe tbody tr th {\n",
       "        vertical-align: top;\n",
       "    }\n",
       "\n",
       "    .dataframe thead th {\n",
       "        text-align: right;\n",
       "    }\n",
       "</style>\n",
       "<table border=\"1\" class=\"dataframe\">\n",
       "  <thead>\n",
       "    <tr style=\"text-align: right;\">\n",
       "      <th></th>\n",
       "      <th>event_name</th>\n",
       "      <th>number_of_users</th>\n",
       "    </tr>\n",
       "  </thead>\n",
       "  <tbody>\n",
       "    <tr>\n",
       "      <th>0</th>\n",
       "      <td>MainScreenAppear</td>\n",
       "      <td>7423</td>\n",
       "    </tr>\n",
       "    <tr>\n",
       "      <th>1</th>\n",
       "      <td>OffersScreenAppear</td>\n",
       "      <td>4596</td>\n",
       "    </tr>\n",
       "    <tr>\n",
       "      <th>2</th>\n",
       "      <td>CartScreenAppear</td>\n",
       "      <td>3736</td>\n",
       "    </tr>\n",
       "    <tr>\n",
       "      <th>3</th>\n",
       "      <td>PaymentScreenSuccessful</td>\n",
       "      <td>3540</td>\n",
       "    </tr>\n",
       "    <tr>\n",
       "      <th>4</th>\n",
       "      <td>Tutorial</td>\n",
       "      <td>843</td>\n",
       "    </tr>\n",
       "  </tbody>\n",
       "</table>\n",
       "</div>"
      ],
      "text/plain": [
       "                event_name  number_of_users\n",
       "0         MainScreenAppear             7423\n",
       "1       OffersScreenAppear             4596\n",
       "2         CartScreenAppear             3736\n",
       "3  PaymentScreenSuccessful             3540\n",
       "4                 Tutorial              843"
      ]
     },
     "execution_count": 37,
     "metadata": {},
     "output_type": "execute_result"
    }
   ],
   "source": [
    "users_per_event = filtered_data.groupby('event_name').agg({'user_id': 'nunique'}).sort_values(by = 'user_id',ascending = False).reset_index()\n",
    "users_per_event.columns = ['event_name','number_of_users']\n",
    "users_per_event"
   ]
  },
  {
   "cell_type": "markdown",
   "id": "90b542b6",
   "metadata": {},
   "source": [
    "Let's calculate the proportion of users that completed each event:"
   ]
  },
  {
   "cell_type": "code",
   "execution_count": 38,
   "id": "46233ed5",
   "metadata": {},
   "outputs": [
    {
     "data": {
      "text/html": [
       "<div>\n",
       "<style scoped>\n",
       "    .dataframe tbody tr th:only-of-type {\n",
       "        vertical-align: middle;\n",
       "    }\n",
       "\n",
       "    .dataframe tbody tr th {\n",
       "        vertical-align: top;\n",
       "    }\n",
       "\n",
       "    .dataframe thead th {\n",
       "        text-align: right;\n",
       "    }\n",
       "</style>\n",
       "<table border=\"1\" class=\"dataframe\">\n",
       "  <thead>\n",
       "    <tr style=\"text-align: right;\">\n",
       "      <th></th>\n",
       "      <th>event_name</th>\n",
       "      <th>number_of_users</th>\n",
       "      <th>general_ratio</th>\n",
       "    </tr>\n",
       "  </thead>\n",
       "  <tbody>\n",
       "    <tr>\n",
       "      <th>0</th>\n",
       "      <td>MainScreenAppear</td>\n",
       "      <td>7423</td>\n",
       "      <td>98.47%</td>\n",
       "    </tr>\n",
       "    <tr>\n",
       "      <th>1</th>\n",
       "      <td>OffersScreenAppear</td>\n",
       "      <td>4596</td>\n",
       "      <td>60.97%</td>\n",
       "    </tr>\n",
       "    <tr>\n",
       "      <th>2</th>\n",
       "      <td>CartScreenAppear</td>\n",
       "      <td>3736</td>\n",
       "      <td>49.56%</td>\n",
       "    </tr>\n",
       "    <tr>\n",
       "      <th>3</th>\n",
       "      <td>PaymentScreenSuccessful</td>\n",
       "      <td>3540</td>\n",
       "      <td>46.96%</td>\n",
       "    </tr>\n",
       "    <tr>\n",
       "      <th>4</th>\n",
       "      <td>Tutorial</td>\n",
       "      <td>843</td>\n",
       "      <td>11.18%</td>\n",
       "    </tr>\n",
       "  </tbody>\n",
       "</table>\n",
       "</div>"
      ],
      "text/plain": [
       "                event_name  number_of_users general_ratio\n",
       "0         MainScreenAppear             7423        98.47%\n",
       "1       OffersScreenAppear             4596        60.97%\n",
       "2         CartScreenAppear             3736        49.56%\n",
       "3  PaymentScreenSuccessful             3540        46.96%\n",
       "4                 Tutorial              843        11.18%"
      ]
     },
     "execution_count": 38,
     "metadata": {},
     "output_type": "execute_result"
    }
   ],
   "source": [
    "users_per_event['general_ratio'] = users_per_event['number_of_users'] / new_user_num\n",
    "users_per_event['general_ratio'] = pd.Series([\"{0:.2f}%\".format(val * 100) for val in users_per_event['general_ratio']], index = users_per_event.index)\n",
    "users_per_event"
   ]
  },
  {
   "cell_type": "markdown",
   "id": "d79fd617",
   "metadata": {},
   "source": [
    "We can see a few interesting things in the data: First, not all users came through the main screen. Some probably came from a different source. Next, a very small amount of people used the tutorial. Maybe it isn't that neccerery, or there are bugs in it. It looks like the regular funnel is: main screen, offers screen, cart screen, payment successful screen. The tutorial dosen't seem to be connected to our funnel, so we'll continue the calculations without it."
   ]
  },
  {
   "cell_type": "code",
   "execution_count": 39,
   "id": "abef1332",
   "metadata": {},
   "outputs": [],
   "source": [
    "funnel = users_per_event.loc[0:3]"
   ]
  },
  {
   "cell_type": "code",
   "execution_count": 40,
   "id": "0738c005",
   "metadata": {},
   "outputs": [
    {
     "data": {
      "text/html": [
       "<div>\n",
       "<style scoped>\n",
       "    .dataframe tbody tr th:only-of-type {\n",
       "        vertical-align: middle;\n",
       "    }\n",
       "\n",
       "    .dataframe tbody tr th {\n",
       "        vertical-align: top;\n",
       "    }\n",
       "\n",
       "    .dataframe thead th {\n",
       "        text-align: right;\n",
       "    }\n",
       "</style>\n",
       "<table border=\"1\" class=\"dataframe\">\n",
       "  <thead>\n",
       "    <tr style=\"text-align: right;\">\n",
       "      <th></th>\n",
       "      <th>event_name</th>\n",
       "      <th>number_of_users</th>\n",
       "      <th>general_ratio</th>\n",
       "    </tr>\n",
       "  </thead>\n",
       "  <tbody>\n",
       "    <tr>\n",
       "      <th>0</th>\n",
       "      <td>MainScreenAppear</td>\n",
       "      <td>7423</td>\n",
       "      <td>98.47%</td>\n",
       "    </tr>\n",
       "    <tr>\n",
       "      <th>1</th>\n",
       "      <td>OffersScreenAppear</td>\n",
       "      <td>4596</td>\n",
       "      <td>60.97%</td>\n",
       "    </tr>\n",
       "    <tr>\n",
       "      <th>2</th>\n",
       "      <td>CartScreenAppear</td>\n",
       "      <td>3736</td>\n",
       "      <td>49.56%</td>\n",
       "    </tr>\n",
       "    <tr>\n",
       "      <th>3</th>\n",
       "      <td>PaymentScreenSuccessful</td>\n",
       "      <td>3540</td>\n",
       "      <td>46.96%</td>\n",
       "    </tr>\n",
       "  </tbody>\n",
       "</table>\n",
       "</div>"
      ],
      "text/plain": [
       "                event_name  number_of_users general_ratio\n",
       "0         MainScreenAppear             7423        98.47%\n",
       "1       OffersScreenAppear             4596        60.97%\n",
       "2         CartScreenAppear             3736        49.56%\n",
       "3  PaymentScreenSuccessful             3540        46.96%"
      ]
     },
     "execution_count": 40,
     "metadata": {},
     "output_type": "execute_result"
    }
   ],
   "source": [
    "funnel"
   ]
  },
  {
   "cell_type": "markdown",
   "id": "a2038e90",
   "metadata": {},
   "source": [
    "Let's plot our funnel graph:"
   ]
  },
  {
   "cell_type": "code",
   "execution_count": 54,
   "id": "f96d74ad",
   "metadata": {},
   "outputs": [],
   "source": [
    "fig = go.Figure(go.Funnel(\n",
    "    y = funnel['event_name'],\n",
    "    x = funnel['number_of_users'],\n",
    "    ))\n",
    "fig.update_layout(title = 'Event funnel')\n",
    "fig.write_html(\"index.html\", include_plotlyjs='cdn')"
   ]
  },
  {
   "cell_type": "markdown",
   "id": "3e3f908c",
   "metadata": {},
   "source": [
    "Let's calculate the ratioof users that were lost on each stage in the funnel:"
   ]
  },
  {
   "cell_type": "code",
   "execution_count": 42,
   "id": "49d44af7",
   "metadata": {},
   "outputs": [
    {
     "data": {
      "text/html": [
       "<div>\n",
       "<style scoped>\n",
       "    .dataframe tbody tr th:only-of-type {\n",
       "        vertical-align: middle;\n",
       "    }\n",
       "\n",
       "    .dataframe tbody tr th {\n",
       "        vertical-align: top;\n",
       "    }\n",
       "\n",
       "    .dataframe thead th {\n",
       "        text-align: right;\n",
       "    }\n",
       "</style>\n",
       "<table border=\"1\" class=\"dataframe\">\n",
       "  <thead>\n",
       "    <tr style=\"text-align: right;\">\n",
       "      <th></th>\n",
       "      <th>event_name</th>\n",
       "      <th>number_of_users</th>\n",
       "      <th>general_ratio</th>\n",
       "      <th>stay_ratio</th>\n",
       "    </tr>\n",
       "  </thead>\n",
       "  <tbody>\n",
       "    <tr>\n",
       "      <th>0</th>\n",
       "      <td>MainScreenAppear</td>\n",
       "      <td>7423</td>\n",
       "      <td>98.47%</td>\n",
       "      <td>100.00%</td>\n",
       "    </tr>\n",
       "    <tr>\n",
       "      <th>1</th>\n",
       "      <td>OffersScreenAppear</td>\n",
       "      <td>4596</td>\n",
       "      <td>60.97%</td>\n",
       "      <td>61.92%</td>\n",
       "    </tr>\n",
       "    <tr>\n",
       "      <th>2</th>\n",
       "      <td>CartScreenAppear</td>\n",
       "      <td>3736</td>\n",
       "      <td>49.56%</td>\n",
       "      <td>81.29%</td>\n",
       "    </tr>\n",
       "    <tr>\n",
       "      <th>3</th>\n",
       "      <td>PaymentScreenSuccessful</td>\n",
       "      <td>3540</td>\n",
       "      <td>46.96%</td>\n",
       "      <td>94.75%</td>\n",
       "    </tr>\n",
       "  </tbody>\n",
       "</table>\n",
       "</div>"
      ],
      "text/plain": [
       "                event_name  number_of_users general_ratio stay_ratio\n",
       "0         MainScreenAppear             7423        98.47%    100.00%\n",
       "1       OffersScreenAppear             4596        60.97%     61.92%\n",
       "2         CartScreenAppear             3736        49.56%     81.29%\n",
       "3  PaymentScreenSuccessful             3540        46.96%     94.75%"
      ]
     },
     "execution_count": 42,
     "metadata": {},
     "output_type": "execute_result"
    }
   ],
   "source": [
    "previous = funnel['number_of_users'][0]\n",
    "funnel['stay_ratio'] = 0\n",
    "for i in funnel.index:\n",
    "    funnel['stay_ratio'][i] = \"{:.2%}\".format(funnel['number_of_users'][i] / previous)\n",
    "    previous = funnel['number_of_users'][i]\n",
    "funnel"
   ]
  },
  {
   "cell_type": "markdown",
   "id": "e1f2c348",
   "metadata": {},
   "source": [
    "We can see that our main problem is getting people from the main screen to the offers screen: only 61% of people proceeded. Maybe the main page dosen't look appealing enough to users. This is definetly something we need to get into."
   ]
  },
  {
   "cell_type": "markdown",
   "id": "a9bb8350",
   "metadata": {},
   "source": [
    "Let's check the share of users that go through the whole funnel:"
   ]
  },
  {
   "cell_type": "code",
   "execution_count": 43,
   "id": "f806366c",
   "metadata": {},
   "outputs": [
    {
     "data": {
      "text/plain": [
       "'47.69%'"
      ]
     },
     "execution_count": 43,
     "metadata": {},
     "output_type": "execute_result"
    }
   ],
   "source": [
    "\"{:.2%}\".format(funnel['number_of_users'][3] / funnel['number_of_users'][0])"
   ]
  },
  {
   "cell_type": "markdown",
   "id": "b3747c7f",
   "metadata": {},
   "source": [
    "Only 47% completed the whole journey. This is a number we definetly can and should raise."
   ]
  },
  {
   "cell_type": "markdown",
   "id": "a57d2bcc",
   "metadata": {},
   "source": [
    "<a id=funnel_conclusion></a>"
   ]
  },
  {
   "cell_type": "markdown",
   "id": "b8bf4c5b",
   "metadata": {},
   "source": [
    "#### Conclusion"
   ]
  },
  {
   "cell_type": "markdown",
   "id": "c8d51874",
   "metadata": {},
   "source": [
    "Let's sum up what we did in this stage:\n",
    "- We sorted our events by frequency and checked the amount of users that did each event.\n",
    "- We found the general ratio of users that did each event.\n",
    "- We determined the regular customer funnel and calculated the share of users that proceed in each stage.\n",
    "- We found the amount of users that completed the whole funnel\n",
    "\n",
    "My analysis shows that:\n",
    "- Not all of the users go through the funnel: We don't have 100% on the main page.\n",
    "- The tutorial part is used by a small amount of users. \n",
    "- The stage with the lowest proceeding ratio is the Main page, with only 61% of it's visitors proceeding to the offers page.\n",
    "- The ratio of people that complete the funnel is 47.69%\n",
    "\n",
    "I can reccomend that:\n",
    "- We check why people are not going through our main page.\n",
    "- We check the tutorial page for any bugs.\n",
    "- We try and improve our main page so that it will be appealing to more of the customers. Maybe changing the font will help."
   ]
  },
  {
   "cell_type": "markdown",
   "id": "e4e6a9f9",
   "metadata": {},
   "source": [
    "<a id=5></a>"
   ]
  },
  {
   "cell_type": "markdown",
   "id": "cafab7ad",
   "metadata": {},
   "source": [
    "# Part 5: A/A/B test"
   ]
  },
  {
   "cell_type": "markdown",
   "id": "cbc2d225",
   "metadata": {},
   "source": [
    "Let's check the amount of users we have in each group:"
   ]
  },
  {
   "cell_type": "code",
   "execution_count": 44,
   "id": "28e3b072",
   "metadata": {},
   "outputs": [
    {
     "data": {
      "text/plain": [
       "group\n",
       "246    2484\n",
       "247    2517\n",
       "248    2537\n",
       "Name: user_id, dtype: int64"
      ]
     },
     "execution_count": 44,
     "metadata": {},
     "output_type": "execute_result"
    }
   ],
   "source": [
    "filtered_data.groupby('group')['user_id'].nunique()"
   ]
  },
  {
   "cell_type": "markdown",
   "id": "1fe864c0",
   "metadata": {},
   "source": [
    "We have 2484 users in group 246 (control group), 2517 in group 247 (control group), and 2537 in group 248 (test group)."
   ]
  },
  {
   "cell_type": "markdown",
   "id": "659f73eb",
   "metadata": {},
   "source": [
    "First, Let's make different datasets to our groups:"
   ]
  },
  {
   "cell_type": "code",
   "execution_count": 45,
   "id": "ce85cff2",
   "metadata": {},
   "outputs": [],
   "source": [
    "group_246 = filtered_data[filtered_data['group'] == 246].reset_index()\n",
    "group_247 = filtered_data[filtered_data['group'] == 247].reset_index()\n",
    "group_248 = filtered_data[filtered_data['group'] == 248].reset_index()"
   ]
  },
  {
   "cell_type": "code",
   "execution_count": 46,
   "id": "a580a209",
   "metadata": {},
   "outputs": [
    {
     "data": {
      "text/html": [
       "<div>\n",
       "<style scoped>\n",
       "    .dataframe tbody tr th:only-of-type {\n",
       "        vertical-align: middle;\n",
       "    }\n",
       "\n",
       "    .dataframe tbody tr th {\n",
       "        vertical-align: top;\n",
       "    }\n",
       "\n",
       "    .dataframe thead th {\n",
       "        text-align: right;\n",
       "    }\n",
       "</style>\n",
       "<table border=\"1\" class=\"dataframe\">\n",
       "  <thead>\n",
       "    <tr style=\"text-align: right;\">\n",
       "      <th></th>\n",
       "      <th>index</th>\n",
       "      <th>event_name</th>\n",
       "      <th>user_id</th>\n",
       "      <th>timestamp</th>\n",
       "      <th>group</th>\n",
       "      <th>datetime</th>\n",
       "      <th>date</th>\n",
       "    </tr>\n",
       "  </thead>\n",
       "  <tbody>\n",
       "    <tr>\n",
       "      <th>0</th>\n",
       "      <td>1995</td>\n",
       "      <td>OffersScreenAppear</td>\n",
       "      <td>3511569580412335882</td>\n",
       "      <td>1564607172</td>\n",
       "      <td>246</td>\n",
       "      <td>2019-08-01 00:06:12</td>\n",
       "      <td>2019-08-01</td>\n",
       "    </tr>\n",
       "    <tr>\n",
       "      <th>1</th>\n",
       "      <td>1996</td>\n",
       "      <td>OffersScreenAppear</td>\n",
       "      <td>3511569580412335882</td>\n",
       "      <td>1564607236</td>\n",
       "      <td>246</td>\n",
       "      <td>2019-08-01 00:07:16</td>\n",
       "      <td>2019-08-01</td>\n",
       "    </tr>\n",
       "    <tr>\n",
       "      <th>2</th>\n",
       "      <td>1998</td>\n",
       "      <td>OffersScreenAppear</td>\n",
       "      <td>5039418296347449582</td>\n",
       "      <td>1564607254</td>\n",
       "      <td>246</td>\n",
       "      <td>2019-08-01 00:07:34</td>\n",
       "      <td>2019-08-01</td>\n",
       "    </tr>\n",
       "    <tr>\n",
       "      <th>3</th>\n",
       "      <td>1999</td>\n",
       "      <td>MainScreenAppear</td>\n",
       "      <td>5252149879603423149</td>\n",
       "      <td>1564607260</td>\n",
       "      <td>246</td>\n",
       "      <td>2019-08-01 00:07:40</td>\n",
       "      <td>2019-08-01</td>\n",
       "    </tr>\n",
       "    <tr>\n",
       "      <th>4</th>\n",
       "      <td>2004</td>\n",
       "      <td>PaymentScreenSuccessful</td>\n",
       "      <td>5039418296347449582</td>\n",
       "      <td>1564607318</td>\n",
       "      <td>246</td>\n",
       "      <td>2019-08-01 00:08:38</td>\n",
       "      <td>2019-08-01</td>\n",
       "    </tr>\n",
       "  </tbody>\n",
       "</table>\n",
       "</div>"
      ],
      "text/plain": [
       "   index               event_name              user_id   timestamp group  \\\n",
       "0   1995       OffersScreenAppear  3511569580412335882  1564607172   246   \n",
       "1   1996       OffersScreenAppear  3511569580412335882  1564607236   246   \n",
       "2   1998       OffersScreenAppear  5039418296347449582  1564607254   246   \n",
       "3   1999         MainScreenAppear  5252149879603423149  1564607260   246   \n",
       "4   2004  PaymentScreenSuccessful  5039418296347449582  1564607318   246   \n",
       "\n",
       "             datetime       date  \n",
       "0 2019-08-01 00:06:12 2019-08-01  \n",
       "1 2019-08-01 00:07:16 2019-08-01  \n",
       "2 2019-08-01 00:07:34 2019-08-01  \n",
       "3 2019-08-01 00:07:40 2019-08-01  \n",
       "4 2019-08-01 00:08:38 2019-08-01  "
      ]
     },
     "execution_count": 46,
     "metadata": {},
     "output_type": "execute_result"
    }
   ],
   "source": [
    "group_246.head()"
   ]
  },
  {
   "cell_type": "markdown",
   "id": "a98432a4",
   "metadata": {},
   "source": [
    "Now, let's check if there is a statistical significanse to the diffrence between our 2 control groups. In order to do that, let's define a function for z- test:"
   ]
  },
  {
   "cell_type": "code",
   "execution_count": 47,
   "id": "0e9c7d18",
   "metadata": {},
   "outputs": [],
   "source": [
    "def z_test(list1, list2, alpha):\n",
    "    p1 = list1[1] / list1[0] \n",
    "    p2 = list2[1] / list2[0]\n",
    "    p_combined = (list1[1] + list2[1]) / (list1[0] + list2[0])\n",
    "    diff = p2 - p1\n",
    "    z_value = diff / mth.sqrt(p_combined * (1 - p_combined) * (1/list1[0] + 1/list2[0]))\n",
    "    distr = stats.norm(0, 1) \n",
    "    p_value = (1 - distr.cdf(abs(z_value))) * 2\n",
    "    return p_value"
   ]
  },
  {
   "cell_type": "markdown",
   "id": "4ae47311",
   "metadata": {},
   "source": [
    "Now, let's define a function that will get our trials and success for each group:"
   ]
  },
  {
   "cell_type": "code",
   "execution_count": 48,
   "id": "a2dda805",
   "metadata": {},
   "outputs": [],
   "source": [
    "def trials_success(group,event):\n",
    "    group_users = len(group.groupby('user_id',as_index = False))\n",
    "    group_events = len(group[group['event_name'] == event].groupby('user_id',as_index = False))\n",
    "    success_rate = [group_users, group_events]\n",
    "    return success_rate"
   ]
  },
  {
   "cell_type": "markdown",
   "id": "f80a98fd",
   "metadata": {},
   "source": [
    "Now, let's run it on all the events in the 2 control groups:"
   ]
  },
  {
   "cell_type": "markdown",
   "id": "93c16ab8",
   "metadata": {},
   "source": [
    "H0: group 246 and group 247 are signifficantly different.\n",
    "\n",
    "H1: group 246 and group 247 are not signifficantly different.\n",
    "\n",
    "significane level = 1%"
   ]
  },
  {
   "cell_type": "code",
   "execution_count": 49,
   "id": "76fa3168",
   "metadata": {},
   "outputs": [
    {
     "name": "stdout",
     "output_type": "stream",
     "text": [
      "MainScreenAppear :\n",
      "Share of people in group 246 who completed this event:98.63%\n",
      "Share of people in group 247 who completed this event:98.49%\n",
      "0.676\n",
      "There is no significant statistical difference\n",
      "PaymentScreenSuccessful :\n",
      "Share of people in group 246 who completed this event:48.31%\n",
      "Share of people in group 247 who completed this event:46.01%\n",
      "0.103\n",
      "There is no significant statistical difference\n",
      "CartScreenAppear :\n",
      "Share of people in group 246 who completed this event:50.97%\n",
      "Share of people in group 247 who completed this event:49.23%\n",
      "0.218\n",
      "There is no significant statistical difference\n",
      "OffersScreenAppear :\n",
      "Share of people in group 246 who completed this event:62.08%\n",
      "Share of people in group 247 who completed this event:60.51%\n",
      "0.255\n",
      "There is no significant statistical difference\n",
      "Tutorial :\n",
      "Share of people in group 246 who completed this event:11.19%\n",
      "Share of people in group 247 who completed this event:11.28%\n",
      "0.918\n",
      "There is no significant statistical difference\n"
     ]
    }
   ],
   "source": [
    "alpha = 0.01\n",
    "for i in data['event_name'].unique():\n",
    "    print(i,\":\")\n",
    "    list_246 = trials_success(group_246, i)\n",
    "    list_247 = trials_success(group_247,i)\n",
    "    print(\"Share of people in group 246 who completed this event:{:.2%}\".format(list_246[1] / list_246[0]))\n",
    "    print(\"Share of people in group 247 who completed this event:{:.2%}\".format(list_247[1] / list_247[0]))  \n",
    "    p_value = z_test(list_246,list_247,alpha)\n",
    "    print(\"{0:.3f}\".format(p_value))\n",
    "    if p_value < alpha:\n",
    "        print(\"There is a significant statistical difference\")\n",
    "    else:\n",
    "        print(\"There is no significant statistical difference\")"
   ]
  },
  {
   "cell_type": "markdown",
   "id": "a324a0a4",
   "metadata": {},
   "source": [
    "We can see that in every event, there is no significant difference between the two groups. This means that our control groups are good, and the results are not tampered by any other parameter."
   ]
  },
  {
   "cell_type": "markdown",
   "id": "26da7a0c",
   "metadata": {},
   "source": [
    "Let's check the difference with group 248, The group with the altered fonts:"
   ]
  },
  {
   "cell_type": "markdown",
   "id": "2148b282",
   "metadata": {},
   "source": [
    "H0: group 246 and group 248 are signifficantly different.\n",
    "\n",
    "H1: group 246 and group 248 are not signifficantly different.\n",
    "\n",
    "significane level = 1%"
   ]
  },
  {
   "cell_type": "code",
   "execution_count": 50,
   "id": "c60c11ef",
   "metadata": {},
   "outputs": [
    {
     "name": "stdout",
     "output_type": "stream",
     "text": [
      "MainScreenAppear :\n",
      "Share of people in group 246 who completed this event:98.63%\n",
      "Share of people in group 248 who completed this event:98.31%\n",
      "0.347\n",
      "There is no significant statistical difference\n",
      "PaymentScreenSuccessful :\n",
      "Share of people in group 246 who completed this event:48.31%\n",
      "Share of people in group 248 who completed this event:46.59%\n",
      "0.223\n",
      "There is no significant statistical difference\n",
      "CartScreenAppear :\n",
      "Share of people in group 246 who completed this event:50.97%\n",
      "Share of people in group 248 who completed this event:48.52%\n",
      "0.083\n",
      "There is no significant statistical difference\n",
      "OffersScreenAppear :\n",
      "Share of people in group 246 who completed this event:62.08%\n",
      "Share of people in group 248 who completed this event:60.35%\n",
      "0.208\n",
      "There is no significant statistical difference\n",
      "Tutorial :\n",
      "Share of people in group 246 who completed this event:11.19%\n",
      "Share of people in group 248 who completed this event:11.08%\n",
      "0.896\n",
      "There is no significant statistical difference\n"
     ]
    }
   ],
   "source": [
    "for i in data['event_name'].unique():\n",
    "    print(i,\":\")\n",
    "    list_248 = trials_success(group_248,i)\n",
    "    list_246 = trials_success(group_246, i)\n",
    "    print(\"Share of people in group 246 who completed this event:{:.2%}\".format(list_246[1] / list_246[0]))\n",
    "    print(\"Share of people in group 248 who completed this event:{:.2%}\".format(list_248[1] / list_248[0]))\n",
    "    p_value = z_test(list_246,list_248, alpha)\n",
    "    print(\"{0:.3f}\".format(p_value))\n",
    "    if p_value < alpha:\n",
    "        print(\"There is a significant statistical difference\")\n",
    "    else:\n",
    "        print(\"There is no significant statistical difference\")"
   ]
  },
  {
   "cell_type": "markdown",
   "id": "78202510",
   "metadata": {},
   "source": [
    "Let's check with other control group:"
   ]
  },
  {
   "cell_type": "markdown",
   "id": "ddcdf8b3",
   "metadata": {},
   "source": [
    "H0: group 248 and group 247 are signifficantly different.\n",
    "\n",
    "H1: group 248 and group 247 are not signifficantly different.\n",
    "\n",
    "significane level = 1%"
   ]
  },
  {
   "cell_type": "code",
   "execution_count": 51,
   "id": "580a7105",
   "metadata": {},
   "outputs": [
    {
     "name": "stdout",
     "output_type": "stream",
     "text": [
      "MainScreenAppear :\n",
      "Share of people in group 247 who completed this event:98.49%\n",
      "Share of people in group 248 who completed this event:98.31%\n",
      "0.600\n",
      "There is no significant statistical difference\n",
      "PaymentScreenSuccessful :\n",
      "Share of people in group 247 who completed this event:46.01%\n",
      "Share of people in group 248 who completed this event:46.59%\n",
      "0.678\n",
      "There is no significant statistical difference\n",
      "CartScreenAppear :\n",
      "Share of people in group 247 who completed this event:49.23%\n",
      "Share of people in group 248 who completed this event:48.52%\n",
      "0.617\n",
      "There is no significant statistical difference\n",
      "OffersScreenAppear :\n",
      "Share of people in group 247 who completed this event:60.51%\n",
      "Share of people in group 248 who completed this event:60.35%\n",
      "0.906\n",
      "There is no significant statistical difference\n",
      "Tutorial :\n",
      "Share of people in group 247 who completed this event:11.28%\n",
      "Share of people in group 248 who completed this event:11.08%\n",
      "0.815\n",
      "There is no significant statistical difference\n"
     ]
    }
   ],
   "source": [
    "for i in data['event_name'].unique():\n",
    "    print(i,\":\")\n",
    "    list_248 = trials_success(group_248,i)\n",
    "    list_247 = trials_success(group_247, i)\n",
    "    print(\"Share of people in group 247 who completed this event:{:.2%}\".format(list_247[1] / list_247[0]))\n",
    "    print(\"Share of people in group 248 who completed this event:{:.2%}\".format(list_248[1] / list_248[0]))\n",
    "    p_value = z_test(list_247,list_248, alpha)\n",
    "    print(\"{0:.3f}\".format(p_value))\n",
    "    if p_value < alpha:\n",
    "        print(\"There is a significant statistical difference\")\n",
    "    else:\n",
    "        print(\"There is no significant statistical difference\")"
   ]
  },
  {
   "cell_type": "markdown",
   "id": "9ffcd517",
   "metadata": {},
   "source": [
    "We see that there is no significant difference between our test group and our control groups indivdually in any event. Let's combine the 2 control groups and test the result: "
   ]
  },
  {
   "cell_type": "markdown",
   "id": "72777fb2",
   "metadata": {},
   "source": [
    "H0: group 248 and the merged control group are signifficantly different.\n",
    "\n",
    "H1: group 248 and the merged control group are not signifficantly different.\n",
    "\n",
    "significane level = 1%"
   ]
  },
  {
   "cell_type": "code",
   "execution_count": 52,
   "id": "ddcbb574",
   "metadata": {},
   "outputs": [
    {
     "name": "stdout",
     "output_type": "stream",
     "text": [
      "MainScreenAppear :\n",
      "Share of people in the merged control group who completed this event:98.56%\n",
      "Share of people in group 248 who completed this event:98.31%\n",
      "0.393\n",
      "There is no significant statistical difference\n",
      "PaymentScreenSuccessful :\n",
      "Share of people in the merged control group who completed this event:47.15%\n",
      "Share of people in group 248 who completed this event:46.59%\n",
      "0.645\n",
      "There is no significant statistical difference\n",
      "CartScreenAppear :\n",
      "Share of people in the merged control group who completed this event:50.09%\n",
      "Share of people in group 248 who completed this event:48.52%\n",
      "0.198\n",
      "There is no significant statistical difference\n",
      "OffersScreenAppear :\n",
      "Share of people in the merged control group who completed this event:61.29%\n",
      "Share of people in group 248 who completed this event:60.35%\n",
      "0.429\n",
      "There is no significant statistical difference\n",
      "Tutorial :\n",
      "Share of people in the merged control group who completed this event:11.24%\n",
      "Share of people in group 248 who completed this event:11.08%\n",
      "0.833\n",
      "There is no significant statistical difference\n"
     ]
    }
   ],
   "source": [
    "control_group = group_246.append(group_247,ignore_index = True)\n",
    "control_group['group'] = \"control\"\n",
    "for i in data['event_name'].unique():\n",
    "    print(i,\":\")\n",
    "    list_248 = trials_success(group_248,i)\n",
    "    list_control = trials_success(control_group, i)\n",
    "    print(\"Share of people in the merged control group who completed this event:{:.2%}\".format(list_control[1] / list_control[0]))\n",
    "    print(\"Share of people in group 248 who completed this event:{:.2%}\".format(list_248[1] / list_248[0]))\n",
    "    p_value = z_test(list_control,list_248, alpha)\n",
    "    print(\"{0:.3f}\".format(p_value))\n",
    "    if p_value < alpha:\n",
    "        print(\"There is a significant statistical difference\")\n",
    "    else:\n",
    "        print(\"There is no significant statistical difference\")"
   ]
  },
  {
   "cell_type": "markdown",
   "id": "01b5acc6",
   "metadata": {},
   "source": [
    "We can see that even when combined, there is no significant statistical difference between the groups. We can see that the percentage diffrences are very low, so this makes sense. "
   ]
  },
  {
   "cell_type": "markdown",
   "id": "a0a1d0f8",
   "metadata": {},
   "source": [
    "We have made several hypotheses tests, which means that our significance level is probably too high.We'll go with the Binyami- Hochberg correction. We need to find all the p-values from all the tests in order for us to make the correction:"
   ]
  },
  {
   "cell_type": "code",
   "execution_count": 53,
   "id": "fb690df7",
   "metadata": {},
   "outputs": [
    {
     "name": "stdout",
     "output_type": "stream",
     "text": [
      "Due to the new p-values, We can't accept any null hypothesis.\n"
     ]
    }
   ],
   "source": [
    "p_values = []\n",
    "for i in data['event_name'].unique():\n",
    "    p_value_1 = z_test(trials_success(group_246, i),trials_success(group_247,i), alpha)\n",
    "    p_value_2 = z_test(trials_success(group_246, i),trials_success(group_248,i), alpha)\n",
    "    p_value_3 = z_test(trials_success(group_246, i),trials_success(group_247,i), alpha)\n",
    "    p_value_4 = z_test(trials_success(control_group, i),trials_success(group_248,i), alpha)\n",
    "    p_values.extend((p_value_1,p_value_2,p_value_3,p_value_4))\n",
    "correct_p_values = png.multicomp(p_values, alpha = alpha, method = 'fdr_bh')[0]\n",
    "if True in correct_p_values:\n",
    "    print(\"Due to the new p-values,We can accept a null hypothesis.\")\n",
    "else:\n",
    "    print(\"Due to the new p-values, We can't accept any null hypothesis.\")"
   ]
  },
  {
   "cell_type": "markdown",
   "id": "a9d08cd6",
   "metadata": {},
   "source": [
    "We can see that even with our new p-values, the results don't change. Our groups are not statisticlly different."
   ]
  },
  {
   "cell_type": "markdown",
   "id": "f334da69",
   "metadata": {},
   "source": [
    "<a id=5.1></a>"
   ]
  },
  {
   "cell_type": "markdown",
   "id": "b950240e",
   "metadata": {},
   "source": [
    "## Conclusion"
   ]
  },
  {
   "cell_type": "markdown",
   "id": "39122f8e",
   "metadata": {},
   "source": [
    "Let's sum up what we did:"
   ]
  },
  {
   "cell_type": "markdown",
   "id": "1608c78e",
   "metadata": {},
   "source": [
    "- We checked the amount of users for each group.\n",
    "- We checked if there is a significant statistical difference between the control groups regarding the ratio of users completing all of the actions.\n",
    "- We checked if there is a significant statistical difference between each of the control groups and the test group regarding the ratio of users completing all of the actions.\n",
    "- We merged our 2 control groups to one and checked the statistical difference between the merged group and the test group.\n",
    "- We took into account the Bonferroni correction.\n",
    "\n",
    "My analysis shows that:\n",
    "- There is no significant statistical difference between the control groups.\n",
    "- There is no significant statistical difference between each of the control groups and the test group.\n",
    "- There is no significant statistical difference between the merged control groups and the test group.\n",
    "\n",
    "I can reccomend that:\n",
    "\n",
    " - Up untill now, There isn't a significant difference between the groups. However, the data that we worked with has been going on only for a week. According to this A/B test calculater( <li>https://vwo.com/tools/ab-duration-calculator</li> ), In order for us to draw significatnt conclussions on all factors, We need to do the test for at least 2 weeks. Therefore, my reccomendation is to continue the test for at least one more week."
   ]
  }
 ],
 "metadata": {
  "ExecuteTimeLog": [
   {
    "duration": 29468,
    "start_time": "2021-08-24T10:07:35.613Z"
   },
   {
    "duration": 641,
    "start_time": "2021-08-24T10:08:05.084Z"
   },
   {
    "duration": 14,
    "start_time": "2021-08-24T10:08:05.729Z"
   },
   {
    "duration": 451,
    "start_time": "2021-08-24T10:08:05.747Z"
   },
   {
    "duration": 14,
    "start_time": "2021-08-24T10:08:06.201Z"
   },
   {
    "duration": 43,
    "start_time": "2021-08-24T10:08:06.219Z"
   },
   {
    "duration": 5,
    "start_time": "2021-08-24T10:08:06.265Z"
   },
   {
    "duration": 26,
    "start_time": "2021-08-24T10:08:06.284Z"
   },
   {
    "duration": 18,
    "start_time": "2021-08-24T10:08:06.313Z"
   },
   {
    "duration": 101,
    "start_time": "2021-08-24T10:08:06.333Z"
   },
   {
    "duration": 92,
    "start_time": "2021-08-24T10:08:06.436Z"
   },
   {
    "duration": 102,
    "start_time": "2021-08-24T10:08:06.530Z"
   },
   {
    "duration": 93,
    "start_time": "2021-08-24T10:08:06.635Z"
   },
   {
    "duration": 12,
    "start_time": "2021-08-24T10:08:06.730Z"
   },
   {
    "duration": 8,
    "start_time": "2021-08-24T10:08:06.744Z"
   },
   {
    "duration": 61,
    "start_time": "2021-08-24T10:08:06.754Z"
   },
   {
    "duration": 29,
    "start_time": "2021-08-24T10:08:06.818Z"
   },
   {
    "duration": 42,
    "start_time": "2021-08-24T10:08:06.849Z"
   },
   {
    "duration": 262,
    "start_time": "2021-08-24T10:08:06.894Z"
   },
   {
    "duration": 196,
    "start_time": "2021-08-24T10:08:07.158Z"
   },
   {
    "duration": 8,
    "start_time": "2021-08-24T10:08:07.356Z"
   },
   {
    "duration": 19,
    "start_time": "2021-08-24T10:08:07.366Z"
   },
   {
    "duration": 9,
    "start_time": "2021-08-24T10:08:07.393Z"
   },
   {
    "duration": 5,
    "start_time": "2021-08-24T10:08:07.406Z"
   },
   {
    "duration": 6,
    "start_time": "2021-08-24T10:08:07.414Z"
   },
   {
    "duration": 5,
    "start_time": "2021-08-24T10:08:07.423Z"
   },
   {
    "duration": 513,
    "start_time": "2021-08-24T10:08:07.431Z"
   },
   {
    "duration": 43,
    "start_time": "2021-08-24T10:08:07.947Z"
   },
   {
    "duration": 20,
    "start_time": "2021-08-24T10:08:07.993Z"
   },
   {
    "duration": 7,
    "start_time": "2021-08-24T10:08:08.016Z"
   },
   {
    "duration": 10,
    "start_time": "2021-08-24T10:08:08.026Z"
   },
   {
    "duration": 80,
    "start_time": "2021-08-24T10:08:08.038Z"
   },
   {
    "duration": 33,
    "start_time": "2021-08-24T10:08:08.120Z"
   },
   {
    "duration": 31,
    "start_time": "2021-08-24T10:08:08.156Z"
   },
   {
    "duration": 52,
    "start_time": "2021-08-24T10:08:08.190Z"
   },
   {
    "duration": 38,
    "start_time": "2021-08-24T10:08:08.244Z"
   },
   {
    "duration": 5,
    "start_time": "2021-08-24T10:08:08.285Z"
   },
   {
    "duration": 16,
    "start_time": "2021-08-24T10:08:08.293Z"
   },
   {
    "duration": 819,
    "start_time": "2021-08-24T10:08:08.312Z"
   },
   {
    "duration": 52,
    "start_time": "2021-08-24T10:08:09.134Z"
   },
   {
    "duration": 14,
    "start_time": "2021-08-24T10:08:09.189Z"
   },
   {
    "duration": 102,
    "start_time": "2021-08-24T10:08:09.206Z"
   },
   {
    "duration": 94,
    "start_time": "2021-08-24T10:08:09.311Z"
   },
   {
    "duration": 82,
    "start_time": "2021-08-24T10:08:09.408Z"
   },
   {
    "duration": 16,
    "start_time": "2021-08-24T10:08:09.494Z"
   },
   {
    "duration": 2177,
    "start_time": "2021-08-24T10:08:09.513Z"
   },
   {
    "duration": 2038,
    "start_time": "2021-08-24T10:08:11.696Z"
   },
   {
    "duration": 2095,
    "start_time": "2021-08-24T10:08:13.736Z"
   },
   {
    "duration": 3148,
    "start_time": "2021-08-24T10:08:15.834Z"
   },
   {
    "duration": 5,
    "start_time": "2021-08-24T15:21:25.695Z"
   },
   {
    "duration": 1235,
    "start_time": "2021-08-24T15:21:25.703Z"
   },
   {
    "duration": 9,
    "start_time": "2021-08-24T15:21:26.941Z"
   },
   {
    "duration": 394,
    "start_time": "2021-08-24T15:21:26.953Z"
   },
   {
    "duration": 10,
    "start_time": "2021-08-24T15:21:27.349Z"
   },
   {
    "duration": 36,
    "start_time": "2021-08-24T15:21:27.362Z"
   },
   {
    "duration": 7,
    "start_time": "2021-08-24T15:21:27.402Z"
   },
   {
    "duration": 22,
    "start_time": "2021-08-24T15:21:27.412Z"
   },
   {
    "duration": 51,
    "start_time": "2021-08-24T15:21:27.436Z"
   },
   {
    "duration": 93,
    "start_time": "2021-08-24T15:21:27.491Z"
   },
   {
    "duration": 74,
    "start_time": "2021-08-24T15:21:27.587Z"
   },
   {
    "duration": 118,
    "start_time": "2021-08-24T15:21:27.664Z"
   },
   {
    "duration": 97,
    "start_time": "2021-08-24T15:21:27.785Z"
   },
   {
    "duration": 13,
    "start_time": "2021-08-24T15:21:27.886Z"
   },
   {
    "duration": 23,
    "start_time": "2021-08-24T15:21:27.901Z"
   },
   {
    "duration": 58,
    "start_time": "2021-08-24T15:21:27.926Z"
   },
   {
    "duration": 26,
    "start_time": "2021-08-24T15:21:27.987Z"
   },
   {
    "duration": 10,
    "start_time": "2021-08-24T15:21:28.015Z"
   },
   {
    "duration": 260,
    "start_time": "2021-08-24T15:21:28.031Z"
   },
   {
    "duration": 188,
    "start_time": "2021-08-24T15:21:28.294Z"
   },
   {
    "duration": 7,
    "start_time": "2021-08-24T15:21:28.485Z"
   },
   {
    "duration": 10,
    "start_time": "2021-08-24T15:21:28.494Z"
   },
   {
    "duration": 9,
    "start_time": "2021-08-24T15:21:28.507Z"
   },
   {
    "duration": 5,
    "start_time": "2021-08-24T15:21:28.518Z"
   },
   {
    "duration": 8,
    "start_time": "2021-08-24T15:21:28.525Z"
   },
   {
    "duration": 7,
    "start_time": "2021-08-24T15:21:28.583Z"
   },
   {
    "duration": 451,
    "start_time": "2021-08-24T15:21:28.592Z"
   },
   {
    "duration": 38,
    "start_time": "2021-08-24T15:21:29.046Z"
   },
   {
    "duration": 19,
    "start_time": "2021-08-24T15:21:29.086Z"
   },
   {
    "duration": 6,
    "start_time": "2021-08-24T15:21:29.107Z"
   },
   {
    "duration": 9,
    "start_time": "2021-08-24T15:21:29.116Z"
   },
   {
    "duration": 79,
    "start_time": "2021-08-24T15:21:29.127Z"
   },
   {
    "duration": 31,
    "start_time": "2021-08-24T15:21:29.208Z"
   },
   {
    "duration": 10,
    "start_time": "2021-08-24T15:21:29.241Z"
   },
   {
    "duration": 54,
    "start_time": "2021-08-24T15:21:29.283Z"
   },
   {
    "duration": 11,
    "start_time": "2021-08-24T15:21:29.340Z"
   },
   {
    "duration": 29,
    "start_time": "2021-08-24T15:21:29.353Z"
   },
   {
    "duration": 10,
    "start_time": "2021-08-24T15:21:29.384Z"
   },
   {
    "duration": 189,
    "start_time": "2021-08-24T15:21:29.397Z"
   },
   {
    "duration": 17,
    "start_time": "2021-08-24T15:21:29.589Z"
   },
   {
    "duration": 9,
    "start_time": "2021-08-24T15:21:29.608Z"
   },
   {
    "duration": 76,
    "start_time": "2021-08-24T15:21:29.619Z"
   },
   {
    "duration": 28,
    "start_time": "2021-08-24T15:21:29.697Z"
   },
   {
    "duration": 55,
    "start_time": "2021-08-24T15:21:29.727Z"
   },
   {
    "duration": 9,
    "start_time": "2021-08-24T15:21:29.784Z"
   },
   {
    "duration": 2063,
    "start_time": "2021-08-24T15:21:29.796Z"
   },
   {
    "duration": 2058,
    "start_time": "2021-08-24T15:21:31.862Z"
   },
   {
    "duration": 1906,
    "start_time": "2021-08-24T15:21:33.923Z"
   },
   {
    "duration": 2846,
    "start_time": "2021-08-24T15:21:35.832Z"
   },
   {
    "duration": 598,
    "start_time": "2021-08-24T15:50:37.962Z"
   },
   {
    "duration": 409,
    "start_time": "2021-08-24T15:50:43.663Z"
   },
   {
    "duration": 654,
    "start_time": "2021-08-24T15:50:46.812Z"
   },
   {
    "duration": 409,
    "start_time": "2021-08-24T15:50:51.484Z"
   },
   {
    "duration": 103,
    "start_time": "2021-08-24T15:59:10.211Z"
   },
   {
    "duration": 1903,
    "start_time": "2021-10-06T09:33:44.273Z"
   },
   {
    "duration": -326,
    "start_time": "2021-10-06T09:33:46.506Z"
   },
   {
    "duration": -329,
    "start_time": "2021-10-06T09:33:46.510Z"
   },
   {
    "duration": -483,
    "start_time": "2021-10-06T09:33:46.665Z"
   },
   {
    "duration": -491,
    "start_time": "2021-10-06T09:33:46.674Z"
   },
   {
    "duration": -494,
    "start_time": "2021-10-06T09:33:46.678Z"
   },
   {
    "duration": -496,
    "start_time": "2021-10-06T09:33:46.681Z"
   },
   {
    "duration": -500,
    "start_time": "2021-10-06T09:33:46.686Z"
   },
   {
    "duration": -503,
    "start_time": "2021-10-06T09:33:46.689Z"
   },
   {
    "duration": -504,
    "start_time": "2021-10-06T09:33:46.692Z"
   },
   {
    "duration": -506,
    "start_time": "2021-10-06T09:33:46.695Z"
   },
   {
    "duration": -507,
    "start_time": "2021-10-06T09:33:46.697Z"
   },
   {
    "duration": -511,
    "start_time": "2021-10-06T09:33:46.701Z"
   },
   {
    "duration": -512,
    "start_time": "2021-10-06T09:33:46.704Z"
   },
   {
    "duration": -513,
    "start_time": "2021-10-06T09:33:46.706Z"
   },
   {
    "duration": -515,
    "start_time": "2021-10-06T09:33:46.709Z"
   },
   {
    "duration": -517,
    "start_time": "2021-10-06T09:33:46.712Z"
   },
   {
    "duration": -519,
    "start_time": "2021-10-06T09:33:46.715Z"
   },
   {
    "duration": -521,
    "start_time": "2021-10-06T09:33:46.718Z"
   },
   {
    "duration": -523,
    "start_time": "2021-10-06T09:33:46.721Z"
   },
   {
    "duration": -525,
    "start_time": "2021-10-06T09:33:46.724Z"
   },
   {
    "duration": -527,
    "start_time": "2021-10-06T09:33:46.727Z"
   },
   {
    "duration": -529,
    "start_time": "2021-10-06T09:33:46.730Z"
   },
   {
    "duration": -779,
    "start_time": "2021-10-06T09:33:46.981Z"
   },
   {
    "duration": -782,
    "start_time": "2021-10-06T09:33:46.985Z"
   },
   {
    "duration": -783,
    "start_time": "2021-10-06T09:33:46.987Z"
   },
   {
    "duration": -785,
    "start_time": "2021-10-06T09:33:46.990Z"
   },
   {
    "duration": -787,
    "start_time": "2021-10-06T09:33:46.993Z"
   },
   {
    "duration": -789,
    "start_time": "2021-10-06T09:33:46.996Z"
   },
   {
    "duration": -790,
    "start_time": "2021-10-06T09:33:46.998Z"
   },
   {
    "duration": -793,
    "start_time": "2021-10-06T09:33:47.002Z"
   },
   {
    "duration": -794,
    "start_time": "2021-10-06T09:33:47.004Z"
   },
   {
    "duration": -796,
    "start_time": "2021-10-06T09:33:47.007Z"
   },
   {
    "duration": -797,
    "start_time": "2021-10-06T09:33:47.009Z"
   },
   {
    "duration": -799,
    "start_time": "2021-10-06T09:33:47.012Z"
   },
   {
    "duration": -806,
    "start_time": "2021-10-06T09:33:47.020Z"
   },
   {
    "duration": -809,
    "start_time": "2021-10-06T09:33:47.024Z"
   },
   {
    "duration": -811,
    "start_time": "2021-10-06T09:33:47.027Z"
   },
   {
    "duration": -754,
    "start_time": "2021-10-06T09:33:47.030Z"
   },
   {
    "duration": -755,
    "start_time": "2021-10-06T09:33:47.033Z"
   },
   {
    "duration": -757,
    "start_time": "2021-10-06T09:33:47.036Z"
   },
   {
    "duration": -758,
    "start_time": "2021-10-06T09:33:47.038Z"
   },
   {
    "duration": -760,
    "start_time": "2021-10-06T09:33:47.041Z"
   },
   {
    "duration": -762,
    "start_time": "2021-10-06T09:33:47.044Z"
   },
   {
    "duration": -764,
    "start_time": "2021-10-06T09:33:47.047Z"
   },
   {
    "duration": -765,
    "start_time": "2021-10-06T09:33:47.049Z"
   },
   {
    "duration": -767,
    "start_time": "2021-10-06T09:33:47.052Z"
   },
   {
    "duration": -769,
    "start_time": "2021-10-06T09:33:47.055Z"
   },
   {
    "duration": -770,
    "start_time": "2021-10-06T09:33:47.057Z"
   },
   {
    "duration": -772,
    "start_time": "2021-10-06T09:33:47.060Z"
   },
   {
    "duration": -774,
    "start_time": "2021-10-06T09:33:47.063Z"
   },
   {
    "duration": -776,
    "start_time": "2021-10-06T09:33:47.066Z"
   },
   {
    "duration": -778,
    "start_time": "2021-10-06T09:33:47.069Z"
   },
   {
    "duration": -780,
    "start_time": "2021-10-06T09:33:47.072Z"
   },
   {
    "duration": 330,
    "start_time": "2021-10-06T09:35:43.649Z"
   },
   {
    "duration": 1488,
    "start_time": "2021-10-06T09:36:29.683Z"
   },
   {
    "duration": 438,
    "start_time": "2021-10-06T09:36:31.173Z"
   },
   {
    "duration": 9,
    "start_time": "2021-10-06T09:36:31.614Z"
   },
   {
    "duration": 370,
    "start_time": "2021-10-06T09:36:31.625Z"
   },
   {
    "duration": 7,
    "start_time": "2021-10-06T09:36:31.996Z"
   },
   {
    "duration": 20,
    "start_time": "2021-10-06T09:36:32.005Z"
   },
   {
    "duration": 9,
    "start_time": "2021-10-06T09:36:32.027Z"
   },
   {
    "duration": 19,
    "start_time": "2021-10-06T09:36:32.038Z"
   },
   {
    "duration": 23,
    "start_time": "2021-10-06T09:36:32.060Z"
   },
   {
    "duration": 59,
    "start_time": "2021-10-06T09:36:32.086Z"
   },
   {
    "duration": 55,
    "start_time": "2021-10-06T09:36:32.146Z"
   },
   {
    "duration": 59,
    "start_time": "2021-10-06T09:36:32.202Z"
   },
   {
    "duration": 56,
    "start_time": "2021-10-06T09:36:32.263Z"
   },
   {
    "duration": 6,
    "start_time": "2021-10-06T09:36:32.321Z"
   },
   {
    "duration": 25,
    "start_time": "2021-10-06T09:36:32.328Z"
   },
   {
    "duration": 52,
    "start_time": "2021-10-06T09:36:32.355Z"
   },
   {
    "duration": 37,
    "start_time": "2021-10-06T09:36:32.408Z"
   },
   {
    "duration": 30,
    "start_time": "2021-10-06T09:36:32.446Z"
   },
   {
    "duration": 163,
    "start_time": "2021-10-06T09:36:32.478Z"
   },
   {
    "duration": 116,
    "start_time": "2021-10-06T09:36:32.643Z"
   },
   {
    "duration": 6,
    "start_time": "2021-10-06T09:36:32.761Z"
   },
   {
    "duration": 10,
    "start_time": "2021-10-06T09:36:32.768Z"
   },
   {
    "duration": 18,
    "start_time": "2021-10-06T09:36:32.780Z"
   },
   {
    "duration": 14,
    "start_time": "2021-10-06T09:36:32.800Z"
   },
   {
    "duration": 241,
    "start_time": "2021-10-06T09:36:32.816Z"
   },
   {
    "duration": 4,
    "start_time": "2021-10-06T09:36:33.059Z"
   },
   {
    "duration": 23,
    "start_time": "2021-10-06T09:36:33.066Z"
   },
   {
    "duration": 18,
    "start_time": "2021-10-06T09:36:33.091Z"
   },
   {
    "duration": 309,
    "start_time": "2021-10-06T09:36:33.111Z"
   },
   {
    "duration": 15,
    "start_time": "2021-10-06T09:36:33.422Z"
   },
   {
    "duration": 23,
    "start_time": "2021-10-06T09:36:33.439Z"
   },
   {
    "duration": 13,
    "start_time": "2021-10-06T09:36:33.464Z"
   },
   {
    "duration": 34,
    "start_time": "2021-10-06T09:36:33.478Z"
   },
   {
    "duration": 35,
    "start_time": "2021-10-06T09:36:33.514Z"
   },
   {
    "duration": 26,
    "start_time": "2021-10-06T09:36:33.551Z"
   },
   {
    "duration": 6,
    "start_time": "2021-10-06T09:36:33.579Z"
   },
   {
    "duration": 45,
    "start_time": "2021-10-06T09:36:33.587Z"
   },
   {
    "duration": 12,
    "start_time": "2021-10-06T09:36:33.633Z"
   },
   {
    "duration": 16,
    "start_time": "2021-10-06T09:36:33.646Z"
   },
   {
    "duration": 20,
    "start_time": "2021-10-06T09:36:33.664Z"
   },
   {
    "duration": 609,
    "start_time": "2021-10-06T09:36:33.686Z"
   },
   {
    "duration": 13,
    "start_time": "2021-10-06T09:36:34.296Z"
   },
   {
    "duration": 11,
    "start_time": "2021-10-06T09:36:34.310Z"
   },
   {
    "duration": 69,
    "start_time": "2021-10-06T09:36:34.323Z"
   },
   {
    "duration": 86,
    "start_time": "2021-10-06T09:36:34.394Z"
   },
   {
    "duration": 11,
    "start_time": "2021-10-06T09:36:34.481Z"
   },
   {
    "duration": 15,
    "start_time": "2021-10-06T09:36:34.493Z"
   },
   {
    "duration": 10,
    "start_time": "2021-10-06T09:36:34.510Z"
   },
   {
    "duration": 1301,
    "start_time": "2021-10-06T09:36:34.522Z"
   },
   {
    "duration": 1197,
    "start_time": "2021-10-06T09:36:35.825Z"
   },
   {
    "duration": 1157,
    "start_time": "2021-10-06T09:36:37.024Z"
   },
   {
    "duration": 1727,
    "start_time": "2021-10-06T09:36:38.183Z"
   },
   {
    "duration": 6817,
    "start_time": "2021-10-06T09:36:39.912Z"
   },
   {
    "duration": -136,
    "start_time": "2021-10-06T09:36:46.867Z"
   },
   {
    "duration": 322,
    "start_time": "2021-10-10T10:49:18.442Z"
   },
   {
    "duration": 1504,
    "start_time": "2021-10-10T10:52:56.071Z"
   },
   {
    "duration": 452,
    "start_time": "2021-10-10T10:52:57.577Z"
   },
   {
    "duration": 10,
    "start_time": "2021-10-10T10:52:58.032Z"
   },
   {
    "duration": 317,
    "start_time": "2021-10-10T10:52:58.044Z"
   },
   {
    "duration": 8,
    "start_time": "2021-10-10T10:52:58.362Z"
   },
   {
    "duration": 19,
    "start_time": "2021-10-10T10:52:58.372Z"
   },
   {
    "duration": 3,
    "start_time": "2021-10-10T10:52:58.393Z"
   },
   {
    "duration": 15,
    "start_time": "2021-10-10T10:52:58.399Z"
   },
   {
    "duration": 15,
    "start_time": "2021-10-10T10:52:58.416Z"
   },
   {
    "duration": 76,
    "start_time": "2021-10-10T10:52:58.432Z"
   },
   {
    "duration": 51,
    "start_time": "2021-10-10T10:52:58.510Z"
   },
   {
    "duration": 70,
    "start_time": "2021-10-10T10:52:58.563Z"
   },
   {
    "duration": 56,
    "start_time": "2021-10-10T10:52:58.634Z"
   },
   {
    "duration": 6,
    "start_time": "2021-10-10T10:52:58.692Z"
   },
   {
    "duration": 8,
    "start_time": "2021-10-10T10:52:58.699Z"
   },
   {
    "duration": 23,
    "start_time": "2021-10-10T10:52:58.708Z"
   },
   {
    "duration": 44,
    "start_time": "2021-10-10T10:52:58.733Z"
   },
   {
    "duration": 8,
    "start_time": "2021-10-10T10:52:58.778Z"
   },
   {
    "duration": 159,
    "start_time": "2021-10-10T10:52:58.787Z"
   },
   {
    "duration": 160,
    "start_time": "2021-10-10T10:52:58.948Z"
   },
   {
    "duration": 5,
    "start_time": "2021-10-10T10:52:59.110Z"
   },
   {
    "duration": 8,
    "start_time": "2021-10-10T10:52:59.116Z"
   },
   {
    "duration": 7,
    "start_time": "2021-10-10T10:52:59.128Z"
   },
   {
    "duration": 3,
    "start_time": "2021-10-10T10:52:59.138Z"
   },
   {
    "duration": 666,
    "start_time": "2021-10-10T10:52:59.142Z"
   },
   {
    "duration": -365,
    "start_time": "2021-10-10T10:53:00.175Z"
   },
   {
    "duration": -375,
    "start_time": "2021-10-10T10:53:00.186Z"
   },
   {
    "duration": -378,
    "start_time": "2021-10-10T10:53:00.190Z"
   },
   {
    "duration": -382,
    "start_time": "2021-10-10T10:53:00.195Z"
   },
   {
    "duration": -388,
    "start_time": "2021-10-10T10:53:00.202Z"
   },
   {
    "duration": -390,
    "start_time": "2021-10-10T10:53:00.205Z"
   },
   {
    "duration": -392,
    "start_time": "2021-10-10T10:53:00.208Z"
   },
   {
    "duration": -400,
    "start_time": "2021-10-10T10:53:00.217Z"
   },
   {
    "duration": -402,
    "start_time": "2021-10-10T10:53:00.220Z"
   },
   {
    "duration": -403,
    "start_time": "2021-10-10T10:53:00.222Z"
   },
   {
    "duration": -404,
    "start_time": "2021-10-10T10:53:00.224Z"
   },
   {
    "duration": -407,
    "start_time": "2021-10-10T10:53:00.228Z"
   },
   {
    "duration": -415,
    "start_time": "2021-10-10T10:53:00.236Z"
   },
   {
    "duration": -417,
    "start_time": "2021-10-10T10:53:00.239Z"
   },
   {
    "duration": -418,
    "start_time": "2021-10-10T10:53:00.241Z"
   },
   {
    "duration": -421,
    "start_time": "2021-10-10T10:53:00.245Z"
   },
   {
    "duration": -427,
    "start_time": "2021-10-10T10:53:00.252Z"
   },
   {
    "duration": -428,
    "start_time": "2021-10-10T10:53:00.255Z"
   },
   {
    "duration": -429,
    "start_time": "2021-10-10T10:53:00.257Z"
   },
   {
    "duration": -432,
    "start_time": "2021-10-10T10:53:00.261Z"
   },
   {
    "duration": -437,
    "start_time": "2021-10-10T10:53:00.267Z"
   },
   {
    "duration": -439,
    "start_time": "2021-10-10T10:53:00.270Z"
   },
   {
    "duration": -440,
    "start_time": "2021-10-10T10:53:00.272Z"
   },
   {
    "duration": -585,
    "start_time": "2021-10-10T10:53:00.418Z"
   },
   {
    "duration": -588,
    "start_time": "2021-10-10T10:53:00.422Z"
   },
   {
    "duration": -592,
    "start_time": "2021-10-10T10:53:00.427Z"
   },
   {
    "duration": -601,
    "start_time": "2021-10-10T10:53:00.437Z"
   },
   {
    "duration": -565,
    "start_time": "2021-10-10T10:53:00.441Z"
   }
  ],
  "kernelspec": {
   "display_name": "Python 3",
   "language": "python",
   "name": "python3"
  },
  "language_info": {
   "codemirror_mode": {
    "name": "ipython",
    "version": 3
   },
   "file_extension": ".py",
   "mimetype": "text/x-python",
   "name": "python",
   "nbconvert_exporter": "python",
   "pygments_lexer": "ipython3",
   "version": "3.8.10"
  },
  "toc": {
   "base_numbering": 1,
   "nav_menu": {},
   "number_sections": true,
   "sideBar": true,
   "skip_h1_title": true,
   "title_cell": "Table of Contents",
   "title_sidebar": "Contents",
   "toc_cell": false,
   "toc_position": {},
   "toc_section_display": true,
   "toc_window_display": false
  }
 },
 "nbformat": 4,
 "nbformat_minor": 5
}
