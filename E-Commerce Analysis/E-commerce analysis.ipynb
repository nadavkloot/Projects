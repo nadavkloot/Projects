{
 "cells": [
  {
   "cell_type": "markdown",
   "id": "e5365e8a",
   "metadata": {},
   "source": [
    "# Introduction:"
   ]
  },
  {
   "cell_type": "markdown",
   "id": "cdd0cf0d",
   "metadata": {},
   "source": [
    "I am a junior data analyst. My clients are the e-commerce store \"Product Range\". My task is to analyse the product range of the store, and to formulate and carry out statistical hypothesis."
   ]
  },
  {
   "cell_type": "markdown",
   "id": "1b916e31",
   "metadata": {},
   "source": [
    "## Data Outline:"
   ]
  },
  {
   "cell_type": "markdown",
   "id": "5cd0a782",
   "metadata": {},
   "source": [
    "ecommerce_dataset_us.csv:\n",
    "\n",
    "`InvoiceNo` — order identifier\n",
    "\n",
    "`StockCode` — item identifier\n",
    "\n",
    "`Description` — item name\n",
    "\n",
    "`Quantity`\n",
    "\n",
    "`InvoiceDate` — order date\n",
    "\n",
    "`UnitPrice` — price per item\n",
    "\n",
    "`CustomerID`"
   ]
  },
  {
   "cell_type": "markdown",
   "id": "f02a49f0",
   "metadata": {},
   "source": [
    "# Part 1: Reading the dataset:"
   ]
  },
  {
   "cell_type": "code",
   "execution_count": 1,
   "id": "5b896810",
   "metadata": {},
   "outputs": [],
   "source": [
    "import pandas as pd\n",
    "import numpy as np\n",
    "import matplotlib.pyplot as plt\n",
    "import math\n",
    "from datetime import datetime\n",
    "from scipy import stats as st\n",
    "import seaborn as sns\n",
    "import plotly.express as px\n",
    "from plotly import graph_objects as go \n",
    "import plotly.io as pio\n",
    "pio.renderers.default = \"notebook_connected\"\n"
   ]
  },
  {
   "cell_type": "code",
   "execution_count": 2,
   "id": "adf2ca33",
   "metadata": {},
   "outputs": [],
   "source": [
    "try:\n",
    "    data = pd.read_csv(r'C:\\Users\\nadav\\OneDrive\\מסמכים\\Practicum100\\databases\\ecommerce_dataset_us.csv', sep = '\\t')\n",
    "except:\n",
    "    data = pd.read_csv('/datasets/ecommerce_dataset_us.csv', sep = '\\t')"
   ]
  },
  {
   "cell_type": "markdown",
   "id": "33a2421a",
   "metadata": {},
   "source": [
    "Let's check the data on this database:"
   ]
  },
  {
   "cell_type": "code",
   "execution_count": 3,
   "id": "29f1faee",
   "metadata": {},
   "outputs": [
    {
     "data": {
      "text/html": [
       "<div>\n",
       "<style scoped>\n",
       "    .dataframe tbody tr th:only-of-type {\n",
       "        vertical-align: middle;\n",
       "    }\n",
       "\n",
       "    .dataframe tbody tr th {\n",
       "        vertical-align: top;\n",
       "    }\n",
       "\n",
       "    .dataframe thead th {\n",
       "        text-align: right;\n",
       "    }\n",
       "</style>\n",
       "<table border=\"1\" class=\"dataframe\">\n",
       "  <thead>\n",
       "    <tr style=\"text-align: right;\">\n",
       "      <th></th>\n",
       "      <th>InvoiceNo</th>\n",
       "      <th>StockCode</th>\n",
       "      <th>Description</th>\n",
       "      <th>Quantity</th>\n",
       "      <th>InvoiceDate</th>\n",
       "      <th>UnitPrice</th>\n",
       "      <th>CustomerID</th>\n",
       "    </tr>\n",
       "  </thead>\n",
       "  <tbody>\n",
       "    <tr>\n",
       "      <th>0</th>\n",
       "      <td>536365</td>\n",
       "      <td>85123A</td>\n",
       "      <td>WHITE HANGING HEART T-LIGHT HOLDER</td>\n",
       "      <td>6</td>\n",
       "      <td>11/29/2018 08:26</td>\n",
       "      <td>2.55</td>\n",
       "      <td>17850.0</td>\n",
       "    </tr>\n",
       "    <tr>\n",
       "      <th>1</th>\n",
       "      <td>536365</td>\n",
       "      <td>71053</td>\n",
       "      <td>WHITE METAL LANTERN</td>\n",
       "      <td>6</td>\n",
       "      <td>11/29/2018 08:26</td>\n",
       "      <td>3.39</td>\n",
       "      <td>17850.0</td>\n",
       "    </tr>\n",
       "    <tr>\n",
       "      <th>2</th>\n",
       "      <td>536365</td>\n",
       "      <td>84406B</td>\n",
       "      <td>CREAM CUPID HEARTS COAT HANGER</td>\n",
       "      <td>8</td>\n",
       "      <td>11/29/2018 08:26</td>\n",
       "      <td>2.75</td>\n",
       "      <td>17850.0</td>\n",
       "    </tr>\n",
       "    <tr>\n",
       "      <th>3</th>\n",
       "      <td>536365</td>\n",
       "      <td>84029G</td>\n",
       "      <td>KNITTED UNION FLAG HOT WATER BOTTLE</td>\n",
       "      <td>6</td>\n",
       "      <td>11/29/2018 08:26</td>\n",
       "      <td>3.39</td>\n",
       "      <td>17850.0</td>\n",
       "    </tr>\n",
       "    <tr>\n",
       "      <th>4</th>\n",
       "      <td>536365</td>\n",
       "      <td>84029E</td>\n",
       "      <td>RED WOOLLY HOTTIE WHITE HEART.</td>\n",
       "      <td>6</td>\n",
       "      <td>11/29/2018 08:26</td>\n",
       "      <td>3.39</td>\n",
       "      <td>17850.0</td>\n",
       "    </tr>\n",
       "  </tbody>\n",
       "</table>\n",
       "</div>"
      ],
      "text/plain": [
       "  InvoiceNo StockCode                          Description  Quantity  \\\n",
       "0    536365    85123A   WHITE HANGING HEART T-LIGHT HOLDER         6   \n",
       "1    536365     71053                  WHITE METAL LANTERN         6   \n",
       "2    536365    84406B       CREAM CUPID HEARTS COAT HANGER         8   \n",
       "3    536365    84029G  KNITTED UNION FLAG HOT WATER BOTTLE         6   \n",
       "4    536365    84029E       RED WOOLLY HOTTIE WHITE HEART.         6   \n",
       "\n",
       "        InvoiceDate  UnitPrice  CustomerID  \n",
       "0  11/29/2018 08:26       2.55     17850.0  \n",
       "1  11/29/2018 08:26       3.39     17850.0  \n",
       "2  11/29/2018 08:26       2.75     17850.0  \n",
       "3  11/29/2018 08:26       3.39     17850.0  \n",
       "4  11/29/2018 08:26       3.39     17850.0  "
      ]
     },
     "execution_count": 3,
     "metadata": {},
     "output_type": "execute_result"
    }
   ],
   "source": [
    "data.head()"
   ]
  },
  {
   "cell_type": "code",
   "execution_count": 4,
   "id": "9cd522aa",
   "metadata": {},
   "outputs": [
    {
     "name": "stdout",
     "output_type": "stream",
     "text": [
      "<class 'pandas.core.frame.DataFrame'>\n",
      "RangeIndex: 541909 entries, 0 to 541908\n",
      "Data columns (total 7 columns):\n",
      " #   Column       Non-Null Count   Dtype  \n",
      "---  ------       --------------   -----  \n",
      " 0   InvoiceNo    541909 non-null  object \n",
      " 1   StockCode    541909 non-null  object \n",
      " 2   Description  540455 non-null  object \n",
      " 3   Quantity     541909 non-null  int64  \n",
      " 4   InvoiceDate  541909 non-null  object \n",
      " 5   UnitPrice    541909 non-null  float64\n",
      " 6   CustomerID   406829 non-null  float64\n",
      "dtypes: float64(2), int64(1), object(4)\n",
      "memory usage: 28.9+ MB\n"
     ]
    }
   ],
   "source": [
    "data.info()"
   ]
  },
  {
   "cell_type": "code",
   "execution_count": 5,
   "id": "7eead18c",
   "metadata": {},
   "outputs": [
    {
     "data": {
      "text/html": [
       "<div>\n",
       "<style scoped>\n",
       "    .dataframe tbody tr th:only-of-type {\n",
       "        vertical-align: middle;\n",
       "    }\n",
       "\n",
       "    .dataframe tbody tr th {\n",
       "        vertical-align: top;\n",
       "    }\n",
       "\n",
       "    .dataframe thead th {\n",
       "        text-align: right;\n",
       "    }\n",
       "</style>\n",
       "<table border=\"1\" class=\"dataframe\">\n",
       "  <thead>\n",
       "    <tr style=\"text-align: right;\">\n",
       "      <th></th>\n",
       "      <th>Quantity</th>\n",
       "      <th>UnitPrice</th>\n",
       "      <th>CustomerID</th>\n",
       "    </tr>\n",
       "  </thead>\n",
       "  <tbody>\n",
       "    <tr>\n",
       "      <th>count</th>\n",
       "      <td>541909.000000</td>\n",
       "      <td>541909.000000</td>\n",
       "      <td>406829.000000</td>\n",
       "    </tr>\n",
       "    <tr>\n",
       "      <th>mean</th>\n",
       "      <td>9.552250</td>\n",
       "      <td>4.611114</td>\n",
       "      <td>15287.690570</td>\n",
       "    </tr>\n",
       "    <tr>\n",
       "      <th>std</th>\n",
       "      <td>218.081158</td>\n",
       "      <td>96.759853</td>\n",
       "      <td>1713.600303</td>\n",
       "    </tr>\n",
       "    <tr>\n",
       "      <th>min</th>\n",
       "      <td>-80995.000000</td>\n",
       "      <td>-11062.060000</td>\n",
       "      <td>12346.000000</td>\n",
       "    </tr>\n",
       "    <tr>\n",
       "      <th>25%</th>\n",
       "      <td>1.000000</td>\n",
       "      <td>1.250000</td>\n",
       "      <td>13953.000000</td>\n",
       "    </tr>\n",
       "    <tr>\n",
       "      <th>50%</th>\n",
       "      <td>3.000000</td>\n",
       "      <td>2.080000</td>\n",
       "      <td>15152.000000</td>\n",
       "    </tr>\n",
       "    <tr>\n",
       "      <th>75%</th>\n",
       "      <td>10.000000</td>\n",
       "      <td>4.130000</td>\n",
       "      <td>16791.000000</td>\n",
       "    </tr>\n",
       "    <tr>\n",
       "      <th>max</th>\n",
       "      <td>80995.000000</td>\n",
       "      <td>38970.000000</td>\n",
       "      <td>18287.000000</td>\n",
       "    </tr>\n",
       "  </tbody>\n",
       "</table>\n",
       "</div>"
      ],
      "text/plain": [
       "            Quantity      UnitPrice     CustomerID\n",
       "count  541909.000000  541909.000000  406829.000000\n",
       "mean        9.552250       4.611114   15287.690570\n",
       "std       218.081158      96.759853    1713.600303\n",
       "min    -80995.000000  -11062.060000   12346.000000\n",
       "25%         1.000000       1.250000   13953.000000\n",
       "50%         3.000000       2.080000   15152.000000\n",
       "75%        10.000000       4.130000   16791.000000\n",
       "max     80995.000000   38970.000000   18287.000000"
      ]
     },
     "execution_count": 5,
     "metadata": {},
     "output_type": "execute_result"
    }
   ],
   "source": [
    "data.describe()"
   ]
  },
  {
   "cell_type": "code",
   "execution_count": 6,
   "id": "fdd895de",
   "metadata": {},
   "outputs": [
    {
     "data": {
      "text/html": [
       "<div>\n",
       "<style scoped>\n",
       "    .dataframe tbody tr th:only-of-type {\n",
       "        vertical-align: middle;\n",
       "    }\n",
       "\n",
       "    .dataframe tbody tr th {\n",
       "        vertical-align: top;\n",
       "    }\n",
       "\n",
       "    .dataframe thead th {\n",
       "        text-align: right;\n",
       "    }\n",
       "</style>\n",
       "<table border=\"1\" class=\"dataframe\">\n",
       "  <thead>\n",
       "    <tr style=\"text-align: right;\">\n",
       "      <th></th>\n",
       "      <th>InvoiceNo</th>\n",
       "      <th>StockCode</th>\n",
       "      <th>Description</th>\n",
       "      <th>InvoiceDate</th>\n",
       "    </tr>\n",
       "  </thead>\n",
       "  <tbody>\n",
       "    <tr>\n",
       "      <th>count</th>\n",
       "      <td>541909</td>\n",
       "      <td>541909</td>\n",
       "      <td>540455</td>\n",
       "      <td>541909</td>\n",
       "    </tr>\n",
       "    <tr>\n",
       "      <th>unique</th>\n",
       "      <td>25900</td>\n",
       "      <td>4070</td>\n",
       "      <td>4223</td>\n",
       "      <td>23260</td>\n",
       "    </tr>\n",
       "    <tr>\n",
       "      <th>top</th>\n",
       "      <td>573585</td>\n",
       "      <td>85123A</td>\n",
       "      <td>WHITE HANGING HEART T-LIGHT HOLDER</td>\n",
       "      <td>10/29/2019 14:41</td>\n",
       "    </tr>\n",
       "    <tr>\n",
       "      <th>freq</th>\n",
       "      <td>1114</td>\n",
       "      <td>2313</td>\n",
       "      <td>2369</td>\n",
       "      <td>1114</td>\n",
       "    </tr>\n",
       "  </tbody>\n",
       "</table>\n",
       "</div>"
      ],
      "text/plain": [
       "       InvoiceNo StockCode                         Description  \\\n",
       "count     541909    541909                              540455   \n",
       "unique     25900      4070                                4223   \n",
       "top       573585    85123A  WHITE HANGING HEART T-LIGHT HOLDER   \n",
       "freq        1114      2313                                2369   \n",
       "\n",
       "             InvoiceDate  \n",
       "count             541909  \n",
       "unique             23260  \n",
       "top     10/29/2019 14:41  \n",
       "freq                1114  "
      ]
     },
     "execution_count": 6,
     "metadata": {},
     "output_type": "execute_result"
    }
   ],
   "source": [
    "data.describe(include = 'object')"
   ]
  },
  {
   "cell_type": "code",
   "execution_count": 7,
   "id": "03343815",
   "metadata": {},
   "outputs": [
    {
     "data": {
      "text/plain": [
       "5268"
      ]
     },
     "execution_count": 7,
     "metadata": {},
     "output_type": "execute_result"
    }
   ],
   "source": [
    "data.duplicated().sum()"
   ]
  },
  {
   "cell_type": "markdown",
   "id": "f07b2064",
   "metadata": {},
   "source": [
    "We can see we have several problems in our data. First, We have some missing values in the customer_id and description columns. We can also see we have unrealistic values in the quantity and price columns. And finally, we have duplicates. Let's move on to preprocessing."
   ]
  },
  {
   "cell_type": "markdown",
   "id": "7290ded5",
   "metadata": {},
   "source": [
    "# Part 2: Data Preprocceing:"
   ]
  },
  {
   "cell_type": "markdown",
   "id": "d1f2fc8f",
   "metadata": {},
   "source": [
    "First, Let's turn the date column to 'datetime' type:"
   ]
  },
  {
   "cell_type": "code",
   "execution_count": 8,
   "id": "fb9d218b",
   "metadata": {},
   "outputs": [],
   "source": [
    "data['InvoiceDate'] = pd.to_datetime(data['InvoiceDate'], format = '%m/%d/%Y %H:%M')"
   ]
  },
  {
   "cell_type": "markdown",
   "id": "6b0d34a7",
   "metadata": {},
   "source": [
    "Now let's delete the duplicates:"
   ]
  },
  {
   "cell_type": "code",
   "execution_count": 9,
   "id": "7ba44cd9",
   "metadata": {},
   "outputs": [
    {
     "name": "stdout",
     "output_type": "stream",
     "text": [
      "<class 'pandas.core.frame.DataFrame'>\n",
      "RangeIndex: 536641 entries, 0 to 536640\n",
      "Data columns (total 7 columns):\n",
      " #   Column       Non-Null Count   Dtype         \n",
      "---  ------       --------------   -----         \n",
      " 0   InvoiceNo    536641 non-null  object        \n",
      " 1   StockCode    536641 non-null  object        \n",
      " 2   Description  535187 non-null  object        \n",
      " 3   Quantity     536641 non-null  int64         \n",
      " 4   InvoiceDate  536641 non-null  datetime64[ns]\n",
      " 5   UnitPrice    536641 non-null  float64       \n",
      " 6   CustomerID   401604 non-null  float64       \n",
      "dtypes: datetime64[ns](1), float64(2), int64(1), object(3)\n",
      "memory usage: 28.7+ MB\n"
     ]
    }
   ],
   "source": [
    "data = data.drop_duplicates().reset_index(drop = True)\n",
    "data.info()"
   ]
  },
  {
   "cell_type": "code",
   "execution_count": 10,
   "id": "f121614f",
   "metadata": {},
   "outputs": [
    {
     "data": {
      "text/html": [
       "<div>\n",
       "<style scoped>\n",
       "    .dataframe tbody tr th:only-of-type {\n",
       "        vertical-align: middle;\n",
       "    }\n",
       "\n",
       "    .dataframe tbody tr th {\n",
       "        vertical-align: top;\n",
       "    }\n",
       "\n",
       "    .dataframe thead th {\n",
       "        text-align: right;\n",
       "    }\n",
       "</style>\n",
       "<table border=\"1\" class=\"dataframe\">\n",
       "  <thead>\n",
       "    <tr style=\"text-align: right;\">\n",
       "      <th></th>\n",
       "      <th>InvoiceNo</th>\n",
       "      <th>StockCode</th>\n",
       "      <th>Description</th>\n",
       "    </tr>\n",
       "  </thead>\n",
       "  <tbody>\n",
       "    <tr>\n",
       "      <th>count</th>\n",
       "      <td>536641</td>\n",
       "      <td>536641</td>\n",
       "      <td>535187</td>\n",
       "    </tr>\n",
       "    <tr>\n",
       "      <th>unique</th>\n",
       "      <td>25900</td>\n",
       "      <td>4070</td>\n",
       "      <td>4223</td>\n",
       "    </tr>\n",
       "    <tr>\n",
       "      <th>top</th>\n",
       "      <td>573585</td>\n",
       "      <td>85123A</td>\n",
       "      <td>WHITE HANGING HEART T-LIGHT HOLDER</td>\n",
       "    </tr>\n",
       "    <tr>\n",
       "      <th>freq</th>\n",
       "      <td>1114</td>\n",
       "      <td>2301</td>\n",
       "      <td>2357</td>\n",
       "    </tr>\n",
       "  </tbody>\n",
       "</table>\n",
       "</div>"
      ],
      "text/plain": [
       "       InvoiceNo StockCode                         Description\n",
       "count     536641    536641                              535187\n",
       "unique     25900      4070                                4223\n",
       "top       573585    85123A  WHITE HANGING HEART T-LIGHT HOLDER\n",
       "freq        1114      2301                                2357"
      ]
     },
     "execution_count": 10,
     "metadata": {},
     "output_type": "execute_result"
    }
   ],
   "source": [
    "data.describe(include = 'object')"
   ]
  },
  {
   "cell_type": "markdown",
   "id": "295f553a",
   "metadata": {},
   "source": [
    "Great! Now let's first handle the missing values. Let's check if they have anything in common. We'll start with the 'Description' column's missing values:"
   ]
  },
  {
   "cell_type": "code",
   "execution_count": 11,
   "id": "7fc4519c",
   "metadata": {},
   "outputs": [
    {
     "data": {
      "text/html": [
       "<div>\n",
       "<style scoped>\n",
       "    .dataframe tbody tr th:only-of-type {\n",
       "        vertical-align: middle;\n",
       "    }\n",
       "\n",
       "    .dataframe tbody tr th {\n",
       "        vertical-align: top;\n",
       "    }\n",
       "\n",
       "    .dataframe thead th {\n",
       "        text-align: right;\n",
       "    }\n",
       "</style>\n",
       "<table border=\"1\" class=\"dataframe\">\n",
       "  <thead>\n",
       "    <tr style=\"text-align: right;\">\n",
       "      <th></th>\n",
       "      <th>InvoiceNo</th>\n",
       "      <th>StockCode</th>\n",
       "      <th>Description</th>\n",
       "      <th>Quantity</th>\n",
       "      <th>InvoiceDate</th>\n",
       "      <th>UnitPrice</th>\n",
       "      <th>CustomerID</th>\n",
       "    </tr>\n",
       "  </thead>\n",
       "  <tbody>\n",
       "    <tr>\n",
       "      <th>605</th>\n",
       "      <td>536414</td>\n",
       "      <td>22139</td>\n",
       "      <td>NaN</td>\n",
       "      <td>56</td>\n",
       "      <td>2018-11-29 11:52:00</td>\n",
       "      <td>0.0</td>\n",
       "      <td>NaN</td>\n",
       "    </tr>\n",
       "    <tr>\n",
       "      <th>1934</th>\n",
       "      <td>536545</td>\n",
       "      <td>21134</td>\n",
       "      <td>NaN</td>\n",
       "      <td>1</td>\n",
       "      <td>2018-11-29 14:32:00</td>\n",
       "      <td>0.0</td>\n",
       "      <td>NaN</td>\n",
       "    </tr>\n",
       "    <tr>\n",
       "      <th>1935</th>\n",
       "      <td>536546</td>\n",
       "      <td>22145</td>\n",
       "      <td>NaN</td>\n",
       "      <td>1</td>\n",
       "      <td>2018-11-29 14:33:00</td>\n",
       "      <td>0.0</td>\n",
       "      <td>NaN</td>\n",
       "    </tr>\n",
       "    <tr>\n",
       "      <th>1936</th>\n",
       "      <td>536547</td>\n",
       "      <td>37509</td>\n",
       "      <td>NaN</td>\n",
       "      <td>1</td>\n",
       "      <td>2018-11-29 14:33:00</td>\n",
       "      <td>0.0</td>\n",
       "      <td>NaN</td>\n",
       "    </tr>\n",
       "    <tr>\n",
       "      <th>1951</th>\n",
       "      <td>536549</td>\n",
       "      <td>85226A</td>\n",
       "      <td>NaN</td>\n",
       "      <td>1</td>\n",
       "      <td>2018-11-29 14:34:00</td>\n",
       "      <td>0.0</td>\n",
       "      <td>NaN</td>\n",
       "    </tr>\n",
       "    <tr>\n",
       "      <th>1952</th>\n",
       "      <td>536550</td>\n",
       "      <td>85044</td>\n",
       "      <td>NaN</td>\n",
       "      <td>1</td>\n",
       "      <td>2018-11-29 14:34:00</td>\n",
       "      <td>0.0</td>\n",
       "      <td>NaN</td>\n",
       "    </tr>\n",
       "    <tr>\n",
       "      <th>1984</th>\n",
       "      <td>536552</td>\n",
       "      <td>20950</td>\n",
       "      <td>NaN</td>\n",
       "      <td>1</td>\n",
       "      <td>2018-11-29 14:34:00</td>\n",
       "      <td>0.0</td>\n",
       "      <td>NaN</td>\n",
       "    </tr>\n",
       "    <tr>\n",
       "      <th>1985</th>\n",
       "      <td>536553</td>\n",
       "      <td>37461</td>\n",
       "      <td>NaN</td>\n",
       "      <td>3</td>\n",
       "      <td>2018-11-29 14:35:00</td>\n",
       "      <td>0.0</td>\n",
       "      <td>NaN</td>\n",
       "    </tr>\n",
       "    <tr>\n",
       "      <th>1986</th>\n",
       "      <td>536554</td>\n",
       "      <td>84670</td>\n",
       "      <td>NaN</td>\n",
       "      <td>23</td>\n",
       "      <td>2018-11-29 14:35:00</td>\n",
       "      <td>0.0</td>\n",
       "      <td>NaN</td>\n",
       "    </tr>\n",
       "    <tr>\n",
       "      <th>2362</th>\n",
       "      <td>536589</td>\n",
       "      <td>21777</td>\n",
       "      <td>NaN</td>\n",
       "      <td>-10</td>\n",
       "      <td>2018-11-29 16:50:00</td>\n",
       "      <td>0.0</td>\n",
       "      <td>NaN</td>\n",
       "    </tr>\n",
       "  </tbody>\n",
       "</table>\n",
       "</div>"
      ],
      "text/plain": [
       "     InvoiceNo StockCode Description  Quantity         InvoiceDate  UnitPrice  \\\n",
       "605     536414     22139         NaN        56 2018-11-29 11:52:00        0.0   \n",
       "1934    536545     21134         NaN         1 2018-11-29 14:32:00        0.0   \n",
       "1935    536546     22145         NaN         1 2018-11-29 14:33:00        0.0   \n",
       "1936    536547     37509         NaN         1 2018-11-29 14:33:00        0.0   \n",
       "1951    536549    85226A         NaN         1 2018-11-29 14:34:00        0.0   \n",
       "1952    536550     85044         NaN         1 2018-11-29 14:34:00        0.0   \n",
       "1984    536552     20950         NaN         1 2018-11-29 14:34:00        0.0   \n",
       "1985    536553     37461         NaN         3 2018-11-29 14:35:00        0.0   \n",
       "1986    536554     84670         NaN        23 2018-11-29 14:35:00        0.0   \n",
       "2362    536589     21777         NaN       -10 2018-11-29 16:50:00        0.0   \n",
       "\n",
       "      CustomerID  \n",
       "605          NaN  \n",
       "1934         NaN  \n",
       "1935         NaN  \n",
       "1936         NaN  \n",
       "1951         NaN  \n",
       "1952         NaN  \n",
       "1984         NaN  \n",
       "1985         NaN  \n",
       "1986         NaN  \n",
       "2362         NaN  "
      ]
     },
     "execution_count": 11,
     "metadata": {},
     "output_type": "execute_result"
    }
   ],
   "source": [
    "data.loc[data['Description'].isna()].head(10)"
   ]
  },
  {
   "cell_type": "markdown",
   "id": "7d94a063",
   "metadata": {},
   "source": [
    "We see that there is nothing in common with these missing values. They are a very small part of our data, so let's delete them:"
   ]
  },
  {
   "cell_type": "code",
   "execution_count": 12,
   "id": "37907b8d",
   "metadata": {},
   "outputs": [
    {
     "name": "stdout",
     "output_type": "stream",
     "text": [
      "<class 'pandas.core.frame.DataFrame'>\n",
      "Int64Index: 535187 entries, 0 to 536640\n",
      "Data columns (total 7 columns):\n",
      " #   Column       Non-Null Count   Dtype         \n",
      "---  ------       --------------   -----         \n",
      " 0   InvoiceNo    535187 non-null  object        \n",
      " 1   StockCode    535187 non-null  object        \n",
      " 2   Description  535187 non-null  object        \n",
      " 3   Quantity     535187 non-null  int64         \n",
      " 4   InvoiceDate  535187 non-null  datetime64[ns]\n",
      " 5   UnitPrice    535187 non-null  float64       \n",
      " 6   CustomerID   401604 non-null  float64       \n",
      "dtypes: datetime64[ns](1), float64(2), int64(1), object(3)\n",
      "memory usage: 32.7+ MB\n"
     ]
    }
   ],
   "source": [
    "data = data.dropna(subset = ['Description'], axis = 0)\n",
    "data.info()"
   ]
  },
  {
   "cell_type": "markdown",
   "id": "bf159819",
   "metadata": {},
   "source": [
    "Great! Let's check the other missing values:"
   ]
  },
  {
   "cell_type": "code",
   "execution_count": 13,
   "id": "c34f537f",
   "metadata": {},
   "outputs": [
    {
     "data": {
      "text/html": [
       "<div>\n",
       "<style scoped>\n",
       "    .dataframe tbody tr th:only-of-type {\n",
       "        vertical-align: middle;\n",
       "    }\n",
       "\n",
       "    .dataframe tbody tr th {\n",
       "        vertical-align: top;\n",
       "    }\n",
       "\n",
       "    .dataframe thead th {\n",
       "        text-align: right;\n",
       "    }\n",
       "</style>\n",
       "<table border=\"1\" class=\"dataframe\">\n",
       "  <thead>\n",
       "    <tr style=\"text-align: right;\">\n",
       "      <th></th>\n",
       "      <th>InvoiceNo</th>\n",
       "      <th>StockCode</th>\n",
       "      <th>Description</th>\n",
       "      <th>Quantity</th>\n",
       "      <th>InvoiceDate</th>\n",
       "      <th>UnitPrice</th>\n",
       "      <th>CustomerID</th>\n",
       "    </tr>\n",
       "  </thead>\n",
       "  <tbody>\n",
       "    <tr>\n",
       "      <th>1407</th>\n",
       "      <td>536544</td>\n",
       "      <td>21773</td>\n",
       "      <td>DECORATIVE ROSE BATHROOM BOTTLE</td>\n",
       "      <td>1</td>\n",
       "      <td>2018-11-29 14:32:00</td>\n",
       "      <td>2.51</td>\n",
       "      <td>NaN</td>\n",
       "    </tr>\n",
       "    <tr>\n",
       "      <th>1408</th>\n",
       "      <td>536544</td>\n",
       "      <td>21774</td>\n",
       "      <td>DECORATIVE CATS BATHROOM BOTTLE</td>\n",
       "      <td>2</td>\n",
       "      <td>2018-11-29 14:32:00</td>\n",
       "      <td>2.51</td>\n",
       "      <td>NaN</td>\n",
       "    </tr>\n",
       "    <tr>\n",
       "      <th>1409</th>\n",
       "      <td>536544</td>\n",
       "      <td>21786</td>\n",
       "      <td>POLKADOT RAIN HAT</td>\n",
       "      <td>4</td>\n",
       "      <td>2018-11-29 14:32:00</td>\n",
       "      <td>0.85</td>\n",
       "      <td>NaN</td>\n",
       "    </tr>\n",
       "    <tr>\n",
       "      <th>1410</th>\n",
       "      <td>536544</td>\n",
       "      <td>21787</td>\n",
       "      <td>RAIN PONCHO RETROSPOT</td>\n",
       "      <td>2</td>\n",
       "      <td>2018-11-29 14:32:00</td>\n",
       "      <td>1.66</td>\n",
       "      <td>NaN</td>\n",
       "    </tr>\n",
       "    <tr>\n",
       "      <th>1411</th>\n",
       "      <td>536544</td>\n",
       "      <td>21790</td>\n",
       "      <td>VINTAGE SNAP CARDS</td>\n",
       "      <td>9</td>\n",
       "      <td>2018-11-29 14:32:00</td>\n",
       "      <td>1.66</td>\n",
       "      <td>NaN</td>\n",
       "    </tr>\n",
       "    <tr>\n",
       "      <th>1412</th>\n",
       "      <td>536544</td>\n",
       "      <td>21791</td>\n",
       "      <td>VINTAGE HEADS AND TAILS CARD GAME</td>\n",
       "      <td>2</td>\n",
       "      <td>2018-11-29 14:32:00</td>\n",
       "      <td>2.51</td>\n",
       "      <td>NaN</td>\n",
       "    </tr>\n",
       "    <tr>\n",
       "      <th>1413</th>\n",
       "      <td>536544</td>\n",
       "      <td>21801</td>\n",
       "      <td>CHRISTMAS TREE DECORATION WITH BELL</td>\n",
       "      <td>10</td>\n",
       "      <td>2018-11-29 14:32:00</td>\n",
       "      <td>0.43</td>\n",
       "      <td>NaN</td>\n",
       "    </tr>\n",
       "    <tr>\n",
       "      <th>1414</th>\n",
       "      <td>536544</td>\n",
       "      <td>21802</td>\n",
       "      <td>CHRISTMAS TREE HEART DECORATION</td>\n",
       "      <td>9</td>\n",
       "      <td>2018-11-29 14:32:00</td>\n",
       "      <td>0.43</td>\n",
       "      <td>NaN</td>\n",
       "    </tr>\n",
       "    <tr>\n",
       "      <th>1415</th>\n",
       "      <td>536544</td>\n",
       "      <td>21803</td>\n",
       "      <td>CHRISTMAS TREE STAR DECORATION</td>\n",
       "      <td>11</td>\n",
       "      <td>2018-11-29 14:32:00</td>\n",
       "      <td>0.43</td>\n",
       "      <td>NaN</td>\n",
       "    </tr>\n",
       "    <tr>\n",
       "      <th>1416</th>\n",
       "      <td>536544</td>\n",
       "      <td>21809</td>\n",
       "      <td>CHRISTMAS HANGING TREE WITH BELL</td>\n",
       "      <td>1</td>\n",
       "      <td>2018-11-29 14:32:00</td>\n",
       "      <td>2.51</td>\n",
       "      <td>NaN</td>\n",
       "    </tr>\n",
       "  </tbody>\n",
       "</table>\n",
       "</div>"
      ],
      "text/plain": [
       "     InvoiceNo StockCode                          Description  Quantity  \\\n",
       "1407    536544     21773      DECORATIVE ROSE BATHROOM BOTTLE         1   \n",
       "1408    536544     21774      DECORATIVE CATS BATHROOM BOTTLE         2   \n",
       "1409    536544     21786                   POLKADOT RAIN HAT          4   \n",
       "1410    536544     21787                RAIN PONCHO RETROSPOT         2   \n",
       "1411    536544     21790                   VINTAGE SNAP CARDS         9   \n",
       "1412    536544     21791   VINTAGE HEADS AND TAILS CARD GAME          2   \n",
       "1413    536544     21801  CHRISTMAS TREE DECORATION WITH BELL        10   \n",
       "1414    536544     21802      CHRISTMAS TREE HEART DECORATION         9   \n",
       "1415    536544     21803       CHRISTMAS TREE STAR DECORATION        11   \n",
       "1416    536544     21809     CHRISTMAS HANGING TREE WITH BELL         1   \n",
       "\n",
       "             InvoiceDate  UnitPrice  CustomerID  \n",
       "1407 2018-11-29 14:32:00       2.51         NaN  \n",
       "1408 2018-11-29 14:32:00       2.51         NaN  \n",
       "1409 2018-11-29 14:32:00       0.85         NaN  \n",
       "1410 2018-11-29 14:32:00       1.66         NaN  \n",
       "1411 2018-11-29 14:32:00       1.66         NaN  \n",
       "1412 2018-11-29 14:32:00       2.51         NaN  \n",
       "1413 2018-11-29 14:32:00       0.43         NaN  \n",
       "1414 2018-11-29 14:32:00       0.43         NaN  \n",
       "1415 2018-11-29 14:32:00       0.43         NaN  \n",
       "1416 2018-11-29 14:32:00       2.51         NaN  "
      ]
     },
     "execution_count": 13,
     "metadata": {},
     "output_type": "execute_result"
    }
   ],
   "source": [
    "data.loc[data['CustomerID'].isna()].head(10)"
   ]
  },
  {
   "cell_type": "markdown",
   "id": "97239355",
   "metadata": {},
   "source": [
    "We see there is nothing in common. The null values in this column take a large amount of data(almost 25%), so we'll keep them for now, and filter the dataset if necessary."
   ]
  },
  {
   "cell_type": "markdown",
   "id": "ff9af5e0",
   "metadata": {},
   "source": [
    "We see we have low case descriptions that aren't the name of an item. Let's check those:"
   ]
  },
  {
   "cell_type": "code",
   "execution_count": 14,
   "id": "ddb08297",
   "metadata": {},
   "outputs": [
    {
     "data": {
      "text/plain": [
       "check                                  159\n",
       "damages                                 45\n",
       "damaged                                 43\n",
       "found                                   25\n",
       "sold as set on dotcom                   20\n",
       "                                      ... \n",
       "wrong code                               1\n",
       "wrong code?                              1\n",
       "did  a credit  and did not tick ret      1\n",
       "sold as 22467                            1\n",
       "lost                                     1\n",
       "Name: Description, Length: 127, dtype: int64"
      ]
     },
     "execution_count": 14,
     "metadata": {},
     "output_type": "execute_result"
    }
   ],
   "source": [
    "data.loc[data['Description'].str.islower()]['Description'].value_counts()"
   ]
  },
  {
   "cell_type": "markdown",
   "id": "003eb998",
   "metadata": {},
   "source": [
    "Looks like our unfiltered data also has all of the quantity updates for our stock. Let's filter that:"
   ]
  },
  {
   "cell_type": "code",
   "execution_count": 15,
   "id": "7fbfa550",
   "metadata": {},
   "outputs": [],
   "source": [
    "quantity_update = data.loc[data['Description'].str.islower()]"
   ]
  },
  {
   "cell_type": "markdown",
   "id": "1e563e41",
   "metadata": {},
   "source": [
    "Let's check the unlogical values in quantity and price:"
   ]
  },
  {
   "cell_type": "code",
   "execution_count": 16,
   "id": "1c02aa77",
   "metadata": {},
   "outputs": [
    {
     "data": {
      "text/html": [
       "<div>\n",
       "<style scoped>\n",
       "    .dataframe tbody tr th:only-of-type {\n",
       "        vertical-align: middle;\n",
       "    }\n",
       "\n",
       "    .dataframe tbody tr th {\n",
       "        vertical-align: top;\n",
       "    }\n",
       "\n",
       "    .dataframe thead th {\n",
       "        text-align: right;\n",
       "    }\n",
       "</style>\n",
       "<table border=\"1\" class=\"dataframe\">\n",
       "  <thead>\n",
       "    <tr style=\"text-align: right;\">\n",
       "      <th></th>\n",
       "      <th>InvoiceNo</th>\n",
       "      <th>StockCode</th>\n",
       "      <th>Description</th>\n",
       "      <th>Quantity</th>\n",
       "      <th>InvoiceDate</th>\n",
       "      <th>UnitPrice</th>\n",
       "      <th>CustomerID</th>\n",
       "    </tr>\n",
       "  </thead>\n",
       "  <tbody>\n",
       "    <tr>\n",
       "      <th>141</th>\n",
       "      <td>C536379</td>\n",
       "      <td>D</td>\n",
       "      <td>Discount</td>\n",
       "      <td>-1</td>\n",
       "      <td>2018-11-29 09:41:00</td>\n",
       "      <td>27.50</td>\n",
       "      <td>14527.0</td>\n",
       "    </tr>\n",
       "    <tr>\n",
       "      <th>154</th>\n",
       "      <td>C536383</td>\n",
       "      <td>35004C</td>\n",
       "      <td>SET OF 3 COLOURED  FLYING DUCKS</td>\n",
       "      <td>-1</td>\n",
       "      <td>2018-11-29 09:49:00</td>\n",
       "      <td>4.65</td>\n",
       "      <td>15311.0</td>\n",
       "    </tr>\n",
       "    <tr>\n",
       "      <th>235</th>\n",
       "      <td>C536391</td>\n",
       "      <td>22556</td>\n",
       "      <td>PLASTERS IN TIN CIRCUS PARADE</td>\n",
       "      <td>-12</td>\n",
       "      <td>2018-11-29 10:24:00</td>\n",
       "      <td>1.65</td>\n",
       "      <td>17548.0</td>\n",
       "    </tr>\n",
       "    <tr>\n",
       "      <th>236</th>\n",
       "      <td>C536391</td>\n",
       "      <td>21984</td>\n",
       "      <td>PACK OF 12 PINK PAISLEY TISSUES</td>\n",
       "      <td>-24</td>\n",
       "      <td>2018-11-29 10:24:00</td>\n",
       "      <td>0.29</td>\n",
       "      <td>17548.0</td>\n",
       "    </tr>\n",
       "    <tr>\n",
       "      <th>237</th>\n",
       "      <td>C536391</td>\n",
       "      <td>21983</td>\n",
       "      <td>PACK OF 12 BLUE PAISLEY TISSUES</td>\n",
       "      <td>-24</td>\n",
       "      <td>2018-11-29 10:24:00</td>\n",
       "      <td>0.29</td>\n",
       "      <td>17548.0</td>\n",
       "    </tr>\n",
       "    <tr>\n",
       "      <th>238</th>\n",
       "      <td>C536391</td>\n",
       "      <td>21980</td>\n",
       "      <td>PACK OF 12 RED RETROSPOT TISSUES</td>\n",
       "      <td>-24</td>\n",
       "      <td>2018-11-29 10:24:00</td>\n",
       "      <td>0.29</td>\n",
       "      <td>17548.0</td>\n",
       "    </tr>\n",
       "    <tr>\n",
       "      <th>239</th>\n",
       "      <td>C536391</td>\n",
       "      <td>21484</td>\n",
       "      <td>CHICK GREY HOT WATER BOTTLE</td>\n",
       "      <td>-12</td>\n",
       "      <td>2018-11-29 10:24:00</td>\n",
       "      <td>3.45</td>\n",
       "      <td>17548.0</td>\n",
       "    </tr>\n",
       "    <tr>\n",
       "      <th>240</th>\n",
       "      <td>C536391</td>\n",
       "      <td>22557</td>\n",
       "      <td>PLASTERS IN TIN VINTAGE PAISLEY</td>\n",
       "      <td>-12</td>\n",
       "      <td>2018-11-29 10:24:00</td>\n",
       "      <td>1.65</td>\n",
       "      <td>17548.0</td>\n",
       "    </tr>\n",
       "    <tr>\n",
       "      <th>241</th>\n",
       "      <td>C536391</td>\n",
       "      <td>22553</td>\n",
       "      <td>PLASTERS IN TIN SKULLS</td>\n",
       "      <td>-24</td>\n",
       "      <td>2018-11-29 10:24:00</td>\n",
       "      <td>1.65</td>\n",
       "      <td>17548.0</td>\n",
       "    </tr>\n",
       "    <tr>\n",
       "      <th>916</th>\n",
       "      <td>C536506</td>\n",
       "      <td>22960</td>\n",
       "      <td>JAM MAKING SET WITH JARS</td>\n",
       "      <td>-6</td>\n",
       "      <td>2018-11-29 12:38:00</td>\n",
       "      <td>4.25</td>\n",
       "      <td>17897.0</td>\n",
       "    </tr>\n",
       "  </tbody>\n",
       "</table>\n",
       "</div>"
      ],
      "text/plain": [
       "    InvoiceNo StockCode                        Description  Quantity  \\\n",
       "141   C536379         D                           Discount        -1   \n",
       "154   C536383    35004C    SET OF 3 COLOURED  FLYING DUCKS        -1   \n",
       "235   C536391     22556     PLASTERS IN TIN CIRCUS PARADE        -12   \n",
       "236   C536391     21984   PACK OF 12 PINK PAISLEY TISSUES        -24   \n",
       "237   C536391     21983   PACK OF 12 BLUE PAISLEY TISSUES        -24   \n",
       "238   C536391     21980  PACK OF 12 RED RETROSPOT TISSUES        -24   \n",
       "239   C536391     21484        CHICK GREY HOT WATER BOTTLE       -12   \n",
       "240   C536391     22557   PLASTERS IN TIN VINTAGE PAISLEY        -12   \n",
       "241   C536391     22553             PLASTERS IN TIN SKULLS       -24   \n",
       "916   C536506     22960           JAM MAKING SET WITH JARS        -6   \n",
       "\n",
       "            InvoiceDate  UnitPrice  CustomerID  \n",
       "141 2018-11-29 09:41:00      27.50     14527.0  \n",
       "154 2018-11-29 09:49:00       4.65     15311.0  \n",
       "235 2018-11-29 10:24:00       1.65     17548.0  \n",
       "236 2018-11-29 10:24:00       0.29     17548.0  \n",
       "237 2018-11-29 10:24:00       0.29     17548.0  \n",
       "238 2018-11-29 10:24:00       0.29     17548.0  \n",
       "239 2018-11-29 10:24:00       3.45     17548.0  \n",
       "240 2018-11-29 10:24:00       1.65     17548.0  \n",
       "241 2018-11-29 10:24:00       1.65     17548.0  \n",
       "916 2018-11-29 12:38:00       4.25     17897.0  "
      ]
     },
     "execution_count": 16,
     "metadata": {},
     "output_type": "execute_result"
    }
   ],
   "source": [
    "data.loc[data['Quantity'] <= 0].head(10)"
   ]
  },
  {
   "cell_type": "code",
   "execution_count": 17,
   "id": "c8b12c2e",
   "metadata": {},
   "outputs": [
    {
     "data": {
      "text/html": [
       "<div>\n",
       "<style scoped>\n",
       "    .dataframe tbody tr th:only-of-type {\n",
       "        vertical-align: middle;\n",
       "    }\n",
       "\n",
       "    .dataframe tbody tr th {\n",
       "        vertical-align: top;\n",
       "    }\n",
       "\n",
       "    .dataframe thead th {\n",
       "        text-align: right;\n",
       "    }\n",
       "</style>\n",
       "<table border=\"1\" class=\"dataframe\">\n",
       "  <thead>\n",
       "    <tr style=\"text-align: right;\">\n",
       "      <th></th>\n",
       "      <th>InvoiceNo</th>\n",
       "      <th>StockCode</th>\n",
       "      <th>Description</th>\n",
       "      <th>Quantity</th>\n",
       "      <th>InvoiceDate</th>\n",
       "      <th>UnitPrice</th>\n",
       "      <th>CustomerID</th>\n",
       "    </tr>\n",
       "  </thead>\n",
       "  <tbody>\n",
       "    <tr>\n",
       "      <th>297646</th>\n",
       "      <td>A563186</td>\n",
       "      <td>B</td>\n",
       "      <td>Adjust bad debt</td>\n",
       "      <td>1</td>\n",
       "      <td>2019-08-10 14:51:00</td>\n",
       "      <td>-11062.06</td>\n",
       "      <td>NaN</td>\n",
       "    </tr>\n",
       "    <tr>\n",
       "      <th>297647</th>\n",
       "      <td>A563187</td>\n",
       "      <td>B</td>\n",
       "      <td>Adjust bad debt</td>\n",
       "      <td>1</td>\n",
       "      <td>2019-08-10 14:52:00</td>\n",
       "      <td>-11062.06</td>\n",
       "      <td>NaN</td>\n",
       "    </tr>\n",
       "  </tbody>\n",
       "</table>\n",
       "</div>"
      ],
      "text/plain": [
       "       InvoiceNo StockCode      Description  Quantity         InvoiceDate  \\\n",
       "297646   A563186         B  Adjust bad debt         1 2019-08-10 14:51:00   \n",
       "297647   A563187         B  Adjust bad debt         1 2019-08-10 14:52:00   \n",
       "\n",
       "        UnitPrice  CustomerID  \n",
       "297646  -11062.06         NaN  \n",
       "297647  -11062.06         NaN  "
      ]
     },
     "execution_count": 17,
     "metadata": {},
     "output_type": "execute_result"
    }
   ],
   "source": [
    "data.loc[data['UnitPrice'] < 0].head(10)"
   ]
  },
  {
   "cell_type": "markdown",
   "id": "73737004",
   "metadata": {},
   "source": [
    "We can see that the irregular numbers in the quantity are items that customers are refunded for: probably returned, or discounts they recived. In the price column, We can see that there is bad debt that has been recorded as a loss to our store. Let's filter the data:"
   ]
  },
  {
   "cell_type": "code",
   "execution_count": 18,
   "id": "7b83d486",
   "metadata": {},
   "outputs": [
    {
     "data": {
      "text/html": [
       "<div>\n",
       "<style scoped>\n",
       "    .dataframe tbody tr th:only-of-type {\n",
       "        vertical-align: middle;\n",
       "    }\n",
       "\n",
       "    .dataframe tbody tr th {\n",
       "        vertical-align: top;\n",
       "    }\n",
       "\n",
       "    .dataframe thead th {\n",
       "        text-align: right;\n",
       "    }\n",
       "</style>\n",
       "<table border=\"1\" class=\"dataframe\">\n",
       "  <thead>\n",
       "    <tr style=\"text-align: right;\">\n",
       "      <th></th>\n",
       "      <th>InvoiceNo</th>\n",
       "      <th>StockCode</th>\n",
       "      <th>Description</th>\n",
       "      <th>Quantity</th>\n",
       "      <th>InvoiceDate</th>\n",
       "      <th>UnitPrice</th>\n",
       "      <th>CustomerID</th>\n",
       "    </tr>\n",
       "  </thead>\n",
       "  <tbody>\n",
       "    <tr>\n",
       "      <th>141</th>\n",
       "      <td>C536379</td>\n",
       "      <td>D</td>\n",
       "      <td>Discount</td>\n",
       "      <td>-1</td>\n",
       "      <td>2018-11-29 09:41:00</td>\n",
       "      <td>27.50</td>\n",
       "      <td>14527.0</td>\n",
       "    </tr>\n",
       "    <tr>\n",
       "      <th>154</th>\n",
       "      <td>C536383</td>\n",
       "      <td>35004C</td>\n",
       "      <td>SET OF 3 COLOURED  FLYING DUCKS</td>\n",
       "      <td>-1</td>\n",
       "      <td>2018-11-29 09:49:00</td>\n",
       "      <td>4.65</td>\n",
       "      <td>15311.0</td>\n",
       "    </tr>\n",
       "    <tr>\n",
       "      <th>235</th>\n",
       "      <td>C536391</td>\n",
       "      <td>22556</td>\n",
       "      <td>PLASTERS IN TIN CIRCUS PARADE</td>\n",
       "      <td>-12</td>\n",
       "      <td>2018-11-29 10:24:00</td>\n",
       "      <td>1.65</td>\n",
       "      <td>17548.0</td>\n",
       "    </tr>\n",
       "    <tr>\n",
       "      <th>236</th>\n",
       "      <td>C536391</td>\n",
       "      <td>21984</td>\n",
       "      <td>PACK OF 12 PINK PAISLEY TISSUES</td>\n",
       "      <td>-24</td>\n",
       "      <td>2018-11-29 10:24:00</td>\n",
       "      <td>0.29</td>\n",
       "      <td>17548.0</td>\n",
       "    </tr>\n",
       "    <tr>\n",
       "      <th>237</th>\n",
       "      <td>C536391</td>\n",
       "      <td>21983</td>\n",
       "      <td>PACK OF 12 BLUE PAISLEY TISSUES</td>\n",
       "      <td>-24</td>\n",
       "      <td>2018-11-29 10:24:00</td>\n",
       "      <td>0.29</td>\n",
       "      <td>17548.0</td>\n",
       "    </tr>\n",
       "    <tr>\n",
       "      <th>...</th>\n",
       "      <td>...</td>\n",
       "      <td>...</td>\n",
       "      <td>...</td>\n",
       "      <td>...</td>\n",
       "      <td>...</td>\n",
       "      <td>...</td>\n",
       "      <td>...</td>\n",
       "    </tr>\n",
       "    <tr>\n",
       "      <th>535188</th>\n",
       "      <td>C581490</td>\n",
       "      <td>23144</td>\n",
       "      <td>ZINC T-LIGHT HOLDER STARS SMALL</td>\n",
       "      <td>-11</td>\n",
       "      <td>2019-12-07 09:57:00</td>\n",
       "      <td>0.83</td>\n",
       "      <td>14397.0</td>\n",
       "    </tr>\n",
       "    <tr>\n",
       "      <th>536280</th>\n",
       "      <td>C581499</td>\n",
       "      <td>M</td>\n",
       "      <td>Manual</td>\n",
       "      <td>-1</td>\n",
       "      <td>2019-12-07 10:28:00</td>\n",
       "      <td>224.69</td>\n",
       "      <td>15498.0</td>\n",
       "    </tr>\n",
       "    <tr>\n",
       "      <th>536447</th>\n",
       "      <td>C581568</td>\n",
       "      <td>21258</td>\n",
       "      <td>VICTORIAN SEWING BOX LARGE</td>\n",
       "      <td>-5</td>\n",
       "      <td>2019-12-07 11:57:00</td>\n",
       "      <td>10.95</td>\n",
       "      <td>15311.0</td>\n",
       "    </tr>\n",
       "    <tr>\n",
       "      <th>536448</th>\n",
       "      <td>C581569</td>\n",
       "      <td>84978</td>\n",
       "      <td>HANGING HEART JAR T-LIGHT HOLDER</td>\n",
       "      <td>-1</td>\n",
       "      <td>2019-12-07 11:58:00</td>\n",
       "      <td>1.25</td>\n",
       "      <td>17315.0</td>\n",
       "    </tr>\n",
       "    <tr>\n",
       "      <th>536449</th>\n",
       "      <td>C581569</td>\n",
       "      <td>20979</td>\n",
       "      <td>36 PENCILS TUBE RED RETROSPOT</td>\n",
       "      <td>-5</td>\n",
       "      <td>2019-12-07 11:58:00</td>\n",
       "      <td>1.25</td>\n",
       "      <td>17315.0</td>\n",
       "    </tr>\n",
       "  </tbody>\n",
       "</table>\n",
       "<p>9725 rows × 7 columns</p>\n",
       "</div>"
      ],
      "text/plain": [
       "       InvoiceNo StockCode                       Description  Quantity  \\\n",
       "141      C536379         D                          Discount        -1   \n",
       "154      C536383    35004C   SET OF 3 COLOURED  FLYING DUCKS        -1   \n",
       "235      C536391     22556    PLASTERS IN TIN CIRCUS PARADE        -12   \n",
       "236      C536391     21984  PACK OF 12 PINK PAISLEY TISSUES        -24   \n",
       "237      C536391     21983  PACK OF 12 BLUE PAISLEY TISSUES        -24   \n",
       "...          ...       ...                               ...       ...   \n",
       "535188   C581490     23144   ZINC T-LIGHT HOLDER STARS SMALL       -11   \n",
       "536280   C581499         M                            Manual        -1   \n",
       "536447   C581568     21258        VICTORIAN SEWING BOX LARGE        -5   \n",
       "536448   C581569     84978  HANGING HEART JAR T-LIGHT HOLDER        -1   \n",
       "536449   C581569     20979     36 PENCILS TUBE RED RETROSPOT        -5   \n",
       "\n",
       "               InvoiceDate  UnitPrice  CustomerID  \n",
       "141    2018-11-29 09:41:00      27.50     14527.0  \n",
       "154    2018-11-29 09:49:00       4.65     15311.0  \n",
       "235    2018-11-29 10:24:00       1.65     17548.0  \n",
       "236    2018-11-29 10:24:00       0.29     17548.0  \n",
       "237    2018-11-29 10:24:00       0.29     17548.0  \n",
       "...                    ...        ...         ...  \n",
       "535188 2019-12-07 09:57:00       0.83     14397.0  \n",
       "536280 2019-12-07 10:28:00     224.69     15498.0  \n",
       "536447 2019-12-07 11:57:00      10.95     15311.0  \n",
       "536448 2019-12-07 11:58:00       1.25     17315.0  \n",
       "536449 2019-12-07 11:58:00       1.25     17315.0  \n",
       "\n",
       "[9725 rows x 7 columns]"
      ]
     },
     "execution_count": 18,
     "metadata": {},
     "output_type": "execute_result"
    }
   ],
   "source": [
    "refunds = data.loc[data['Quantity'] <= 0]\n",
    "refunds"
   ]
  },
  {
   "cell_type": "markdown",
   "id": "02681c3b",
   "metadata": {},
   "source": [
    "Let's filter the price too:"
   ]
  },
  {
   "cell_type": "code",
   "execution_count": 19,
   "id": "11bdcd88",
   "metadata": {},
   "outputs": [
    {
     "data": {
      "text/html": [
       "<div>\n",
       "<style scoped>\n",
       "    .dataframe tbody tr th:only-of-type {\n",
       "        vertical-align: middle;\n",
       "    }\n",
       "\n",
       "    .dataframe tbody tr th {\n",
       "        vertical-align: top;\n",
       "    }\n",
       "\n",
       "    .dataframe thead th {\n",
       "        text-align: right;\n",
       "    }\n",
       "</style>\n",
       "<table border=\"1\" class=\"dataframe\">\n",
       "  <thead>\n",
       "    <tr style=\"text-align: right;\">\n",
       "      <th></th>\n",
       "      <th>InvoiceNo</th>\n",
       "      <th>StockCode</th>\n",
       "      <th>Description</th>\n",
       "      <th>Quantity</th>\n",
       "      <th>InvoiceDate</th>\n",
       "      <th>UnitPrice</th>\n",
       "      <th>CustomerID</th>\n",
       "    </tr>\n",
       "  </thead>\n",
       "  <tbody>\n",
       "    <tr>\n",
       "      <th>297646</th>\n",
       "      <td>A563186</td>\n",
       "      <td>B</td>\n",
       "      <td>Adjust bad debt</td>\n",
       "      <td>1</td>\n",
       "      <td>2019-08-10 14:51:00</td>\n",
       "      <td>-11062.06</td>\n",
       "      <td>NaN</td>\n",
       "    </tr>\n",
       "    <tr>\n",
       "      <th>297647</th>\n",
       "      <td>A563187</td>\n",
       "      <td>B</td>\n",
       "      <td>Adjust bad debt</td>\n",
       "      <td>1</td>\n",
       "      <td>2019-08-10 14:52:00</td>\n",
       "      <td>-11062.06</td>\n",
       "      <td>NaN</td>\n",
       "    </tr>\n",
       "  </tbody>\n",
       "</table>\n",
       "</div>"
      ],
      "text/plain": [
       "       InvoiceNo StockCode      Description  Quantity         InvoiceDate  \\\n",
       "297646   A563186         B  Adjust bad debt         1 2019-08-10 14:51:00   \n",
       "297647   A563187         B  Adjust bad debt         1 2019-08-10 14:52:00   \n",
       "\n",
       "        UnitPrice  CustomerID  \n",
       "297646  -11062.06         NaN  \n",
       "297647  -11062.06         NaN  "
      ]
     },
     "execution_count": 19,
     "metadata": {},
     "output_type": "execute_result"
    }
   ],
   "source": [
    "debt = data.loc[data['UnitPrice'] < 0]\n",
    "debt"
   ]
  },
  {
   "cell_type": "markdown",
   "id": "bce7dbcb",
   "metadata": {},
   "source": [
    "Great! Let's check our data table once more:"
   ]
  },
  {
   "cell_type": "code",
   "execution_count": 20,
   "id": "89390382",
   "metadata": {},
   "outputs": [
    {
     "name": "stdout",
     "output_type": "stream",
     "text": [
      "<class 'pandas.core.frame.DataFrame'>\n",
      "Int64Index: 535187 entries, 0 to 536640\n",
      "Data columns (total 7 columns):\n",
      " #   Column       Non-Null Count   Dtype         \n",
      "---  ------       --------------   -----         \n",
      " 0   InvoiceNo    535187 non-null  object        \n",
      " 1   StockCode    535187 non-null  object        \n",
      " 2   Description  535187 non-null  object        \n",
      " 3   Quantity     535187 non-null  int64         \n",
      " 4   InvoiceDate  535187 non-null  datetime64[ns]\n",
      " 5   UnitPrice    535187 non-null  float64       \n",
      " 6   CustomerID   401604 non-null  float64       \n",
      "dtypes: datetime64[ns](1), float64(2), int64(1), object(3)\n",
      "memory usage: 32.7+ MB\n"
     ]
    }
   ],
   "source": [
    "data.info()"
   ]
  },
  {
   "cell_type": "code",
   "execution_count": 21,
   "id": "63d61d48",
   "metadata": {},
   "outputs": [
    {
     "data": {
      "text/html": [
       "<div>\n",
       "<style scoped>\n",
       "    .dataframe tbody tr th:only-of-type {\n",
       "        vertical-align: middle;\n",
       "    }\n",
       "\n",
       "    .dataframe tbody tr th {\n",
       "        vertical-align: top;\n",
       "    }\n",
       "\n",
       "    .dataframe thead th {\n",
       "        text-align: right;\n",
       "    }\n",
       "</style>\n",
       "<table border=\"1\" class=\"dataframe\">\n",
       "  <thead>\n",
       "    <tr style=\"text-align: right;\">\n",
       "      <th></th>\n",
       "      <th>Quantity</th>\n",
       "      <th>UnitPrice</th>\n",
       "      <th>CustomerID</th>\n",
       "    </tr>\n",
       "  </thead>\n",
       "  <tbody>\n",
       "    <tr>\n",
       "      <th>count</th>\n",
       "      <td>535187.000000</td>\n",
       "      <td>535187.000000</td>\n",
       "      <td>401604.000000</td>\n",
       "    </tr>\n",
       "    <tr>\n",
       "      <th>mean</th>\n",
       "      <td>9.671593</td>\n",
       "      <td>4.645242</td>\n",
       "      <td>15281.160818</td>\n",
       "    </tr>\n",
       "    <tr>\n",
       "      <th>std</th>\n",
       "      <td>219.059056</td>\n",
       "      <td>97.364810</td>\n",
       "      <td>1714.006089</td>\n",
       "    </tr>\n",
       "    <tr>\n",
       "      <th>min</th>\n",
       "      <td>-80995.000000</td>\n",
       "      <td>-11062.060000</td>\n",
       "      <td>12346.000000</td>\n",
       "    </tr>\n",
       "    <tr>\n",
       "      <th>25%</th>\n",
       "      <td>1.000000</td>\n",
       "      <td>1.250000</td>\n",
       "      <td>13939.000000</td>\n",
       "    </tr>\n",
       "    <tr>\n",
       "      <th>50%</th>\n",
       "      <td>3.000000</td>\n",
       "      <td>2.080000</td>\n",
       "      <td>15145.000000</td>\n",
       "    </tr>\n",
       "    <tr>\n",
       "      <th>75%</th>\n",
       "      <td>10.000000</td>\n",
       "      <td>4.130000</td>\n",
       "      <td>16784.000000</td>\n",
       "    </tr>\n",
       "    <tr>\n",
       "      <th>max</th>\n",
       "      <td>80995.000000</td>\n",
       "      <td>38970.000000</td>\n",
       "      <td>18287.000000</td>\n",
       "    </tr>\n",
       "  </tbody>\n",
       "</table>\n",
       "</div>"
      ],
      "text/plain": [
       "            Quantity      UnitPrice     CustomerID\n",
       "count  535187.000000  535187.000000  401604.000000\n",
       "mean        9.671593       4.645242   15281.160818\n",
       "std       219.059056      97.364810    1714.006089\n",
       "min    -80995.000000  -11062.060000   12346.000000\n",
       "25%         1.000000       1.250000   13939.000000\n",
       "50%         3.000000       2.080000   15145.000000\n",
       "75%        10.000000       4.130000   16784.000000\n",
       "max     80995.000000   38970.000000   18287.000000"
      ]
     },
     "execution_count": 21,
     "metadata": {},
     "output_type": "execute_result"
    }
   ],
   "source": [
    "data.describe()"
   ]
  },
  {
   "cell_type": "code",
   "execution_count": 22,
   "id": "e5b689a7",
   "metadata": {},
   "outputs": [
    {
     "data": {
      "text/html": [
       "<div>\n",
       "<style scoped>\n",
       "    .dataframe tbody tr th:only-of-type {\n",
       "        vertical-align: middle;\n",
       "    }\n",
       "\n",
       "    .dataframe tbody tr th {\n",
       "        vertical-align: top;\n",
       "    }\n",
       "\n",
       "    .dataframe thead th {\n",
       "        text-align: right;\n",
       "    }\n",
       "</style>\n",
       "<table border=\"1\" class=\"dataframe\">\n",
       "  <thead>\n",
       "    <tr style=\"text-align: right;\">\n",
       "      <th></th>\n",
       "      <th>InvoiceNo</th>\n",
       "      <th>StockCode</th>\n",
       "      <th>Description</th>\n",
       "    </tr>\n",
       "  </thead>\n",
       "  <tbody>\n",
       "    <tr>\n",
       "      <th>count</th>\n",
       "      <td>535187</td>\n",
       "      <td>535187</td>\n",
       "      <td>535187</td>\n",
       "    </tr>\n",
       "    <tr>\n",
       "      <th>unique</th>\n",
       "      <td>24446</td>\n",
       "      <td>3958</td>\n",
       "      <td>4223</td>\n",
       "    </tr>\n",
       "    <tr>\n",
       "      <th>top</th>\n",
       "      <td>573585</td>\n",
       "      <td>85123A</td>\n",
       "      <td>WHITE HANGING HEART T-LIGHT HOLDER</td>\n",
       "    </tr>\n",
       "    <tr>\n",
       "      <th>freq</th>\n",
       "      <td>1114</td>\n",
       "      <td>2301</td>\n",
       "      <td>2357</td>\n",
       "    </tr>\n",
       "  </tbody>\n",
       "</table>\n",
       "</div>"
      ],
      "text/plain": [
       "       InvoiceNo StockCode                         Description\n",
       "count     535187    535187                              535187\n",
       "unique     24446      3958                                4223\n",
       "top       573585    85123A  WHITE HANGING HEART T-LIGHT HOLDER\n",
       "freq        1114      2301                                2357"
      ]
     },
     "execution_count": 22,
     "metadata": {},
     "output_type": "execute_result"
    }
   ],
   "source": [
    "data.describe(include = 'object')"
   ]
  },
  {
   "cell_type": "markdown",
   "id": "23209d32",
   "metadata": {},
   "source": [
    "We see there still is a problem in the 'price' column: We have times that price = 0 . Let's check that:"
   ]
  },
  {
   "cell_type": "code",
   "execution_count": 23,
   "id": "308265da",
   "metadata": {},
   "outputs": [
    {
     "data": {
      "text/html": [
       "<div>\n",
       "<style scoped>\n",
       "    .dataframe tbody tr th:only-of-type {\n",
       "        vertical-align: middle;\n",
       "    }\n",
       "\n",
       "    .dataframe tbody tr th {\n",
       "        vertical-align: top;\n",
       "    }\n",
       "\n",
       "    .dataframe thead th {\n",
       "        text-align: right;\n",
       "    }\n",
       "</style>\n",
       "<table border=\"1\" class=\"dataframe\">\n",
       "  <thead>\n",
       "    <tr style=\"text-align: right;\">\n",
       "      <th></th>\n",
       "      <th>InvoiceNo</th>\n",
       "      <th>StockCode</th>\n",
       "      <th>Description</th>\n",
       "      <th>Quantity</th>\n",
       "      <th>InvoiceDate</th>\n",
       "      <th>UnitPrice</th>\n",
       "      <th>CustomerID</th>\n",
       "    </tr>\n",
       "  </thead>\n",
       "  <tbody>\n",
       "    <tr>\n",
       "      <th>6294</th>\n",
       "      <td>536941</td>\n",
       "      <td>22734</td>\n",
       "      <td>amazon</td>\n",
       "      <td>20</td>\n",
       "      <td>2018-12-01 12:08:00</td>\n",
       "      <td>0.0</td>\n",
       "      <td>NaN</td>\n",
       "    </tr>\n",
       "    <tr>\n",
       "      <th>6295</th>\n",
       "      <td>536942</td>\n",
       "      <td>22139</td>\n",
       "      <td>amazon</td>\n",
       "      <td>15</td>\n",
       "      <td>2018-12-01 12:08:00</td>\n",
       "      <td>0.0</td>\n",
       "      <td>NaN</td>\n",
       "    </tr>\n",
       "    <tr>\n",
       "      <th>7211</th>\n",
       "      <td>537032</td>\n",
       "      <td>21275</td>\n",
       "      <td>?</td>\n",
       "      <td>-30</td>\n",
       "      <td>2018-12-01 16:50:00</td>\n",
       "      <td>0.0</td>\n",
       "      <td>NaN</td>\n",
       "    </tr>\n",
       "    <tr>\n",
       "      <th>9132</th>\n",
       "      <td>537197</td>\n",
       "      <td>22841</td>\n",
       "      <td>ROUND CAKE TIN VINTAGE GREEN</td>\n",
       "      <td>1</td>\n",
       "      <td>2018-12-03 14:02:00</td>\n",
       "      <td>0.0</td>\n",
       "      <td>12647.0</td>\n",
       "    </tr>\n",
       "    <tr>\n",
       "      <th>12963</th>\n",
       "      <td>537425</td>\n",
       "      <td>84968F</td>\n",
       "      <td>check</td>\n",
       "      <td>-20</td>\n",
       "      <td>2018-12-04 15:35:00</td>\n",
       "      <td>0.0</td>\n",
       "      <td>NaN</td>\n",
       "    </tr>\n",
       "  </tbody>\n",
       "</table>\n",
       "</div>"
      ],
      "text/plain": [
       "      InvoiceNo StockCode                   Description  Quantity  \\\n",
       "6294     536941     22734                        amazon        20   \n",
       "6295     536942     22139                        amazon        15   \n",
       "7211     537032     21275                             ?       -30   \n",
       "9132     537197     22841  ROUND CAKE TIN VINTAGE GREEN         1   \n",
       "12963    537425    84968F                         check       -20   \n",
       "\n",
       "              InvoiceDate  UnitPrice  CustomerID  \n",
       "6294  2018-12-01 12:08:00        0.0         NaN  \n",
       "6295  2018-12-01 12:08:00        0.0         NaN  \n",
       "7211  2018-12-01 16:50:00        0.0         NaN  \n",
       "9132  2018-12-03 14:02:00        0.0     12647.0  \n",
       "12963 2018-12-04 15:35:00        0.0         NaN  "
      ]
     },
     "execution_count": 23,
     "metadata": {},
     "output_type": "execute_result"
    }
   ],
   "source": [
    "data.loc[data['UnitPrice'] == 0].head()"
   ]
  },
  {
   "cell_type": "markdown",
   "id": "2930fa2f",
   "metadata": {},
   "source": [
    "Great! Let's take these rows out of our refunds:"
   ]
  },
  {
   "cell_type": "code",
   "execution_count": 24,
   "id": "e8469b6a",
   "metadata": {},
   "outputs": [
    {
     "data": {
      "text/plain": [
       "9360"
      ]
     },
     "execution_count": 24,
     "metadata": {},
     "output_type": "execute_result"
    }
   ],
   "source": [
    "refunds = refunds.drop(refunds.loc[refunds['Description'].str.islower()].index, axis = 0)\n",
    "len(refunds)"
   ]
  },
  {
   "cell_type": "markdown",
   "id": "cc6ee3ce",
   "metadata": {},
   "source": [
    "Let's create a filtered table for sales:"
   ]
  },
  {
   "cell_type": "code",
   "execution_count": 25,
   "id": "3482a63f",
   "metadata": {},
   "outputs": [],
   "source": [
    "sales = data.loc[(data['UnitPrice'] > 0)]"
   ]
  },
  {
   "cell_type": "markdown",
   "id": "5ed948b8",
   "metadata": {},
   "source": [
    "Let's check our sales table:"
   ]
  },
  {
   "cell_type": "code",
   "execution_count": 26,
   "id": "5655ca71",
   "metadata": {},
   "outputs": [
    {
     "name": "stdout",
     "output_type": "stream",
     "text": [
      "<class 'pandas.core.frame.DataFrame'>\n",
      "Int64Index: 534129 entries, 0 to 536640\n",
      "Data columns (total 7 columns):\n",
      " #   Column       Non-Null Count   Dtype         \n",
      "---  ------       --------------   -----         \n",
      " 0   InvoiceNo    534129 non-null  object        \n",
      " 1   StockCode    534129 non-null  object        \n",
      " 2   Description  534129 non-null  object        \n",
      " 3   Quantity     534129 non-null  int64         \n",
      " 4   InvoiceDate  534129 non-null  datetime64[ns]\n",
      " 5   UnitPrice    534129 non-null  float64       \n",
      " 6   CustomerID   401564 non-null  float64       \n",
      "dtypes: datetime64[ns](1), float64(2), int64(1), object(3)\n",
      "memory usage: 32.6+ MB\n"
     ]
    }
   ],
   "source": [
    "sales.info()"
   ]
  },
  {
   "cell_type": "code",
   "execution_count": 27,
   "id": "400927ca",
   "metadata": {},
   "outputs": [
    {
     "data": {
      "text/html": [
       "<div>\n",
       "<style scoped>\n",
       "    .dataframe tbody tr th:only-of-type {\n",
       "        vertical-align: middle;\n",
       "    }\n",
       "\n",
       "    .dataframe tbody tr th {\n",
       "        vertical-align: top;\n",
       "    }\n",
       "\n",
       "    .dataframe thead th {\n",
       "        text-align: right;\n",
       "    }\n",
       "</style>\n",
       "<table border=\"1\" class=\"dataframe\">\n",
       "  <thead>\n",
       "    <tr style=\"text-align: right;\">\n",
       "      <th></th>\n",
       "      <th>Quantity</th>\n",
       "      <th>UnitPrice</th>\n",
       "      <th>CustomerID</th>\n",
       "    </tr>\n",
       "  </thead>\n",
       "  <tbody>\n",
       "    <tr>\n",
       "      <th>count</th>\n",
       "      <td>534129.000000</td>\n",
       "      <td>534129.000000</td>\n",
       "      <td>401564.000000</td>\n",
       "    </tr>\n",
       "    <tr>\n",
       "      <th>mean</th>\n",
       "      <td>9.916818</td>\n",
       "      <td>4.695864</td>\n",
       "      <td>15281.266797</td>\n",
       "    </tr>\n",
       "    <tr>\n",
       "      <th>std</th>\n",
       "      <td>216.452113</td>\n",
       "      <td>95.079189</td>\n",
       "      <td>1713.978947</td>\n",
       "    </tr>\n",
       "    <tr>\n",
       "      <th>min</th>\n",
       "      <td>-80995.000000</td>\n",
       "      <td>0.001000</td>\n",
       "      <td>12346.000000</td>\n",
       "    </tr>\n",
       "    <tr>\n",
       "      <th>25%</th>\n",
       "      <td>1.000000</td>\n",
       "      <td>1.250000</td>\n",
       "      <td>13939.000000</td>\n",
       "    </tr>\n",
       "    <tr>\n",
       "      <th>50%</th>\n",
       "      <td>3.000000</td>\n",
       "      <td>2.100000</td>\n",
       "      <td>15145.000000</td>\n",
       "    </tr>\n",
       "    <tr>\n",
       "      <th>75%</th>\n",
       "      <td>10.000000</td>\n",
       "      <td>4.130000</td>\n",
       "      <td>16788.000000</td>\n",
       "    </tr>\n",
       "    <tr>\n",
       "      <th>max</th>\n",
       "      <td>80995.000000</td>\n",
       "      <td>38970.000000</td>\n",
       "      <td>18287.000000</td>\n",
       "    </tr>\n",
       "  </tbody>\n",
       "</table>\n",
       "</div>"
      ],
      "text/plain": [
       "            Quantity      UnitPrice     CustomerID\n",
       "count  534129.000000  534129.000000  401564.000000\n",
       "mean        9.916818       4.695864   15281.266797\n",
       "std       216.452113      95.079189    1713.978947\n",
       "min    -80995.000000       0.001000   12346.000000\n",
       "25%         1.000000       1.250000   13939.000000\n",
       "50%         3.000000       2.100000   15145.000000\n",
       "75%        10.000000       4.130000   16788.000000\n",
       "max     80995.000000   38970.000000   18287.000000"
      ]
     },
     "execution_count": 27,
     "metadata": {},
     "output_type": "execute_result"
    }
   ],
   "source": [
    "sales.describe()"
   ]
  },
  {
   "cell_type": "code",
   "execution_count": 28,
   "id": "1222c26c",
   "metadata": {},
   "outputs": [
    {
     "data": {
      "text/html": [
       "<div>\n",
       "<style scoped>\n",
       "    .dataframe tbody tr th:only-of-type {\n",
       "        vertical-align: middle;\n",
       "    }\n",
       "\n",
       "    .dataframe tbody tr th {\n",
       "        vertical-align: top;\n",
       "    }\n",
       "\n",
       "    .dataframe thead th {\n",
       "        text-align: right;\n",
       "    }\n",
       "</style>\n",
       "<table border=\"1\" class=\"dataframe\">\n",
       "  <thead>\n",
       "    <tr style=\"text-align: right;\">\n",
       "      <th></th>\n",
       "      <th>InvoiceNo</th>\n",
       "      <th>StockCode</th>\n",
       "      <th>Description</th>\n",
       "    </tr>\n",
       "  </thead>\n",
       "  <tbody>\n",
       "    <tr>\n",
       "      <th>count</th>\n",
       "      <td>534129</td>\n",
       "      <td>534129</td>\n",
       "      <td>534129</td>\n",
       "    </tr>\n",
       "    <tr>\n",
       "      <th>unique</th>\n",
       "      <td>23796</td>\n",
       "      <td>3938</td>\n",
       "      <td>4042</td>\n",
       "    </tr>\n",
       "    <tr>\n",
       "      <th>top</th>\n",
       "      <td>573585</td>\n",
       "      <td>85123A</td>\n",
       "      <td>WHITE HANGING HEART T-LIGHT HOLDER</td>\n",
       "    </tr>\n",
       "    <tr>\n",
       "      <th>freq</th>\n",
       "      <td>1114</td>\n",
       "      <td>2295</td>\n",
       "      <td>2353</td>\n",
       "    </tr>\n",
       "  </tbody>\n",
       "</table>\n",
       "</div>"
      ],
      "text/plain": [
       "       InvoiceNo StockCode                         Description\n",
       "count     534129    534129                              534129\n",
       "unique     23796      3938                                4042\n",
       "top       573585    85123A  WHITE HANGING HEART T-LIGHT HOLDER\n",
       "freq        1114      2295                                2353"
      ]
     },
     "execution_count": 28,
     "metadata": {},
     "output_type": "execute_result"
    }
   ],
   "source": [
    "sales.describe(include = 'object')"
   ]
  },
  {
   "cell_type": "markdown",
   "id": "07e3606e",
   "metadata": {},
   "source": [
    "Looks good! Now all we have to do is change our column names for our 5 dataframes:"
   ]
  },
  {
   "cell_type": "code",
   "execution_count": 29,
   "id": "61e6a391",
   "metadata": {},
   "outputs": [],
   "source": [
    "frames = [data,debt,refunds,quantity_update,sales]\n",
    "columns = ['order_id','item_code','item_name','quantity','datetime','price','customer_id']\n",
    "for i in frames:\n",
    "    i.columns = columns"
   ]
  },
  {
   "cell_type": "markdown",
   "id": "8c7df9f9",
   "metadata": {},
   "source": [
    "Let's check the data table:"
   ]
  },
  {
   "cell_type": "code",
   "execution_count": 30,
   "id": "96f07dc9",
   "metadata": {},
   "outputs": [
    {
     "name": "stdout",
     "output_type": "stream",
     "text": [
      "<class 'pandas.core.frame.DataFrame'>\n",
      "Int64Index: 535187 entries, 0 to 536640\n",
      "Data columns (total 7 columns):\n",
      " #   Column       Non-Null Count   Dtype         \n",
      "---  ------       --------------   -----         \n",
      " 0   order_id     535187 non-null  object        \n",
      " 1   item_code    535187 non-null  object        \n",
      " 2   item_name    535187 non-null  object        \n",
      " 3   quantity     535187 non-null  int64         \n",
      " 4   datetime     535187 non-null  datetime64[ns]\n",
      " 5   price        535187 non-null  float64       \n",
      " 6   customer_id  401604 non-null  float64       \n",
      "dtypes: datetime64[ns](1), float64(2), int64(1), object(3)\n",
      "memory usage: 32.7+ MB\n"
     ]
    }
   ],
   "source": [
    "data.info()"
   ]
  },
  {
   "cell_type": "markdown",
   "id": "ed6a305f",
   "metadata": {},
   "source": [
    "Looks good."
   ]
  },
  {
   "cell_type": "markdown",
   "id": "9745834f",
   "metadata": {},
   "source": [
    "### Conclusion:"
   ]
  },
  {
   "cell_type": "markdown",
   "id": "18d4730f",
   "metadata": {},
   "source": [
    "- We dealt with missing values\n",
    "- We deleted duplicates\n",
    "- We changed datatypes\n",
    "- We changed column names\n",
    "- We created new dataframes for each subject"
   ]
  },
  {
   "cell_type": "markdown",
   "id": "f5879483",
   "metadata": {},
   "source": [
    "# Part 3: EDA"
   ]
  },
  {
   "cell_type": "markdown",
   "id": "927dd456",
   "metadata": {},
   "source": [
    "## Distribution of price:"
   ]
  },
  {
   "cell_type": "markdown",
   "id": "d73857a3",
   "metadata": {},
   "source": [
    "Let's check the distribution of item prices. First, Let's create a table with all items and their price from the sales table:"
   ]
  },
  {
   "cell_type": "code",
   "execution_count": 31,
   "id": "5592d1ba",
   "metadata": {},
   "outputs": [
    {
     "data": {
      "text/html": [
       "<div>\n",
       "<style scoped>\n",
       "    .dataframe tbody tr th:only-of-type {\n",
       "        vertical-align: middle;\n",
       "    }\n",
       "\n",
       "    .dataframe tbody tr th {\n",
       "        vertical-align: top;\n",
       "    }\n",
       "\n",
       "    .dataframe thead th {\n",
       "        text-align: right;\n",
       "    }\n",
       "</style>\n",
       "<table border=\"1\" class=\"dataframe\">\n",
       "  <thead>\n",
       "    <tr style=\"text-align: right;\">\n",
       "      <th></th>\n",
       "      <th></th>\n",
       "      <th>price</th>\n",
       "    </tr>\n",
       "    <tr>\n",
       "      <th>item_code</th>\n",
       "      <th>item_name</th>\n",
       "      <th></th>\n",
       "    </tr>\n",
       "  </thead>\n",
       "  <tbody>\n",
       "    <tr>\n",
       "      <th>10002</th>\n",
       "      <th>INFLATABLE POLITICAL GLOBE</th>\n",
       "      <td>0.85</td>\n",
       "    </tr>\n",
       "    <tr>\n",
       "      <th>10080</th>\n",
       "      <th>GROOVY CACTUS INFLATABLE</th>\n",
       "      <td>0.85</td>\n",
       "    </tr>\n",
       "    <tr>\n",
       "      <th>10120</th>\n",
       "      <th>DOGGY RUBBER</th>\n",
       "      <td>0.21</td>\n",
       "    </tr>\n",
       "    <tr>\n",
       "      <th>10123C</th>\n",
       "      <th>HEARTS WRAPPING TAPE</th>\n",
       "      <td>0.65</td>\n",
       "    </tr>\n",
       "    <tr>\n",
       "      <th>10124A</th>\n",
       "      <th>SPOTS ON RED BOOKCOVER TAPE</th>\n",
       "      <td>0.42</td>\n",
       "    </tr>\n",
       "    <tr>\n",
       "      <th>10124G</th>\n",
       "      <th>ARMY CAMO BOOKCOVER TAPE</th>\n",
       "      <td>0.42</td>\n",
       "    </tr>\n",
       "    <tr>\n",
       "      <th>10125</th>\n",
       "      <th>MINI FUNKY DESIGN TAPES</th>\n",
       "      <td>0.85</td>\n",
       "    </tr>\n",
       "    <tr>\n",
       "      <th>10133</th>\n",
       "      <th>COLOURING PENCILS BROWN TUBE</th>\n",
       "      <td>0.85</td>\n",
       "    </tr>\n",
       "    <tr>\n",
       "      <th>10135</th>\n",
       "      <th>COLOURING PENCILS BROWN TUBE</th>\n",
       "      <td>2.46</td>\n",
       "    </tr>\n",
       "    <tr>\n",
       "      <th>11001</th>\n",
       "      <th>ASSTD DESIGN RACING CAR PEN</th>\n",
       "      <td>3.29</td>\n",
       "    </tr>\n",
       "  </tbody>\n",
       "</table>\n",
       "</div>"
      ],
      "text/plain": [
       "                                        price\n",
       "item_code item_name                          \n",
       "10002     INFLATABLE POLITICAL GLOBE     0.85\n",
       "10080     GROOVY CACTUS INFLATABLE       0.85\n",
       "10120     DOGGY RUBBER                   0.21\n",
       "10123C    HEARTS WRAPPING TAPE           0.65\n",
       "10124A    SPOTS ON RED BOOKCOVER TAPE    0.42\n",
       "10124G    ARMY CAMO BOOKCOVER TAPE       0.42\n",
       "10125     MINI FUNKY DESIGN TAPES        0.85\n",
       "10133     COLOURING PENCILS BROWN TUBE   0.85\n",
       "10135     COLOURING PENCILS BROWN TUBE   2.46\n",
       "11001     ASSTD DESIGN RACING CAR PEN    3.29"
      ]
     },
     "execution_count": 31,
     "metadata": {},
     "output_type": "execute_result"
    }
   ],
   "source": [
    "price_per_item = sales.loc[sales['customer_id'].isna() == False].groupby(['item_code','item_name']).agg({'price':'max'})\n",
    "price_per_item.head(10)"
   ]
  },
  {
   "cell_type": "markdown",
   "id": "c8b8f037",
   "metadata": {},
   "source": [
    "Now let's plot a histogram to see the price range:"
   ]
  },
  {
   "cell_type": "code",
   "execution_count": 32,
   "id": "b0b2f0c5",
   "metadata": {},
   "outputs": [
    {
     "data": {
      "text/plain": [
       "<AxesSubplot:>"
      ]
     },
     "execution_count": 32,
     "metadata": {},
     "output_type": "execute_result"
    },
    {
     "data": {
      "image/png": "[encoded data removed]",
      "text/plain": [
       "<Figure size 432x288 with 1 Axes>"
      ]
     },
     "metadata": {
      "needs_background": "light"
     },
     "output_type": "display_data"
    }
   ],
   "source": [
    "price_per_item['price'].hist()"
   ]
  },
  {
   "cell_type": "markdown",
   "id": "3a9158e8",
   "metadata": {},
   "source": [
    "We can see we have some pretty big outliners! Let's check our percentiles:"
   ]
  },
  {
   "cell_type": "code",
   "execution_count": 33,
   "id": "1fdc6643",
   "metadata": {},
   "outputs": [
    {
     "data": {
      "text/plain": [
       "array([ 8.725 , 12.5625, 24.994 ])"
      ]
     },
     "execution_count": 33,
     "metadata": {},
     "output_type": "execute_result"
    }
   ],
   "source": [
    "np.percentile(price_per_item['price'], q = (90,95,99))"
   ]
  },
  {
   "cell_type": "markdown",
   "id": "bfb4a88b",
   "metadata": {},
   "source": [
    "We can see that 99% of our items have prices under 25. Let's define that as our threshold for outliners:"
   ]
  },
  {
   "cell_type": "code",
   "execution_count": 34,
   "id": "e6e5315b",
   "metadata": {},
   "outputs": [
    {
     "data": {
      "image/png": "[encoded data removed]",
      "text/plain": [
       "<Figure size 720x720 with 1 Axes>"
      ]
     },
     "metadata": {
      "needs_background": "light"
     },
     "output_type": "display_data"
    }
   ],
   "source": [
    "filtered_sales = sales.loc[sales['price'] <= 25]\n",
    "price_per_item = filtered_sales.groupby(['item_code','item_name']).agg({'price':'max'})\n",
    "price_per_item['price'].hist(edgecolor = 'black', figsize = (10,10))\n",
    "plt.title('Distribution of products prices')\n",
    "plt.xlabel('Product price')\n",
    "plt.ylabel('Number of products');"
   ]
  },
  {
   "cell_type": "markdown",
   "id": "3c41a1cf",
   "metadata": {},
   "source": [
    "We can see that the vast majority of prices are under 5$. Then we have a decrease in the number of products with higher prices. This means our store focuses on cheap products, not expensive ones."
   ]
  },
  {
   "cell_type": "markdown",
   "id": "7a7aba9d",
   "metadata": {},
   "source": [
    "### Quantity Distribution"
   ]
  },
  {
   "cell_type": "markdown",
   "id": "06d68f32",
   "metadata": {},
   "source": [
    "Let's do the same with the median quantity for each product:"
   ]
  },
  {
   "cell_type": "code",
   "execution_count": 35,
   "id": "47a26ca3",
   "metadata": {},
   "outputs": [
    {
     "data": {
      "image/png": "[encoded data removed]",
      "text/plain": [
       "<Figure size 432x288 with 1 Axes>"
      ]
     },
     "metadata": {
      "needs_background": "light"
     },
     "output_type": "display_data"
    }
   ],
   "source": [
    "avg_quantity = filtered_sales.groupby(['item_code','item_name']).agg({'quantity':'mean'})\n",
    "avg_quantity['quantity'].hist();"
   ]
  },
  {
   "cell_type": "markdown",
   "id": "87e49765",
   "metadata": {},
   "source": [
    "Again, we see huge outlines. Let's check the percentiles:"
   ]
  },
  {
   "cell_type": "code",
   "execution_count": 36,
   "id": "96c46bca",
   "metadata": {},
   "outputs": [
    {
     "data": {
      "text/plain": [
       "array([25.        , 48.99186992])"
      ]
     },
     "execution_count": 36,
     "metadata": {},
     "output_type": "execute_result"
    }
   ],
   "source": [
    "np.percentile(avg_quantity['quantity'], q = (95,99))"
   ]
  },
  {
   "cell_type": "markdown",
   "id": "3841b346",
   "metadata": {},
   "source": [
    "We can see that 99% of products have a mean of 60 per quantity. Let's check these products:"
   ]
  },
  {
   "cell_type": "code",
   "execution_count": 37,
   "id": "8c0450e2",
   "metadata": {},
   "outputs": [
    {
     "data": {
      "text/html": [
       "<div>\n",
       "<style scoped>\n",
       "    .dataframe tbody tr th:only-of-type {\n",
       "        vertical-align: middle;\n",
       "    }\n",
       "\n",
       "    .dataframe tbody tr th {\n",
       "        vertical-align: top;\n",
       "    }\n",
       "\n",
       "    .dataframe thead th {\n",
       "        text-align: right;\n",
       "    }\n",
       "</style>\n",
       "<table border=\"1\" class=\"dataframe\">\n",
       "  <thead>\n",
       "    <tr style=\"text-align: right;\">\n",
       "      <th></th>\n",
       "      <th></th>\n",
       "      <th>quantity</th>\n",
       "    </tr>\n",
       "    <tr>\n",
       "      <th>item_code</th>\n",
       "      <th>item_name</th>\n",
       "      <th></th>\n",
       "    </tr>\n",
       "  </thead>\n",
       "  <tbody>\n",
       "    <tr>\n",
       "      <th>16014</th>\n",
       "      <th>SMALL CHINESE STYLE SCISSOR</th>\n",
       "      <td>246.814815</td>\n",
       "    </tr>\n",
       "    <tr>\n",
       "      <th>16033</th>\n",
       "      <th>MINI HIGHLIGHTER PENS</th>\n",
       "      <td>210.000000</td>\n",
       "    </tr>\n",
       "    <tr>\n",
       "      <th>16045</th>\n",
       "      <th>POPART WOODEN PENCILS ASST</th>\n",
       "      <td>128.985507</td>\n",
       "    </tr>\n",
       "    <tr>\n",
       "      <th>16049</th>\n",
       "      <th>TEATIME GEL PENS ASST</th>\n",
       "      <td>100.800000</td>\n",
       "    </tr>\n",
       "    <tr>\n",
       "      <th>16216</th>\n",
       "      <th>LETTER SHAPE PENCIL SHARPENER</th>\n",
       "      <td>74.066667</td>\n",
       "    </tr>\n",
       "    <tr>\n",
       "      <th>16259</th>\n",
       "      <th>PIECE OF CAMO STATIONERY SET</th>\n",
       "      <td>102.250000</td>\n",
       "    </tr>\n",
       "    <tr>\n",
       "      <th>17001</th>\n",
       "      <th>HEAVENS SCENT FRAGRANCE OILS ASSTD</th>\n",
       "      <td>72.000000</td>\n",
       "    </tr>\n",
       "    <tr>\n",
       "      <th>17003</th>\n",
       "      <th>BROCADE RING PURSE</th>\n",
       "      <td>95.518672</td>\n",
       "    </tr>\n",
       "    <tr>\n",
       "      <th>17084R</th>\n",
       "      <th>ASSORTED INCENSE PACK</th>\n",
       "      <td>149.333333</td>\n",
       "    </tr>\n",
       "    <tr>\n",
       "      <th>17096</th>\n",
       "      <th>ASSORTED LAQUERED INCENSE HOLDERS</th>\n",
       "      <td>106.041667</td>\n",
       "    </tr>\n",
       "    <tr>\n",
       "      <th>18007</th>\n",
       "      <th>ESSENTIAL BALM 3.5g TIN IN ENVELOPE</th>\n",
       "      <td>189.806452</td>\n",
       "    </tr>\n",
       "    <tr>\n",
       "      <th>20725</th>\n",
       "      <th>LUNCH BAG RED SPOTTY</th>\n",
       "      <td>200.000000</td>\n",
       "    </tr>\n",
       "    <tr>\n",
       "      <th>20914</th>\n",
       "      <th>SET/5 RED SPOTTY LID GLASS BOWLS</th>\n",
       "      <td>288.000000</td>\n",
       "    </tr>\n",
       "    <tr>\n",
       "      <th>21785</th>\n",
       "      <th>RAIN PONCHO</th>\n",
       "      <td>82.200000</td>\n",
       "    </tr>\n",
       "    <tr>\n",
       "      <th>21897</th>\n",
       "      <th>POTTING SHED CANDLE CITRONELLA</th>\n",
       "      <td>135.000000</td>\n",
       "    </tr>\n",
       "    <tr>\n",
       "      <th>22053</th>\n",
       "      <th>EMPIRE DESIGN ROSETTE</th>\n",
       "      <td>146.310345</td>\n",
       "    </tr>\n",
       "    <tr>\n",
       "      <th>22275</th>\n",
       "      <th>WEEKEND BAG VINTAGE ROSE PAISLEY</th>\n",
       "      <td>69.000000</td>\n",
       "    </tr>\n",
       "    <tr>\n",
       "      <th>22492</th>\n",
       "      <th>MINI PAINT SET VINTAGE</th>\n",
       "      <td>67.787179</td>\n",
       "    </tr>\n",
       "    <tr>\n",
       "      <th>22896</th>\n",
       "      <th>PEG BAG APPLE DESIGN</th>\n",
       "      <td>100.000000</td>\n",
       "    </tr>\n",
       "    <tr>\n",
       "      <th>23131</th>\n",
       "      <th>MISELTOE HEART WREATH CREAM</th>\n",
       "      <td>240.000000</td>\n",
       "    </tr>\n",
       "    <tr>\n",
       "      <th>23521</th>\n",
       "      <th>CAT AND BIRD WALL ART</th>\n",
       "      <td>67.500000</td>\n",
       "    </tr>\n",
       "    <tr>\n",
       "      <th>23522</th>\n",
       "      <th>DOG AND BALL WALL ART</th>\n",
       "      <td>63.000000</td>\n",
       "    </tr>\n",
       "    <tr>\n",
       "      <th>44235</th>\n",
       "      <th>ASS COL CIRCLE MOBILE</th>\n",
       "      <td>67.714286</td>\n",
       "    </tr>\n",
       "    <tr>\n",
       "      <th>47556B</th>\n",
       "      <th>TEA TIME TEA TOWELS</th>\n",
       "      <td>1300.000000</td>\n",
       "    </tr>\n",
       "    <tr>\n",
       "      <th>62018</th>\n",
       "      <th>SOMBRERO</th>\n",
       "      <td>72.377049</td>\n",
       "    </tr>\n",
       "    <tr>\n",
       "      <th>79164</th>\n",
       "      <th>BLACK WINE GLASS</th>\n",
       "      <td>79.190476</td>\n",
       "    </tr>\n",
       "    <tr>\n",
       "      <th>84077</th>\n",
       "      <th>WORLD WAR 2 GLIDERS ASSTD DESIGNS</th>\n",
       "      <td>99.354898</td>\n",
       "    </tr>\n",
       "    <tr>\n",
       "      <th>84212</th>\n",
       "      <th>ASSORTED FLOWER COLOUR \"LEIS\"</th>\n",
       "      <td>92.927928</td>\n",
       "    </tr>\n",
       "    <tr>\n",
       "      <th>84568</th>\n",
       "      <th>GIRLS ALPHABET IRON ON PATCHES</th>\n",
       "      <td>84.639456</td>\n",
       "    </tr>\n",
       "    <tr>\n",
       "      <th>84691</th>\n",
       "      <th>PACK 20 DOLLY PEGS</th>\n",
       "      <td>60.500000</td>\n",
       "    </tr>\n",
       "  </tbody>\n",
       "</table>\n",
       "</div>"
      ],
      "text/plain": [
       "                                                  quantity\n",
       "item_code item_name                                       \n",
       "16014     SMALL CHINESE STYLE SCISSOR           246.814815\n",
       "16033     MINI HIGHLIGHTER PENS                 210.000000\n",
       "16045     POPART WOODEN PENCILS ASST            128.985507\n",
       "16049     TEATIME GEL PENS ASST                 100.800000\n",
       "16216     LETTER SHAPE PENCIL SHARPENER          74.066667\n",
       "16259     PIECE OF CAMO STATIONERY SET          102.250000\n",
       "17001     HEAVENS SCENT FRAGRANCE OILS ASSTD     72.000000\n",
       "17003     BROCADE RING PURSE                     95.518672\n",
       "17084R    ASSORTED INCENSE PACK                 149.333333\n",
       "17096     ASSORTED LAQUERED INCENSE HOLDERS     106.041667\n",
       "18007     ESSENTIAL BALM 3.5g TIN IN ENVELOPE   189.806452\n",
       "20725     LUNCH BAG RED SPOTTY                  200.000000\n",
       "20914     SET/5 RED SPOTTY LID GLASS BOWLS      288.000000\n",
       "21785     RAIN PONCHO                            82.200000\n",
       "21897     POTTING SHED CANDLE CITRONELLA        135.000000\n",
       "22053     EMPIRE DESIGN ROSETTE                 146.310345\n",
       "22275     WEEKEND BAG VINTAGE ROSE PAISLEY       69.000000\n",
       "22492     MINI PAINT SET VINTAGE                 67.787179\n",
       "22896     PEG BAG APPLE DESIGN                  100.000000\n",
       "23131     MISELTOE HEART WREATH CREAM           240.000000\n",
       "23521     CAT AND BIRD WALL ART                  67.500000\n",
       "23522     DOG AND BALL WALL ART                  63.000000\n",
       "44235     ASS COL CIRCLE MOBILE                  67.714286\n",
       "47556B    TEA TIME TEA TOWELS                  1300.000000\n",
       "62018     SOMBRERO                               72.377049\n",
       "79164     BLACK WINE GLASS                       79.190476\n",
       "84077     WORLD WAR 2 GLIDERS ASSTD DESIGNS      99.354898\n",
       "84212     ASSORTED FLOWER COLOUR \"LEIS\"          92.927928\n",
       "84568     GIRLS ALPHABET IRON ON PATCHES         84.639456\n",
       "84691     PACK 20 DOLLY PEGS                     60.500000"
      ]
     },
     "execution_count": 37,
     "metadata": {},
     "output_type": "execute_result"
    }
   ],
   "source": [
    "avg_quantity.loc[avg_quantity['quantity'] > 60]"
   ]
  },
  {
   "cell_type": "markdown",
   "id": "3cb96649",
   "metadata": {},
   "source": [
    "They seem like perfectly regular items, But they are outliners. Let's check the data without them:"
   ]
  },
  {
   "cell_type": "code",
   "execution_count": 38,
   "id": "49c28ae5",
   "metadata": {},
   "outputs": [
    {
     "data": {
      "image/png": "[encoded data removed]",
      "text/plain": [
       "<Figure size 720x720 with 1 Axes>"
      ]
     },
     "metadata": {
      "needs_background": "light"
     },
     "output_type": "display_data"
    }
   ],
   "source": [
    "avg_quantity.loc[(avg_quantity['quantity'] < 60) ].hist(bins = 10,edgecolor = 'black', figsize = (10,10))\n",
    "plt.title('Distribution of Mean Quantity per Item')\n",
    "plt.xlabel('Median Quantity')\n",
    "plt.ylabel('Number of Items');"
   ]
  },
  {
   "cell_type": "code",
   "execution_count": 39,
   "id": "6a12c77e",
   "metadata": {},
   "outputs": [
    {
     "data": {
      "text/html": [
       "<div>\n",
       "<style scoped>\n",
       "    .dataframe tbody tr th:only-of-type {\n",
       "        vertical-align: middle;\n",
       "    }\n",
       "\n",
       "    .dataframe tbody tr th {\n",
       "        vertical-align: top;\n",
       "    }\n",
       "\n",
       "    .dataframe thead th {\n",
       "        text-align: right;\n",
       "    }\n",
       "</style>\n",
       "<table border=\"1\" class=\"dataframe\">\n",
       "  <thead>\n",
       "    <tr style=\"text-align: right;\">\n",
       "      <th></th>\n",
       "      <th></th>\n",
       "      <th>quantity</th>\n",
       "    </tr>\n",
       "    <tr>\n",
       "      <th>item_code</th>\n",
       "      <th>item_name</th>\n",
       "      <th></th>\n",
       "    </tr>\n",
       "  </thead>\n",
       "  <tbody>\n",
       "    <tr>\n",
       "      <th>20703</th>\n",
       "      <th>BLUE PADDED SOFT MOBILE</th>\n",
       "      <td>-1.500000</td>\n",
       "    </tr>\n",
       "    <tr>\n",
       "      <th>20957</th>\n",
       "      <th>PORCELAIN HANGING BELL SMALL</th>\n",
       "      <td>-1.000000</td>\n",
       "    </tr>\n",
       "    <tr>\n",
       "      <th>21144</th>\n",
       "      <th>PINK POODLE HANGING DECORATION</th>\n",
       "      <td>-2.333333</td>\n",
       "    </tr>\n",
       "    <tr>\n",
       "      <th>21412</th>\n",
       "      <th>VINTAGE GOLD TINSEL REEL</th>\n",
       "      <td>-6.000000</td>\n",
       "    </tr>\n",
       "    <tr>\n",
       "      <th>21645</th>\n",
       "      <th>ASSORTED TUTTI FRUTTI ROUND BOX</th>\n",
       "      <td>-24.000000</td>\n",
       "    </tr>\n",
       "    <tr>\n",
       "      <th>22034</th>\n",
       "      <th>ROBIN CHRISTMAS CARD</th>\n",
       "      <td>-0.400000</td>\n",
       "    </tr>\n",
       "    <tr>\n",
       "      <th>22769</th>\n",
       "      <th>CHALKBOARD KITCHEN ORGANISER</th>\n",
       "      <td>-0.500000</td>\n",
       "    </tr>\n",
       "    <tr>\n",
       "      <th>35400</th>\n",
       "      <th>WOODEN BOX ADVENT CALENDAR</th>\n",
       "      <td>-0.461538</td>\n",
       "    </tr>\n",
       "    <tr>\n",
       "      <th>35832</th>\n",
       "      <th>WOOLLY HAT SOCK GLOVE ADVENT STRING</th>\n",
       "      <td>-1.000000</td>\n",
       "    </tr>\n",
       "    <tr>\n",
       "      <th>37503</th>\n",
       "      <th>TEA TIME CAKE STAND IN GIFT BOX</th>\n",
       "      <td>-1.000000</td>\n",
       "    </tr>\n",
       "    <tr>\n",
       "      <th>72815</th>\n",
       "      <th>3 WICK CHRISTMAS BRIAR CANDLE</th>\n",
       "      <td>-0.333333</td>\n",
       "    </tr>\n",
       "    <tr>\n",
       "      <th>79320</th>\n",
       "      <th>FLAMINGO LIGHTS</th>\n",
       "      <td>-1.000000</td>\n",
       "    </tr>\n",
       "    <tr>\n",
       "      <th>79323P</th>\n",
       "      <th>PINK CHERRY LIGHTS</th>\n",
       "      <td>-1.333333</td>\n",
       "    </tr>\n",
       "    <tr>\n",
       "      <th>79323W</th>\n",
       "      <th>WHITE CHERRY LIGHTS</th>\n",
       "      <td>-8.000000</td>\n",
       "    </tr>\n",
       "    <tr>\n",
       "      <th>84750A</th>\n",
       "      <th>PINK SMALL GLASS CAKE STAND</th>\n",
       "      <td>-1.000000</td>\n",
       "    </tr>\n",
       "    <tr>\n",
       "      <th>84839</th>\n",
       "      <th>SWEETHEART KEY CABINET</th>\n",
       "      <td>-1.000000</td>\n",
       "    </tr>\n",
       "    <tr>\n",
       "      <th>85023C</th>\n",
       "      <th>PINK LARGE JEWELED PHOTOFRAME</th>\n",
       "      <td>-1.000000</td>\n",
       "    </tr>\n",
       "    <tr>\n",
       "      <th>85042</th>\n",
       "      <th>ANTIQUE LILY FAIRY LIGHTS</th>\n",
       "      <td>-1.500000</td>\n",
       "    </tr>\n",
       "    <tr>\n",
       "      <th>85063</th>\n",
       "      <th>CREAM SWEETHEART MAGAZINE RACK</th>\n",
       "      <td>-1.500000</td>\n",
       "    </tr>\n",
       "    <tr>\n",
       "      <th>85065</th>\n",
       "      <th>CREAM SWEETHEART TRAYS</th>\n",
       "      <td>-1.000000</td>\n",
       "    </tr>\n",
       "    <tr>\n",
       "      <th>85068</th>\n",
       "      <th>CREAM SWEETHEART SHELF + HOOKS</th>\n",
       "      <td>-1.000000</td>\n",
       "    </tr>\n",
       "    <tr>\n",
       "      <th>85098B</th>\n",
       "      <th>BLUE FLYING SINGING CANARY</th>\n",
       "      <td>-1.000000</td>\n",
       "    </tr>\n",
       "    <tr>\n",
       "      <th>AMAZONFEE</th>\n",
       "      <th>AMAZON FEE</th>\n",
       "      <td>-1.000000</td>\n",
       "    </tr>\n",
       "    <tr>\n",
       "      <th>CRUK</th>\n",
       "      <th>CRUK Commission</th>\n",
       "      <td>-1.000000</td>\n",
       "    </tr>\n",
       "    <tr>\n",
       "      <th>D</th>\n",
       "      <th>Discount</th>\n",
       "      <td>-28.925000</td>\n",
       "    </tr>\n",
       "    <tr>\n",
       "      <th>S</th>\n",
       "      <th>SAMPLES</th>\n",
       "      <td>-1.000000</td>\n",
       "    </tr>\n",
       "  </tbody>\n",
       "</table>\n",
       "</div>"
      ],
      "text/plain": [
       "                                                quantity\n",
       "item_code item_name                                     \n",
       "20703     BLUE PADDED SOFT MOBILE              -1.500000\n",
       "20957     PORCELAIN HANGING BELL SMALL         -1.000000\n",
       "21144     PINK POODLE HANGING DECORATION       -2.333333\n",
       "21412     VINTAGE GOLD TINSEL REEL             -6.000000\n",
       "21645     ASSORTED TUTTI FRUTTI ROUND BOX     -24.000000\n",
       "22034     ROBIN CHRISTMAS CARD                 -0.400000\n",
       "22769     CHALKBOARD KITCHEN ORGANISER         -0.500000\n",
       "35400     WOODEN BOX ADVENT CALENDAR           -0.461538\n",
       "35832     WOOLLY HAT SOCK GLOVE ADVENT STRING  -1.000000\n",
       "37503     TEA TIME CAKE STAND IN GIFT BOX      -1.000000\n",
       "72815     3 WICK CHRISTMAS BRIAR CANDLE        -0.333333\n",
       "79320     FLAMINGO LIGHTS                      -1.000000\n",
       "79323P    PINK CHERRY LIGHTS                   -1.333333\n",
       "79323W    WHITE CHERRY LIGHTS                  -8.000000\n",
       "84750A    PINK SMALL GLASS CAKE STAND          -1.000000\n",
       "84839     SWEETHEART KEY CABINET               -1.000000\n",
       "85023C    PINK LARGE JEWELED PHOTOFRAME        -1.000000\n",
       "85042     ANTIQUE LILY FAIRY LIGHTS            -1.500000\n",
       "85063     CREAM SWEETHEART MAGAZINE RACK       -1.500000\n",
       "85065     CREAM SWEETHEART TRAYS               -1.000000\n",
       "85068     CREAM SWEETHEART SHELF + HOOKS       -1.000000\n",
       "85098B    BLUE FLYING SINGING CANARY           -1.000000\n",
       "AMAZONFEE AMAZON FEE                           -1.000000\n",
       "CRUK      CRUK Commission                      -1.000000\n",
       "D         Discount                            -28.925000\n",
       "S         SAMPLES                              -1.000000"
      ]
     },
     "execution_count": 39,
     "metadata": {},
     "output_type": "execute_result"
    }
   ],
   "source": [
    "avg_quantity[avg_quantity['quantity'] < 0]"
   ]
  },
  {
   "cell_type": "markdown",
   "id": "b0293a74",
   "metadata": {},
   "source": [
    "We can see that most items have a median quantity that is less than 10. Only a few have their median quantity higher then that. This shows that users prefer buying smaller amounts of items. We can also see we have items with an average quantity lowe than 0. This shows that some items are preffered to be returned by customers."
   ]
  },
  {
   "cell_type": "markdown",
   "id": "0c5914d4",
   "metadata": {},
   "source": [
    "### Creating revenue column"
   ]
  },
  {
   "cell_type": "markdown",
   "id": "a171258e",
   "metadata": {},
   "source": [
    "Let's create a column for revenue and months:"
   ]
  },
  {
   "cell_type": "code",
   "execution_count": 40,
   "id": "d6891fd4",
   "metadata": {},
   "outputs": [
    {
     "name": "stderr",
     "output_type": "stream",
     "text": [
      "C:\\Users\\nadav\\Anaconda3\\lib\\site-packages\\pandas\\core\\frame.py:3607: SettingWithCopyWarning:\n",
      "\n",
      "\n",
      "A value is trying to be set on a copy of a slice from a DataFrame.\n",
      "Try using .loc[row_indexer,col_indexer] = value instead\n",
      "\n",
      "See the caveats in the documentation: https://pandas.pydata.org/pandas-docs/stable/user_guide/indexing.html#returning-a-view-versus-a-copy\n",
      "\n"
     ]
    }
   ],
   "source": [
    "sales['revenue'] = sales['price'] * sales['quantity']\n",
    "sales['month'] = sales['datetime'].dt.strftime('%Y-%m')"
   ]
  },
  {
   "cell_type": "markdown",
   "id": "78f4a29a",
   "metadata": {},
   "source": [
    "Great!"
   ]
  },
  {
   "cell_type": "markdown",
   "id": "a228a75b",
   "metadata": {},
   "source": [
    "### Categorizing"
   ]
  },
  {
   "cell_type": "markdown",
   "id": "5bf15ea3",
   "metadata": {},
   "source": [
    "Let's categorize our items in terms of price and median quantity. First, Let's create a dataframe for our items."
   ]
  },
  {
   "cell_type": "code",
   "execution_count": 41,
   "id": "9dbbf8ab",
   "metadata": {},
   "outputs": [
    {
     "data": {
      "text/html": [
       "<div>\n",
       "<style scoped>\n",
       "    .dataframe tbody tr th:only-of-type {\n",
       "        vertical-align: middle;\n",
       "    }\n",
       "\n",
       "    .dataframe tbody tr th {\n",
       "        vertical-align: top;\n",
       "    }\n",
       "\n",
       "    .dataframe thead th {\n",
       "        text-align: right;\n",
       "    }\n",
       "</style>\n",
       "<table border=\"1\" class=\"dataframe\">\n",
       "  <thead>\n",
       "    <tr style=\"text-align: right;\">\n",
       "      <th></th>\n",
       "      <th>item_code</th>\n",
       "      <th>item_name</th>\n",
       "      <th>price</th>\n",
       "      <th>quantity</th>\n",
       "    </tr>\n",
       "  </thead>\n",
       "  <tbody>\n",
       "    <tr>\n",
       "      <th>0</th>\n",
       "      <td>10002</td>\n",
       "      <td>INFLATABLE POLITICAL GLOBE</td>\n",
       "      <td>1.66</td>\n",
       "      <td>5.0</td>\n",
       "    </tr>\n",
       "    <tr>\n",
       "      <th>1</th>\n",
       "      <td>10080</td>\n",
       "      <td>GROOVY CACTUS INFLATABLE</td>\n",
       "      <td>0.85</td>\n",
       "      <td>12.0</td>\n",
       "    </tr>\n",
       "    <tr>\n",
       "      <th>2</th>\n",
       "      <td>10120</td>\n",
       "      <td>DOGGY RUBBER</td>\n",
       "      <td>0.21</td>\n",
       "      <td>5.0</td>\n",
       "    </tr>\n",
       "    <tr>\n",
       "      <th>3</th>\n",
       "      <td>10123C</td>\n",
       "      <td>HEARTS WRAPPING TAPE</td>\n",
       "      <td>0.65</td>\n",
       "      <td>1.0</td>\n",
       "    </tr>\n",
       "    <tr>\n",
       "      <th>4</th>\n",
       "      <td>10124A</td>\n",
       "      <td>SPOTS ON RED BOOKCOVER TAPE</td>\n",
       "      <td>0.42</td>\n",
       "      <td>4.0</td>\n",
       "    </tr>\n",
       "  </tbody>\n",
       "</table>\n",
       "</div>"
      ],
      "text/plain": [
       "  item_code                    item_name  price  quantity\n",
       "0     10002  INFLATABLE POLITICAL GLOBE    1.66       5.0\n",
       "1     10080     GROOVY CACTUS INFLATABLE   0.85      12.0\n",
       "2     10120                 DOGGY RUBBER   0.21       5.0\n",
       "3    10123C        HEARTS WRAPPING TAPE    0.65       1.0\n",
       "4    10124A  SPOTS ON RED BOOKCOVER TAPE   0.42       4.0"
      ]
     },
     "execution_count": 41,
     "metadata": {},
     "output_type": "execute_result"
    }
   ],
   "source": [
    "items = sales.groupby(['item_code','item_name']).agg({'price':'max','quantity':'median'}).reset_index()\n",
    "items.head(5)"
   ]
  },
  {
   "cell_type": "markdown",
   "id": "ae52e8c9",
   "metadata": {},
   "source": [
    "Now, for each category we'll divide our data into 5 groups. We will divide it according to percentiles. First, let's do with price:"
   ]
  },
  {
   "cell_type": "code",
   "execution_count": 42,
   "id": "2096adde",
   "metadata": {},
   "outputs": [
    {
     "name": "stderr",
     "output_type": "stream",
     "text": [
      "<ipython-input-42-c1d0eba53d3f>:7: SettingWithCopyWarning:\n",
      "\n",
      "\n",
      "A value is trying to be set on a copy of a slice from a DataFrame\n",
      "\n",
      "See the caveats in the documentation: https://pandas.pydata.org/pandas-docs/stable/user_guide/indexing.html#returning-a-view-versus-a-copy\n",
      "\n",
      "<ipython-input-42-c1d0eba53d3f>:5: SettingWithCopyWarning:\n",
      "\n",
      "\n",
      "A value is trying to be set on a copy of a slice from a DataFrame\n",
      "\n",
      "See the caveats in the documentation: https://pandas.pydata.org/pandas-docs/stable/user_guide/indexing.html#returning-a-view-versus-a-copy\n",
      "\n",
      "<ipython-input-42-c1d0eba53d3f>:9: SettingWithCopyWarning:\n",
      "\n",
      "\n",
      "A value is trying to be set on a copy of a slice from a DataFrame\n",
      "\n",
      "See the caveats in the documentation: https://pandas.pydata.org/pandas-docs/stable/user_guide/indexing.html#returning-a-view-versus-a-copy\n",
      "\n",
      "<ipython-input-42-c1d0eba53d3f>:11: SettingWithCopyWarning:\n",
      "\n",
      "\n",
      "A value is trying to be set on a copy of a slice from a DataFrame\n",
      "\n",
      "See the caveats in the documentation: https://pandas.pydata.org/pandas-docs/stable/user_guide/indexing.html#returning-a-view-versus-a-copy\n",
      "\n",
      "<ipython-input-42-c1d0eba53d3f>:13: SettingWithCopyWarning:\n",
      "\n",
      "\n",
      "A value is trying to be set on a copy of a slice from a DataFrame\n",
      "\n",
      "See the caveats in the documentation: https://pandas.pydata.org/pandas-docs/stable/user_guide/indexing.html#returning-a-view-versus-a-copy\n",
      "\n"
     ]
    }
   ],
   "source": [
    "price_percentile = np.percentile(items['price'], q = (20,40,60,80))\n",
    "items['price_category'] = pd.Series('Nan')\n",
    "for i in items.index:\n",
    "    if items['price'][i] < price_percentile[0]:\n",
    "        items['price_category'][i] = 'Very Cheap'\n",
    "    elif items['price'][i] < price_percentile[1]:\n",
    "        items['price_category'][i] = 'Cheap'\n",
    "    elif items['price'][i] < price_percentile[2]:\n",
    "        items['price_category'][i] = 'Mid range'\n",
    "    elif items['price'][i] < price_percentile[3]:\n",
    "        items['price_category'][i] = 'Expensive'\n",
    "    else:\n",
    "        items['price_category'][i] = 'Very Expensive'"
   ]
  },
  {
   "cell_type": "code",
   "execution_count": 43,
   "id": "72e57a71",
   "metadata": {
    "scrolled": true
   },
   "outputs": [
    {
     "data": {
      "text/html": [
       "<div>\n",
       "<style scoped>\n",
       "    .dataframe tbody tr th:only-of-type {\n",
       "        vertical-align: middle;\n",
       "    }\n",
       "\n",
       "    .dataframe tbody tr th {\n",
       "        vertical-align: top;\n",
       "    }\n",
       "\n",
       "    .dataframe thead th {\n",
       "        text-align: right;\n",
       "    }\n",
       "</style>\n",
       "<table border=\"1\" class=\"dataframe\">\n",
       "  <thead>\n",
       "    <tr style=\"text-align: right;\">\n",
       "      <th></th>\n",
       "      <th>item_code</th>\n",
       "      <th>item_name</th>\n",
       "      <th>price</th>\n",
       "      <th>quantity</th>\n",
       "      <th>price_category</th>\n",
       "    </tr>\n",
       "  </thead>\n",
       "  <tbody>\n",
       "    <tr>\n",
       "      <th>0</th>\n",
       "      <td>10002</td>\n",
       "      <td>INFLATABLE POLITICAL GLOBE</td>\n",
       "      <td>1.66</td>\n",
       "      <td>5.0</td>\n",
       "      <td>Cheap</td>\n",
       "    </tr>\n",
       "    <tr>\n",
       "      <th>1</th>\n",
       "      <td>10080</td>\n",
       "      <td>GROOVY CACTUS INFLATABLE</td>\n",
       "      <td>0.85</td>\n",
       "      <td>12.0</td>\n",
       "      <td>Very Cheap</td>\n",
       "    </tr>\n",
       "    <tr>\n",
       "      <th>2</th>\n",
       "      <td>10120</td>\n",
       "      <td>DOGGY RUBBER</td>\n",
       "      <td>0.21</td>\n",
       "      <td>5.0</td>\n",
       "      <td>Very Cheap</td>\n",
       "    </tr>\n",
       "    <tr>\n",
       "      <th>3</th>\n",
       "      <td>10123C</td>\n",
       "      <td>HEARTS WRAPPING TAPE</td>\n",
       "      <td>0.65</td>\n",
       "      <td>1.0</td>\n",
       "      <td>Very Cheap</td>\n",
       "    </tr>\n",
       "    <tr>\n",
       "      <th>4</th>\n",
       "      <td>10124A</td>\n",
       "      <td>SPOTS ON RED BOOKCOVER TAPE</td>\n",
       "      <td>0.42</td>\n",
       "      <td>4.0</td>\n",
       "      <td>Very Cheap</td>\n",
       "    </tr>\n",
       "    <tr>\n",
       "      <th>5</th>\n",
       "      <td>10124G</td>\n",
       "      <td>ARMY CAMO BOOKCOVER TAPE</td>\n",
       "      <td>0.42</td>\n",
       "      <td>4.0</td>\n",
       "      <td>Very Cheap</td>\n",
       "    </tr>\n",
       "    <tr>\n",
       "      <th>6</th>\n",
       "      <td>10125</td>\n",
       "      <td>MINI FUNKY DESIGN TAPES</td>\n",
       "      <td>1.66</td>\n",
       "      <td>4.0</td>\n",
       "      <td>Cheap</td>\n",
       "    </tr>\n",
       "    <tr>\n",
       "      <th>7</th>\n",
       "      <td>10133</td>\n",
       "      <td>COLOURING PENCILS BROWN TUBE</td>\n",
       "      <td>1.66</td>\n",
       "      <td>10.0</td>\n",
       "      <td>Cheap</td>\n",
       "    </tr>\n",
       "    <tr>\n",
       "      <th>8</th>\n",
       "      <td>10135</td>\n",
       "      <td>COLOURING PENCILS BROWN TUBE</td>\n",
       "      <td>2.51</td>\n",
       "      <td>8.0</td>\n",
       "      <td>Cheap</td>\n",
       "    </tr>\n",
       "    <tr>\n",
       "      <th>9</th>\n",
       "      <td>11001</td>\n",
       "      <td>ASSTD DESIGN RACING CAR PEN</td>\n",
       "      <td>3.36</td>\n",
       "      <td>6.5</td>\n",
       "      <td>Mid range</td>\n",
       "    </tr>\n",
       "  </tbody>\n",
       "</table>\n",
       "</div>"
      ],
      "text/plain": [
       "  item_code                     item_name  price  quantity price_category\n",
       "0     10002   INFLATABLE POLITICAL GLOBE    1.66       5.0          Cheap\n",
       "1     10080      GROOVY CACTUS INFLATABLE   0.85      12.0     Very Cheap\n",
       "2     10120                  DOGGY RUBBER   0.21       5.0     Very Cheap\n",
       "3    10123C         HEARTS WRAPPING TAPE    0.65       1.0     Very Cheap\n",
       "4    10124A   SPOTS ON RED BOOKCOVER TAPE   0.42       4.0     Very Cheap\n",
       "5    10124G      ARMY CAMO BOOKCOVER TAPE   0.42       4.0     Very Cheap\n",
       "6     10125       MINI FUNKY DESIGN TAPES   1.66       4.0          Cheap\n",
       "7     10133  COLOURING PENCILS BROWN TUBE   1.66      10.0          Cheap\n",
       "8     10135  COLOURING PENCILS BROWN TUBE   2.51       8.0          Cheap\n",
       "9     11001   ASSTD DESIGN RACING CAR PEN   3.36       6.5      Mid range"
      ]
     },
     "execution_count": 43,
     "metadata": {},
     "output_type": "execute_result"
    }
   ],
   "source": [
    "items.head(10)"
   ]
  },
  {
   "cell_type": "markdown",
   "id": "c55933f7",
   "metadata": {},
   "source": [
    "Great!"
   ]
  },
  {
   "cell_type": "markdown",
   "id": "b8e4dcf5",
   "metadata": {},
   "source": [
    "### Conclusion:"
   ]
  },
  {
   "cell_type": "markdown",
   "id": "af163570",
   "metadata": {},
   "source": [
    "- We checked the distribution of prices and median quantity per item\n",
    "- We created new columns: 'Month' and 'Revenue' for the sales dataframe.\n",
    "- We categorized our items according to price."
   ]
  },
  {
   "cell_type": "markdown",
   "id": "eb94d46c",
   "metadata": {},
   "source": [
    "# Part 4: Analysing the data:"
   ]
  },
  {
   "cell_type": "markdown",
   "id": "8c46b966",
   "metadata": {},
   "source": [
    "### Top selling items"
   ]
  },
  {
   "cell_type": "markdown",
   "id": "bbe8d87e",
   "metadata": {},
   "source": [
    "Let's check the top and lowest selling items. First we will check the items that were ordered most, and then we will check the items that were ordered most in terms of quantity:"
   ]
  },
  {
   "cell_type": "code",
   "execution_count": 44,
   "id": "1f13f4c5",
   "metadata": {},
   "outputs": [
    {
     "data": {
      "text/html": [
       "        <script type=\"text/javascript\">\n",
       "        window.PlotlyConfig = {MathJaxConfig: 'local'};\n",
       "        if (window.MathJax) {MathJax.Hub.Config({SVG: {font: \"STIX-Web\"}});}\n",
       "        if (typeof require !== 'undefined') {\n",
       "        require.undef(\"plotly\");\n",
       "        requirejs.config({\n",
       "            paths: {\n",
       "                'plotly': ['https://cdn.plot.ly/plotly-2.6.3.min']\n",
       "            }\n",
       "        });\n",
       "        require(['plotly'], function(Plotly) {\n",
       "            window._Plotly = Plotly;\n",
       "        });\n",
       "        }\n",
       "        </script>\n",
       "        "
      ]
     },
     "metadata": {},
     "output_type": "display_data"
    },
    {
     "data": {
      "text/html": [
       "<div>                            <div id=\"7012337e-421f-4dd8-950a-249218e8731a\" class=\"plotly-graph-div\" style=\"height:525px; width:100%;\"></div>            <script type=\"text/javascript\">                require([\"plotly\"], function(Plotly) {                    window.PLOTLYENV=window.PLOTLYENV || {};                                    if (document.getElementById(\"7012337e-421f-4dd8-950a-249218e8731a\")) {                    Plotly.newPlot(                        \"7012337e-421f-4dd8-950a-249218e8731a\",                        [{\"alignmentgroup\":\"True\",\"hovertemplate\":\"Number of Orders=%{x}<br>Item=%{y}<extra></extra>\",\"legendgroup\":\"\",\"marker\":{\"color\":\"#636efa\",\"pattern\":{\"shape\":\"\"}},\"name\":\"\",\"offsetgroup\":\"\",\"orientation\":\"h\",\"showlegend\":false,\"textposition\":\"auto\",\"x\":[1266,1295,1334,1458,1467,1607,1705,2132,2168,2298],\"xaxis\":\"x\",\"y\":[\"NATURAL SLATE HEART CHALKBOARD \",\"LUNCH BAG  BLACK SKULL.\",\"PACK OF 72 RETROSPOT CAKE CASES\",\"SET OF 3 CAKE TINS PANTRY DESIGN \",\"ASSORTED COLOUR BIRD ORNAMENT\",\"LUNCH BAG RED RETROSPOT\",\"PARTY BUNTING\",\"JUMBO BAG RED RETROSPOT\",\"REGENCY CAKESTAND 3 TIER\",\"WHITE HANGING HEART T-LIGHT HOLDER\"],\"yaxis\":\"y\",\"type\":\"bar\"}],                        {\"template\":{\"data\":{\"bar\":[{\"error_x\":{\"color\":\"#2a3f5f\"},\"error_y\":{\"color\":\"#2a3f5f\"},\"marker\":{\"line\":{\"color\":\"#E5ECF6\",\"width\":0.5},\"pattern\":{\"fillmode\":\"overlay\",\"size\":10,\"solidity\":0.2}},\"type\":\"bar\"}],\"barpolar\":[{\"marker\":{\"line\":{\"color\":\"#E5ECF6\",\"width\":0.5},\"pattern\":{\"fillmode\":\"overlay\",\"size\":10,\"solidity\":0.2}},\"type\":\"barpolar\"}],\"carpet\":[{\"aaxis\":{\"endlinecolor\":\"#2a3f5f\",\"gridcolor\":\"white\",\"linecolor\":\"white\",\"minorgridcolor\":\"white\",\"startlinecolor\":\"#2a3f5f\"},\"baxis\":{\"endlinecolor\":\"#2a3f5f\",\"gridcolor\":\"white\",\"linecolor\":\"white\",\"minorgridcolor\":\"white\",\"startlinecolor\":\"#2a3f5f\"},\"type\":\"carpet\"}],\"choropleth\":[{\"colorbar\":{\"outlinewidth\":0,\"ticks\":\"\"},\"type\":\"choropleth\"}],\"contour\":[{\"colorbar\":{\"outlinewidth\":0,\"ticks\":\"\"},\"colorscale\":[[0.0,\"#0d0887\"],[0.1111111111111111,\"#46039f\"],[0.2222222222222222,\"#7201a8\"],[0.3333333333333333,\"#9c179e\"],[0.4444444444444444,\"#bd3786\"],[0.5555555555555556,\"#d8576b\"],[0.6666666666666666,\"#ed7953\"],[0.7777777777777778,\"#fb9f3a\"],[0.8888888888888888,\"#fdca26\"],[1.0,\"#f0f921\"]],\"type\":\"contour\"}],\"contourcarpet\":[{\"colorbar\":{\"outlinewidth\":0,\"ticks\":\"\"},\"type\":\"contourcarpet\"}],\"heatmap\":[{\"colorbar\":{\"outlinewidth\":0,\"ticks\":\"\"},\"colorscale\":[[0.0,\"#0d0887\"],[0.1111111111111111,\"#46039f\"],[0.2222222222222222,\"#7201a8\"],[0.3333333333333333,\"#9c179e\"],[0.4444444444444444,\"#bd3786\"],[0.5555555555555556,\"#d8576b\"],[0.6666666666666666,\"#ed7953\"],[0.7777777777777778,\"#fb9f3a\"],[0.8888888888888888,\"#fdca26\"],[1.0,\"#f0f921\"]],\"type\":\"heatmap\"}],\"heatmapgl\":[{\"colorbar\":{\"outlinewidth\":0,\"ticks\":\"\"},\"colorscale\":[[0.0,\"#0d0887\"],[0.1111111111111111,\"#46039f\"],[0.2222222222222222,\"#7201a8\"],[0.3333333333333333,\"#9c179e\"],[0.4444444444444444,\"#bd3786\"],[0.5555555555555556,\"#d8576b\"],[0.6666666666666666,\"#ed7953\"],[0.7777777777777778,\"#fb9f3a\"],[0.8888888888888888,\"#fdca26\"],[1.0,\"#f0f921\"]],\"type\":\"heatmapgl\"}],\"histogram\":[{\"marker\":{\"pattern\":{\"fillmode\":\"overlay\",\"size\":10,\"solidity\":0.2}},\"type\":\"histogram\"}],\"histogram2d\":[{\"colorbar\":{\"outlinewidth\":0,\"ticks\":\"\"},\"colorscale\":[[0.0,\"#0d0887\"],[0.1111111111111111,\"#46039f\"],[0.2222222222222222,\"#7201a8\"],[0.3333333333333333,\"#9c179e\"],[0.4444444444444444,\"#bd3786\"],[0.5555555555555556,\"#d8576b\"],[0.6666666666666666,\"#ed7953\"],[0.7777777777777778,\"#fb9f3a\"],[0.8888888888888888,\"#fdca26\"],[1.0,\"#f0f921\"]],\"type\":\"histogram2d\"}],\"histogram2dcontour\":[{\"colorbar\":{\"outlinewidth\":0,\"ticks\":\"\"},\"colorscale\":[[0.0,\"#0d0887\"],[0.1111111111111111,\"#46039f\"],[0.2222222222222222,\"#7201a8\"],[0.3333333333333333,\"#9c179e\"],[0.4444444444444444,\"#bd3786\"],[0.5555555555555556,\"#d8576b\"],[0.6666666666666666,\"#ed7953\"],[0.7777777777777778,\"#fb9f3a\"],[0.8888888888888888,\"#fdca26\"],[1.0,\"#f0f921\"]],\"type\":\"histogram2dcontour\"}],\"mesh3d\":[{\"colorbar\":{\"outlinewidth\":0,\"ticks\":\"\"},\"type\":\"mesh3d\"}],\"parcoords\":[{\"line\":{\"colorbar\":{\"outlinewidth\":0,\"ticks\":\"\"}},\"type\":\"parcoords\"}],\"pie\":[{\"automargin\":true,\"type\":\"pie\"}],\"scatter\":[{\"marker\":{\"colorbar\":{\"outlinewidth\":0,\"ticks\":\"\"}},\"type\":\"scatter\"}],\"scatter3d\":[{\"line\":{\"colorbar\":{\"outlinewidth\":0,\"ticks\":\"\"}},\"marker\":{\"colorbar\":{\"outlinewidth\":0,\"ticks\":\"\"}},\"type\":\"scatter3d\"}],\"scattercarpet\":[{\"marker\":{\"colorbar\":{\"outlinewidth\":0,\"ticks\":\"\"}},\"type\":\"scattercarpet\"}],\"scattergeo\":[{\"marker\":{\"colorbar\":{\"outlinewidth\":0,\"ticks\":\"\"}},\"type\":\"scattergeo\"}],\"scattergl\":[{\"marker\":{\"colorbar\":{\"outlinewidth\":0,\"ticks\":\"\"}},\"type\":\"scattergl\"}],\"scattermapbox\":[{\"marker\":{\"colorbar\":{\"outlinewidth\":0,\"ticks\":\"\"}},\"type\":\"scattermapbox\"}],\"scatterpolar\":[{\"marker\":{\"colorbar\":{\"outlinewidth\":0,\"ticks\":\"\"}},\"type\":\"scatterpolar\"}],\"scatterpolargl\":[{\"marker\":{\"colorbar\":{\"outlinewidth\":0,\"ticks\":\"\"}},\"type\":\"scatterpolargl\"}],\"scatterternary\":[{\"marker\":{\"colorbar\":{\"outlinewidth\":0,\"ticks\":\"\"}},\"type\":\"scatterternary\"}],\"surface\":[{\"colorbar\":{\"outlinewidth\":0,\"ticks\":\"\"},\"colorscale\":[[0.0,\"#0d0887\"],[0.1111111111111111,\"#46039f\"],[0.2222222222222222,\"#7201a8\"],[0.3333333333333333,\"#9c179e\"],[0.4444444444444444,\"#bd3786\"],[0.5555555555555556,\"#d8576b\"],[0.6666666666666666,\"#ed7953\"],[0.7777777777777778,\"#fb9f3a\"],[0.8888888888888888,\"#fdca26\"],[1.0,\"#f0f921\"]],\"type\":\"surface\"}],\"table\":[{\"cells\":{\"fill\":{\"color\":\"#EBF0F8\"},\"line\":{\"color\":\"white\"}},\"header\":{\"fill\":{\"color\":\"#C8D4E3\"},\"line\":{\"color\":\"white\"}},\"type\":\"table\"}]},\"layout\":{\"annotationdefaults\":{\"arrowcolor\":\"#2a3f5f\",\"arrowhead\":0,\"arrowwidth\":1},\"autotypenumbers\":\"strict\",\"coloraxis\":{\"colorbar\":{\"outlinewidth\":0,\"ticks\":\"\"}},\"colorscale\":{\"diverging\":[[0,\"#8e0152\"],[0.1,\"#c51b7d\"],[0.2,\"#de77ae\"],[0.3,\"#f1b6da\"],[0.4,\"#fde0ef\"],[0.5,\"#f7f7f7\"],[0.6,\"#e6f5d0\"],[0.7,\"#b8e186\"],[0.8,\"#7fbc41\"],[0.9,\"#4d9221\"],[1,\"#276419\"]],\"sequential\":[[0.0,\"#0d0887\"],[0.1111111111111111,\"#46039f\"],[0.2222222222222222,\"#7201a8\"],[0.3333333333333333,\"#9c179e\"],[0.4444444444444444,\"#bd3786\"],[0.5555555555555556,\"#d8576b\"],[0.6666666666666666,\"#ed7953\"],[0.7777777777777778,\"#fb9f3a\"],[0.8888888888888888,\"#fdca26\"],[1.0,\"#f0f921\"]],\"sequentialminus\":[[0.0,\"#0d0887\"],[0.1111111111111111,\"#46039f\"],[0.2222222222222222,\"#7201a8\"],[0.3333333333333333,\"#9c179e\"],[0.4444444444444444,\"#bd3786\"],[0.5555555555555556,\"#d8576b\"],[0.6666666666666666,\"#ed7953\"],[0.7777777777777778,\"#fb9f3a\"],[0.8888888888888888,\"#fdca26\"],[1.0,\"#f0f921\"]]},\"colorway\":[\"#636efa\",\"#EF553B\",\"#00cc96\",\"#ab63fa\",\"#FFA15A\",\"#19d3f3\",\"#FF6692\",\"#B6E880\",\"#FF97FF\",\"#FECB52\"],\"font\":{\"color\":\"#2a3f5f\"},\"geo\":{\"bgcolor\":\"white\",\"lakecolor\":\"white\",\"landcolor\":\"#E5ECF6\",\"showlakes\":true,\"showland\":true,\"subunitcolor\":\"white\"},\"hoverlabel\":{\"align\":\"left\"},\"hovermode\":\"closest\",\"mapbox\":{\"style\":\"light\"},\"paper_bgcolor\":\"white\",\"plot_bgcolor\":\"#E5ECF6\",\"polar\":{\"angularaxis\":{\"gridcolor\":\"white\",\"linecolor\":\"white\",\"ticks\":\"\"},\"bgcolor\":\"#E5ECF6\",\"radialaxis\":{\"gridcolor\":\"white\",\"linecolor\":\"white\",\"ticks\":\"\"}},\"scene\":{\"xaxis\":{\"backgroundcolor\":\"#E5ECF6\",\"gridcolor\":\"white\",\"gridwidth\":2,\"linecolor\":\"white\",\"showbackground\":true,\"ticks\":\"\",\"zerolinecolor\":\"white\"},\"yaxis\":{\"backgroundcolor\":\"#E5ECF6\",\"gridcolor\":\"white\",\"gridwidth\":2,\"linecolor\":\"white\",\"showbackground\":true,\"ticks\":\"\",\"zerolinecolor\":\"white\"},\"zaxis\":{\"backgroundcolor\":\"#E5ECF6\",\"gridcolor\":\"white\",\"gridwidth\":2,\"linecolor\":\"white\",\"showbackground\":true,\"ticks\":\"\",\"zerolinecolor\":\"white\"}},\"shapedefaults\":{\"line\":{\"color\":\"#2a3f5f\"}},\"ternary\":{\"aaxis\":{\"gridcolor\":\"white\",\"linecolor\":\"white\",\"ticks\":\"\"},\"baxis\":{\"gridcolor\":\"white\",\"linecolor\":\"white\",\"ticks\":\"\"},\"bgcolor\":\"#E5ECF6\",\"caxis\":{\"gridcolor\":\"white\",\"linecolor\":\"white\",\"ticks\":\"\"}},\"title\":{\"x\":0.05},\"xaxis\":{\"automargin\":true,\"gridcolor\":\"white\",\"linecolor\":\"white\",\"ticks\":\"\",\"title\":{\"standoff\":15},\"zerolinecolor\":\"white\",\"zerolinewidth\":2},\"yaxis\":{\"automargin\":true,\"gridcolor\":\"white\",\"linecolor\":\"white\",\"ticks\":\"\",\"title\":{\"standoff\":15},\"zerolinecolor\":\"white\",\"zerolinewidth\":2}}},\"xaxis\":{\"anchor\":\"y\",\"domain\":[0.0,1.0],\"title\":{\"text\":\"Number of Orders\"}},\"yaxis\":{\"anchor\":\"x\",\"domain\":[0.0,1.0],\"title\":{\"text\":\"Item\"}},\"legend\":{\"tracegroupgap\":0},\"margin\":{\"t\":60},\"barmode\":\"relative\",\"title\":{\"text\":\"Top 10 most sold items\"}},                        {\"responsive\": true}                    ).then(function(){\n",
       "                            \n",
       "var gd = document.getElementById('7012337e-421f-4dd8-950a-249218e8731a');\n",
       "var x = new MutationObserver(function (mutations, observer) {{\n",
       "        var display = window.getComputedStyle(gd).display;\n",
       "        if (!display || display === 'none') {{\n",
       "            console.log([gd, 'removed!']);\n",
       "            Plotly.purge(gd);\n",
       "            observer.disconnect();\n",
       "        }}\n",
       "}});\n",
       "\n",
       "// Listen for the removal of the full notebook cells\n",
       "var notebookContainer = gd.closest('#notebook-container');\n",
       "if (notebookContainer) {{\n",
       "    x.observe(notebookContainer, {childList: true});\n",
       "}}\n",
       "\n",
       "// Listen for the clearing of the current output cell\n",
       "var outputEl = gd.closest('.output');\n",
       "if (outputEl) {{\n",
       "    x.observe(outputEl, {childList: true});\n",
       "}}\n",
       "\n",
       "                        })                };                });            </script>        </div>"
      ]
     },
     "metadata": {},
     "output_type": "display_data"
    }
   ],
   "source": [
    "orders_num_per_item = sales.groupby('item_name').agg({'order_id':'nunique','quantity':'sum','revenue':'sum'}).reset_index()\n",
    "orders_num_per_item.columns = ['item_name','number_of_orders','total_quantity','total_revenue']\n",
    "top_10_most_orders = orders_num_per_item.sort_values(by = 'number_of_orders', ascending = False)[:10].sort_values(by = 'number_of_orders')\n",
    "fig = px.bar(\n",
    "    top_10_most_orders, \n",
    "    x = 'number_of_orders',\n",
    "    y = 'item_name',\n",
    "    orientation = 'h',\n",
    "    labels = {'number_of_orders':'Number of Orders', 'item_name':'Item'})\n",
    "fig.update_layout(title = 'Top 10 most sold items')\n",
    "\n",
    "fig.show()"
   ]
  },
  {
   "cell_type": "markdown",
   "id": "e2a27cf0",
   "metadata": {},
   "source": [
    "We can see that our most sold item is a white hanging heart t-light holder, with over 2000 orders for this item. We also see that all of our items are items for the house: either to decorate it, or to use it. We also see that we don't have any essensial house items here, but mainly decorative things. This might show that most of our customers buy our products so that they can have a fun and cheap thing in their house. It's not something they need, but it's something they would like to have with the right price.\n"
   ]
  },
  {
   "cell_type": "markdown",
   "id": "f5e0ad8b",
   "metadata": {},
   "source": [
    "Let's check our least selling items. We can assume that our least selling items have been sold once. Let's check how many of our items were sold once:"
   ]
  },
  {
   "cell_type": "code",
   "execution_count": 45,
   "id": "fe324173",
   "metadata": {},
   "outputs": [
    {
     "data": {
      "text/plain": [
       "175"
      ]
     },
     "execution_count": 45,
     "metadata": {},
     "output_type": "execute_result"
    }
   ],
   "source": [
    "len(orders_num_per_item.loc[orders_num_per_item['number_of_orders'] == 1])"
   ]
  },
  {
   "cell_type": "markdown",
   "id": "d7edf30f",
   "metadata": {},
   "source": [
    "We see we have 175 items that only have been sold once! Let's check 10 of them:"
   ]
  },
  {
   "cell_type": "code",
   "execution_count": 46,
   "id": "a6e5ffdd",
   "metadata": {},
   "outputs": [
    {
     "data": {
      "text/plain": [
       "2455                PEG BAG APPLE DESIGN\n",
       "1728     HOT WATER BOTTLE BABUSHKA LARGE\n",
       "3014             SCALLOP SHELL SOAP DISH\n",
       "2523      PINK CHRYSANTHEMUMS ART FLOWER\n",
       "1844         KEEP OUT GIRLS DOOR HANGER \n",
       "2997     S/4 BLACK DISCO PARTITION PANEL\n",
       "158      AMBER BERTIE MOBILE PHONE CHARM\n",
       "879      COUNTRY COTTAGE  DOORSTOP GREEN\n",
       "383     BLACK GLASS/SHELL/PEARL NECKLACE\n",
       "1750                INCENSE BAZAAR PEACH\n",
       "Name: item_name, dtype: object"
      ]
     },
     "execution_count": 46,
     "metadata": {},
     "output_type": "execute_result"
    }
   ],
   "source": [
    "top_10_least_orders = orders_num_per_item.sort_values(by = 'number_of_orders')[:10]\n",
    "top_10_least_orders['item_name']"
   ]
  },
  {
   "cell_type": "markdown",
   "id": "d117a69f",
   "metadata": {},
   "source": [
    "Here we can see a much wider range of products than we saw in the top 10: From doorstops to hot water bottles. It's safe to say there isn't any pattern here."
   ]
  },
  {
   "cell_type": "markdown",
   "id": "d3d248fe",
   "metadata": {},
   "source": [
    "Now let's check the top selling items in terms of quantity:"
   ]
  },
  {
   "cell_type": "code",
   "execution_count": 47,
   "id": "d0dc5b55",
   "metadata": {},
   "outputs": [
    {
     "data": {
      "text/html": [
       "<div>                            <div id=\"018cde1d-9b2f-45ad-9033-1d6b73d62a04\" class=\"plotly-graph-div\" style=\"height:525px; width:100%;\"></div>            <script type=\"text/javascript\">                require([\"plotly\"], function(Plotly) {                    window.PLOTLYENV=window.PLOTLYENV || {};                                    if (document.getElementById(\"018cde1d-9b2f-45ad-9033-1d6b73d62a04\")) {                    Plotly.newPlot(                        \"018cde1d-9b2f-45ad-9033-1d6b73d62a04\",                        [{\"alignmentgroup\":\"True\",\"hovertemplate\":\"Total Quantity=%{x}<br>Item=%{y}<extra></extra>\",\"legendgroup\":\"\",\"marker\":{\"color\":\"#636efa\",\"pattern\":{\"shape\":\"\"}},\"name\":\"\",\"offsetgroup\":\"\",\"orientation\":\"h\",\"showlegend\":false,\"textposition\":\"auto\",\"x\":[24719,26095,26437,30631,35294,36016,36282,36322,47256,53751],\"xaxis\":\"x\",\"y\":[\"PACK OF 60 PINK PAISLEY CAKE CASES\",\"PACK OF 12 LONDON TISSUES \",\"MINI PAINT SET VINTAGE \",\"RABBIT NIGHT LIGHT\",\"WHITE HANGING HEART T-LIGHT HOLDER\",\"PACK OF 72 RETROSPOT CAKE CASES\",\"ASSORTED COLOUR BIRD ORNAMENT\",\"POPCORN HOLDER\",\"JUMBO BAG RED RETROSPOT\",\"WORLD WAR 2 GLIDERS ASSTD DESIGNS\"],\"yaxis\":\"y\",\"type\":\"bar\"}],                        {\"template\":{\"data\":{\"bar\":[{\"error_x\":{\"color\":\"#2a3f5f\"},\"error_y\":{\"color\":\"#2a3f5f\"},\"marker\":{\"line\":{\"color\":\"#E5ECF6\",\"width\":0.5},\"pattern\":{\"fillmode\":\"overlay\",\"size\":10,\"solidity\":0.2}},\"type\":\"bar\"}],\"barpolar\":[{\"marker\":{\"line\":{\"color\":\"#E5ECF6\",\"width\":0.5},\"pattern\":{\"fillmode\":\"overlay\",\"size\":10,\"solidity\":0.2}},\"type\":\"barpolar\"}],\"carpet\":[{\"aaxis\":{\"endlinecolor\":\"#2a3f5f\",\"gridcolor\":\"white\",\"linecolor\":\"white\",\"minorgridcolor\":\"white\",\"startlinecolor\":\"#2a3f5f\"},\"baxis\":{\"endlinecolor\":\"#2a3f5f\",\"gridcolor\":\"white\",\"linecolor\":\"white\",\"minorgridcolor\":\"white\",\"startlinecolor\":\"#2a3f5f\"},\"type\":\"carpet\"}],\"choropleth\":[{\"colorbar\":{\"outlinewidth\":0,\"ticks\":\"\"},\"type\":\"choropleth\"}],\"contour\":[{\"colorbar\":{\"outlinewidth\":0,\"ticks\":\"\"},\"colorscale\":[[0.0,\"#0d0887\"],[0.1111111111111111,\"#46039f\"],[0.2222222222222222,\"#7201a8\"],[0.3333333333333333,\"#9c179e\"],[0.4444444444444444,\"#bd3786\"],[0.5555555555555556,\"#d8576b\"],[0.6666666666666666,\"#ed7953\"],[0.7777777777777778,\"#fb9f3a\"],[0.8888888888888888,\"#fdca26\"],[1.0,\"#f0f921\"]],\"type\":\"contour\"}],\"contourcarpet\":[{\"colorbar\":{\"outlinewidth\":0,\"ticks\":\"\"},\"type\":\"contourcarpet\"}],\"heatmap\":[{\"colorbar\":{\"outlinewidth\":0,\"ticks\":\"\"},\"colorscale\":[[0.0,\"#0d0887\"],[0.1111111111111111,\"#46039f\"],[0.2222222222222222,\"#7201a8\"],[0.3333333333333333,\"#9c179e\"],[0.4444444444444444,\"#bd3786\"],[0.5555555555555556,\"#d8576b\"],[0.6666666666666666,\"#ed7953\"],[0.7777777777777778,\"#fb9f3a\"],[0.8888888888888888,\"#fdca26\"],[1.0,\"#f0f921\"]],\"type\":\"heatmap\"}],\"heatmapgl\":[{\"colorbar\":{\"outlinewidth\":0,\"ticks\":\"\"},\"colorscale\":[[0.0,\"#0d0887\"],[0.1111111111111111,\"#46039f\"],[0.2222222222222222,\"#7201a8\"],[0.3333333333333333,\"#9c179e\"],[0.4444444444444444,\"#bd3786\"],[0.5555555555555556,\"#d8576b\"],[0.6666666666666666,\"#ed7953\"],[0.7777777777777778,\"#fb9f3a\"],[0.8888888888888888,\"#fdca26\"],[1.0,\"#f0f921\"]],\"type\":\"heatmapgl\"}],\"histogram\":[{\"marker\":{\"pattern\":{\"fillmode\":\"overlay\",\"size\":10,\"solidity\":0.2}},\"type\":\"histogram\"}],\"histogram2d\":[{\"colorbar\":{\"outlinewidth\":0,\"ticks\":\"\"},\"colorscale\":[[0.0,\"#0d0887\"],[0.1111111111111111,\"#46039f\"],[0.2222222222222222,\"#7201a8\"],[0.3333333333333333,\"#9c179e\"],[0.4444444444444444,\"#bd3786\"],[0.5555555555555556,\"#d8576b\"],[0.6666666666666666,\"#ed7953\"],[0.7777777777777778,\"#fb9f3a\"],[0.8888888888888888,\"#fdca26\"],[1.0,\"#f0f921\"]],\"type\":\"histogram2d\"}],\"histogram2dcontour\":[{\"colorbar\":{\"outlinewidth\":0,\"ticks\":\"\"},\"colorscale\":[[0.0,\"#0d0887\"],[0.1111111111111111,\"#46039f\"],[0.2222222222222222,\"#7201a8\"],[0.3333333333333333,\"#9c179e\"],[0.4444444444444444,\"#bd3786\"],[0.5555555555555556,\"#d8576b\"],[0.6666666666666666,\"#ed7953\"],[0.7777777777777778,\"#fb9f3a\"],[0.8888888888888888,\"#fdca26\"],[1.0,\"#f0f921\"]],\"type\":\"histogram2dcontour\"}],\"mesh3d\":[{\"colorbar\":{\"outlinewidth\":0,\"ticks\":\"\"},\"type\":\"mesh3d\"}],\"parcoords\":[{\"line\":{\"colorbar\":{\"outlinewidth\":0,\"ticks\":\"\"}},\"type\":\"parcoords\"}],\"pie\":[{\"automargin\":true,\"type\":\"pie\"}],\"scatter\":[{\"marker\":{\"colorbar\":{\"outlinewidth\":0,\"ticks\":\"\"}},\"type\":\"scatter\"}],\"scatter3d\":[{\"line\":{\"colorbar\":{\"outlinewidth\":0,\"ticks\":\"\"}},\"marker\":{\"colorbar\":{\"outlinewidth\":0,\"ticks\":\"\"}},\"type\":\"scatter3d\"}],\"scattercarpet\":[{\"marker\":{\"colorbar\":{\"outlinewidth\":0,\"ticks\":\"\"}},\"type\":\"scattercarpet\"}],\"scattergeo\":[{\"marker\":{\"colorbar\":{\"outlinewidth\":0,\"ticks\":\"\"}},\"type\":\"scattergeo\"}],\"scattergl\":[{\"marker\":{\"colorbar\":{\"outlinewidth\":0,\"ticks\":\"\"}},\"type\":\"scattergl\"}],\"scattermapbox\":[{\"marker\":{\"colorbar\":{\"outlinewidth\":0,\"ticks\":\"\"}},\"type\":\"scattermapbox\"}],\"scatterpolar\":[{\"marker\":{\"colorbar\":{\"outlinewidth\":0,\"ticks\":\"\"}},\"type\":\"scatterpolar\"}],\"scatterpolargl\":[{\"marker\":{\"colorbar\":{\"outlinewidth\":0,\"ticks\":\"\"}},\"type\":\"scatterpolargl\"}],\"scatterternary\":[{\"marker\":{\"colorbar\":{\"outlinewidth\":0,\"ticks\":\"\"}},\"type\":\"scatterternary\"}],\"surface\":[{\"colorbar\":{\"outlinewidth\":0,\"ticks\":\"\"},\"colorscale\":[[0.0,\"#0d0887\"],[0.1111111111111111,\"#46039f\"],[0.2222222222222222,\"#7201a8\"],[0.3333333333333333,\"#9c179e\"],[0.4444444444444444,\"#bd3786\"],[0.5555555555555556,\"#d8576b\"],[0.6666666666666666,\"#ed7953\"],[0.7777777777777778,\"#fb9f3a\"],[0.8888888888888888,\"#fdca26\"],[1.0,\"#f0f921\"]],\"type\":\"surface\"}],\"table\":[{\"cells\":{\"fill\":{\"color\":\"#EBF0F8\"},\"line\":{\"color\":\"white\"}},\"header\":{\"fill\":{\"color\":\"#C8D4E3\"},\"line\":{\"color\":\"white\"}},\"type\":\"table\"}]},\"layout\":{\"annotationdefaults\":{\"arrowcolor\":\"#2a3f5f\",\"arrowhead\":0,\"arrowwidth\":1},\"autotypenumbers\":\"strict\",\"coloraxis\":{\"colorbar\":{\"outlinewidth\":0,\"ticks\":\"\"}},\"colorscale\":{\"diverging\":[[0,\"#8e0152\"],[0.1,\"#c51b7d\"],[0.2,\"#de77ae\"],[0.3,\"#f1b6da\"],[0.4,\"#fde0ef\"],[0.5,\"#f7f7f7\"],[0.6,\"#e6f5d0\"],[0.7,\"#b8e186\"],[0.8,\"#7fbc41\"],[0.9,\"#4d9221\"],[1,\"#276419\"]],\"sequential\":[[0.0,\"#0d0887\"],[0.1111111111111111,\"#46039f\"],[0.2222222222222222,\"#7201a8\"],[0.3333333333333333,\"#9c179e\"],[0.4444444444444444,\"#bd3786\"],[0.5555555555555556,\"#d8576b\"],[0.6666666666666666,\"#ed7953\"],[0.7777777777777778,\"#fb9f3a\"],[0.8888888888888888,\"#fdca26\"],[1.0,\"#f0f921\"]],\"sequentialminus\":[[0.0,\"#0d0887\"],[0.1111111111111111,\"#46039f\"],[0.2222222222222222,\"#7201a8\"],[0.3333333333333333,\"#9c179e\"],[0.4444444444444444,\"#bd3786\"],[0.5555555555555556,\"#d8576b\"],[0.6666666666666666,\"#ed7953\"],[0.7777777777777778,\"#fb9f3a\"],[0.8888888888888888,\"#fdca26\"],[1.0,\"#f0f921\"]]},\"colorway\":[\"#636efa\",\"#EF553B\",\"#00cc96\",\"#ab63fa\",\"#FFA15A\",\"#19d3f3\",\"#FF6692\",\"#B6E880\",\"#FF97FF\",\"#FECB52\"],\"font\":{\"color\":\"#2a3f5f\"},\"geo\":{\"bgcolor\":\"white\",\"lakecolor\":\"white\",\"landcolor\":\"#E5ECF6\",\"showlakes\":true,\"showland\":true,\"subunitcolor\":\"white\"},\"hoverlabel\":{\"align\":\"left\"},\"hovermode\":\"closest\",\"mapbox\":{\"style\":\"light\"},\"paper_bgcolor\":\"white\",\"plot_bgcolor\":\"#E5ECF6\",\"polar\":{\"angularaxis\":{\"gridcolor\":\"white\",\"linecolor\":\"white\",\"ticks\":\"\"},\"bgcolor\":\"#E5ECF6\",\"radialaxis\":{\"gridcolor\":\"white\",\"linecolor\":\"white\",\"ticks\":\"\"}},\"scene\":{\"xaxis\":{\"backgroundcolor\":\"#E5ECF6\",\"gridcolor\":\"white\",\"gridwidth\":2,\"linecolor\":\"white\",\"showbackground\":true,\"ticks\":\"\",\"zerolinecolor\":\"white\"},\"yaxis\":{\"backgroundcolor\":\"#E5ECF6\",\"gridcolor\":\"white\",\"gridwidth\":2,\"linecolor\":\"white\",\"showbackground\":true,\"ticks\":\"\",\"zerolinecolor\":\"white\"},\"zaxis\":{\"backgroundcolor\":\"#E5ECF6\",\"gridcolor\":\"white\",\"gridwidth\":2,\"linecolor\":\"white\",\"showbackground\":true,\"ticks\":\"\",\"zerolinecolor\":\"white\"}},\"shapedefaults\":{\"line\":{\"color\":\"#2a3f5f\"}},\"ternary\":{\"aaxis\":{\"gridcolor\":\"white\",\"linecolor\":\"white\",\"ticks\":\"\"},\"baxis\":{\"gridcolor\":\"white\",\"linecolor\":\"white\",\"ticks\":\"\"},\"bgcolor\":\"#E5ECF6\",\"caxis\":{\"gridcolor\":\"white\",\"linecolor\":\"white\",\"ticks\":\"\"}},\"title\":{\"x\":0.05},\"xaxis\":{\"automargin\":true,\"gridcolor\":\"white\",\"linecolor\":\"white\",\"ticks\":\"\",\"title\":{\"standoff\":15},\"zerolinecolor\":\"white\",\"zerolinewidth\":2},\"yaxis\":{\"automargin\":true,\"gridcolor\":\"white\",\"linecolor\":\"white\",\"ticks\":\"\",\"title\":{\"standoff\":15},\"zerolinecolor\":\"white\",\"zerolinewidth\":2}}},\"xaxis\":{\"anchor\":\"y\",\"domain\":[0.0,1.0],\"title\":{\"text\":\"Total Quantity\"}},\"yaxis\":{\"anchor\":\"x\",\"domain\":[0.0,1.0],\"title\":{\"text\":\"Item\"}},\"legend\":{\"tracegroupgap\":0},\"margin\":{\"t\":60},\"barmode\":\"relative\",\"title\":{\"text\":\"Top 10 most sold items in terms of Quantity\"}},                        {\"responsive\": true}                    ).then(function(){\n",
       "                            \n",
       "var gd = document.getElementById('018cde1d-9b2f-45ad-9033-1d6b73d62a04');\n",
       "var x = new MutationObserver(function (mutations, observer) {{\n",
       "        var display = window.getComputedStyle(gd).display;\n",
       "        if (!display || display === 'none') {{\n",
       "            console.log([gd, 'removed!']);\n",
       "            Plotly.purge(gd);\n",
       "            observer.disconnect();\n",
       "        }}\n",
       "}});\n",
       "\n",
       "// Listen for the removal of the full notebook cells\n",
       "var notebookContainer = gd.closest('#notebook-container');\n",
       "if (notebookContainer) {{\n",
       "    x.observe(notebookContainer, {childList: true});\n",
       "}}\n",
       "\n",
       "// Listen for the clearing of the current output cell\n",
       "var outputEl = gd.closest('.output');\n",
       "if (outputEl) {{\n",
       "    x.observe(outputEl, {childList: true});\n",
       "}}\n",
       "\n",
       "                        })                };                });            </script>        </div>"
      ]
     },
     "metadata": {},
     "output_type": "display_data"
    }
   ],
   "source": [
    "top_10_quantity = orders_num_per_item.sort_values(by = 'total_quantity', ascending = False)[:10].sort_values(by = 'total_quantity')\n",
    "fig = px.bar(\n",
    "    top_10_quantity, \n",
    "    x = 'total_quantity',\n",
    "    y = 'item_name',\n",
    "    orientation = 'h',\n",
    "    labels = {'total_quantity':'Total Quantity', 'item_name':'Item'})\n",
    "fig.update_layout(title = 'Top 10 most sold items in terms of Quantity')\n",
    "\n",
    "fig.show()"
   ]
  },
  {
   "cell_type": "markdown",
   "id": "613283c1",
   "metadata": {},
   "source": [
    "We see here a few interesting things. Our White T-Light Holder, that was ordered in the most orders, Is only 6th in terms of quantity. The item that is sold most is a WW2 glidew, with about 50,000 items sold. We can see that in addition to the decorative things we saw in the last graph, we see one time things, like crafts and popcorn holders. This shows that customers that buy one time things will buy more of them in one order, because they know the'll use it. "
   ]
  },
  {
   "cell_type": "markdown",
   "id": "c5212b0c",
   "metadata": {},
   "source": [
    "Let's check the least sold items in terms of quantity. Again, Let's check how many items only sold 1 product:"
   ]
  },
  {
   "cell_type": "code",
   "execution_count": 48,
   "id": "09191269",
   "metadata": {},
   "outputs": [
    {
     "data": {
      "text/plain": [
       "69"
      ]
     },
     "execution_count": 48,
     "metadata": {},
     "output_type": "execute_result"
    }
   ],
   "source": [
    "len(orders_num_per_item.loc[orders_num_per_item['total_quantity'] == 1])"
   ]
  },
  {
   "cell_type": "markdown",
   "id": "048fc9fd",
   "metadata": {},
   "source": [
    "We can see there are 69 items that were sold once. These are 67 items out of the 172 items that were only ordered once. Let's see if there is anything in common with items that were ordered once with a quantity more than 1:"
   ]
  },
  {
   "cell_type": "code",
   "execution_count": 49,
   "id": "a4be8e06",
   "metadata": {},
   "outputs": [
    {
     "data": {
      "text/plain": [
       "10               TOADSTOOL BEDSIDE LIGHT \n",
       "33        16 PC CUTLERY SET PANTRY DESIGN\n",
       "80           4 GOLD FLOCK CHRISTMAS BALLS\n",
       "115       72 CAKE CASES VINTAGE CHRISTMAS\n",
       "134          ACRYLIC JEWEL SNOWFLAKE,PINK\n",
       "158       AMBER BERTIE MOBILE PHONE CHARM\n",
       "187    ANT SILVER TURQUOISE BOUDICCA RING\n",
       "232     ASSORTED COLOUR SILK GLASSES CASE\n",
       "275        BAKING MOULD CUPCAKE CHOCOLATE\n",
       "282    BAKING MOULD TOFFEE CUP  CHOCOLATE\n",
       "Name: item_name, dtype: object"
      ]
     },
     "execution_count": 49,
     "metadata": {},
     "output_type": "execute_result"
    }
   ],
   "source": [
    "orders_num_per_item.loc[(orders_num_per_item['total_quantity'] > 1) & (orders_num_per_item['number_of_orders'] == 1)]['item_name'].head(10)"
   ]
  },
  {
   "cell_type": "markdown",
   "id": "edac4437",
   "metadata": {},
   "source": [
    "We see these are all small things: Glasses cases and Christmas bells. Looks like these items weren't bought alone because they are cheap and they may use it afterwards."
   ]
  },
  {
   "cell_type": "markdown",
   "id": "a345d031",
   "metadata": {},
   "source": [
    "Let's check the items with the most revenue:"
   ]
  },
  {
   "cell_type": "code",
   "execution_count": 50,
   "id": "670715d7",
   "metadata": {},
   "outputs": [
    {
     "data": {
      "text/html": [
       "<div>                            <div id=\"b3d9e996-730b-499f-8ebd-de665630d3c4\" class=\"plotly-graph-div\" style=\"height:525px; width:100%;\"></div>            <script type=\"text/javascript\">                require([\"plotly\"], function(Plotly) {                    window.PLOTLYENV=window.PLOTLYENV || {};                                    if (document.getElementById(\"b3d9e996-730b-499f-8ebd-de665630d3c4\")) {                    Plotly.newPlot(                        \"b3d9e996-730b-499f-8ebd-de665630d3c4\",                        [{\"alignmentgroup\":\"True\",\"hovertemplate\":\"Total Revenue=%{x}<br>Item=%{y}<extra></extra>\",\"legendgroup\":\"\",\"marker\":{\"color\":\"#636efa\",\"pattern\":{\"shape\":\"\"}},\"name\":\"\",\"offsetgroup\":\"\",\"orientation\":\"h\",\"showlegend\":false,\"textposition\":\"auto\",\"x\":[53746.66,58792.42,63715.240000000005,66230.64,66661.63,92175.79,98243.88,99612.42,164459.49,206245.48],\"xaxis\":\"x\",\"y\":[\"CHILLI LIGHTS\",\"ASSORTED COLOUR BIRD ORNAMENT\",\"PAPER CHAIN KIT 50'S CHRISTMAS \",\"POSTAGE\",\"RABBIT NIGHT LIGHT\",\"JUMBO BAG RED RETROSPOT\",\"PARTY BUNTING\",\"WHITE HANGING HEART T-LIGHT HOLDER\",\"REGENCY CAKESTAND 3 TIER\",\"DOTCOM POSTAGE\"],\"yaxis\":\"y\",\"type\":\"bar\"}],                        {\"template\":{\"data\":{\"bar\":[{\"error_x\":{\"color\":\"#2a3f5f\"},\"error_y\":{\"color\":\"#2a3f5f\"},\"marker\":{\"line\":{\"color\":\"#E5ECF6\",\"width\":0.5},\"pattern\":{\"fillmode\":\"overlay\",\"size\":10,\"solidity\":0.2}},\"type\":\"bar\"}],\"barpolar\":[{\"marker\":{\"line\":{\"color\":\"#E5ECF6\",\"width\":0.5},\"pattern\":{\"fillmode\":\"overlay\",\"size\":10,\"solidity\":0.2}},\"type\":\"barpolar\"}],\"carpet\":[{\"aaxis\":{\"endlinecolor\":\"#2a3f5f\",\"gridcolor\":\"white\",\"linecolor\":\"white\",\"minorgridcolor\":\"white\",\"startlinecolor\":\"#2a3f5f\"},\"baxis\":{\"endlinecolor\":\"#2a3f5f\",\"gridcolor\":\"white\",\"linecolor\":\"white\",\"minorgridcolor\":\"white\",\"startlinecolor\":\"#2a3f5f\"},\"type\":\"carpet\"}],\"choropleth\":[{\"colorbar\":{\"outlinewidth\":0,\"ticks\":\"\"},\"type\":\"choropleth\"}],\"contour\":[{\"colorbar\":{\"outlinewidth\":0,\"ticks\":\"\"},\"colorscale\":[[0.0,\"#0d0887\"],[0.1111111111111111,\"#46039f\"],[0.2222222222222222,\"#7201a8\"],[0.3333333333333333,\"#9c179e\"],[0.4444444444444444,\"#bd3786\"],[0.5555555555555556,\"#d8576b\"],[0.6666666666666666,\"#ed7953\"],[0.7777777777777778,\"#fb9f3a\"],[0.8888888888888888,\"#fdca26\"],[1.0,\"#f0f921\"]],\"type\":\"contour\"}],\"contourcarpet\":[{\"colorbar\":{\"outlinewidth\":0,\"ticks\":\"\"},\"type\":\"contourcarpet\"}],\"heatmap\":[{\"colorbar\":{\"outlinewidth\":0,\"ticks\":\"\"},\"colorscale\":[[0.0,\"#0d0887\"],[0.1111111111111111,\"#46039f\"],[0.2222222222222222,\"#7201a8\"],[0.3333333333333333,\"#9c179e\"],[0.4444444444444444,\"#bd3786\"],[0.5555555555555556,\"#d8576b\"],[0.6666666666666666,\"#ed7953\"],[0.7777777777777778,\"#fb9f3a\"],[0.8888888888888888,\"#fdca26\"],[1.0,\"#f0f921\"]],\"type\":\"heatmap\"}],\"heatmapgl\":[{\"colorbar\":{\"outlinewidth\":0,\"ticks\":\"\"},\"colorscale\":[[0.0,\"#0d0887\"],[0.1111111111111111,\"#46039f\"],[0.2222222222222222,\"#7201a8\"],[0.3333333333333333,\"#9c179e\"],[0.4444444444444444,\"#bd3786\"],[0.5555555555555556,\"#d8576b\"],[0.6666666666666666,\"#ed7953\"],[0.7777777777777778,\"#fb9f3a\"],[0.8888888888888888,\"#fdca26\"],[1.0,\"#f0f921\"]],\"type\":\"heatmapgl\"}],\"histogram\":[{\"marker\":{\"pattern\":{\"fillmode\":\"overlay\",\"size\":10,\"solidity\":0.2}},\"type\":\"histogram\"}],\"histogram2d\":[{\"colorbar\":{\"outlinewidth\":0,\"ticks\":\"\"},\"colorscale\":[[0.0,\"#0d0887\"],[0.1111111111111111,\"#46039f\"],[0.2222222222222222,\"#7201a8\"],[0.3333333333333333,\"#9c179e\"],[0.4444444444444444,\"#bd3786\"],[0.5555555555555556,\"#d8576b\"],[0.6666666666666666,\"#ed7953\"],[0.7777777777777778,\"#fb9f3a\"],[0.8888888888888888,\"#fdca26\"],[1.0,\"#f0f921\"]],\"type\":\"histogram2d\"}],\"histogram2dcontour\":[{\"colorbar\":{\"outlinewidth\":0,\"ticks\":\"\"},\"colorscale\":[[0.0,\"#0d0887\"],[0.1111111111111111,\"#46039f\"],[0.2222222222222222,\"#7201a8\"],[0.3333333333333333,\"#9c179e\"],[0.4444444444444444,\"#bd3786\"],[0.5555555555555556,\"#d8576b\"],[0.6666666666666666,\"#ed7953\"],[0.7777777777777778,\"#fb9f3a\"],[0.8888888888888888,\"#fdca26\"],[1.0,\"#f0f921\"]],\"type\":\"histogram2dcontour\"}],\"mesh3d\":[{\"colorbar\":{\"outlinewidth\":0,\"ticks\":\"\"},\"type\":\"mesh3d\"}],\"parcoords\":[{\"line\":{\"colorbar\":{\"outlinewidth\":0,\"ticks\":\"\"}},\"type\":\"parcoords\"}],\"pie\":[{\"automargin\":true,\"type\":\"pie\"}],\"scatter\":[{\"marker\":{\"colorbar\":{\"outlinewidth\":0,\"ticks\":\"\"}},\"type\":\"scatter\"}],\"scatter3d\":[{\"line\":{\"colorbar\":{\"outlinewidth\":0,\"ticks\":\"\"}},\"marker\":{\"colorbar\":{\"outlinewidth\":0,\"ticks\":\"\"}},\"type\":\"scatter3d\"}],\"scattercarpet\":[{\"marker\":{\"colorbar\":{\"outlinewidth\":0,\"ticks\":\"\"}},\"type\":\"scattercarpet\"}],\"scattergeo\":[{\"marker\":{\"colorbar\":{\"outlinewidth\":0,\"ticks\":\"\"}},\"type\":\"scattergeo\"}],\"scattergl\":[{\"marker\":{\"colorbar\":{\"outlinewidth\":0,\"ticks\":\"\"}},\"type\":\"scattergl\"}],\"scattermapbox\":[{\"marker\":{\"colorbar\":{\"outlinewidth\":0,\"ticks\":\"\"}},\"type\":\"scattermapbox\"}],\"scatterpolar\":[{\"marker\":{\"colorbar\":{\"outlinewidth\":0,\"ticks\":\"\"}},\"type\":\"scatterpolar\"}],\"scatterpolargl\":[{\"marker\":{\"colorbar\":{\"outlinewidth\":0,\"ticks\":\"\"}},\"type\":\"scatterpolargl\"}],\"scatterternary\":[{\"marker\":{\"colorbar\":{\"outlinewidth\":0,\"ticks\":\"\"}},\"type\":\"scatterternary\"}],\"surface\":[{\"colorbar\":{\"outlinewidth\":0,\"ticks\":\"\"},\"colorscale\":[[0.0,\"#0d0887\"],[0.1111111111111111,\"#46039f\"],[0.2222222222222222,\"#7201a8\"],[0.3333333333333333,\"#9c179e\"],[0.4444444444444444,\"#bd3786\"],[0.5555555555555556,\"#d8576b\"],[0.6666666666666666,\"#ed7953\"],[0.7777777777777778,\"#fb9f3a\"],[0.8888888888888888,\"#fdca26\"],[1.0,\"#f0f921\"]],\"type\":\"surface\"}],\"table\":[{\"cells\":{\"fill\":{\"color\":\"#EBF0F8\"},\"line\":{\"color\":\"white\"}},\"header\":{\"fill\":{\"color\":\"#C8D4E3\"},\"line\":{\"color\":\"white\"}},\"type\":\"table\"}]},\"layout\":{\"annotationdefaults\":{\"arrowcolor\":\"#2a3f5f\",\"arrowhead\":0,\"arrowwidth\":1},\"autotypenumbers\":\"strict\",\"coloraxis\":{\"colorbar\":{\"outlinewidth\":0,\"ticks\":\"\"}},\"colorscale\":{\"diverging\":[[0,\"#8e0152\"],[0.1,\"#c51b7d\"],[0.2,\"#de77ae\"],[0.3,\"#f1b6da\"],[0.4,\"#fde0ef\"],[0.5,\"#f7f7f7\"],[0.6,\"#e6f5d0\"],[0.7,\"#b8e186\"],[0.8,\"#7fbc41\"],[0.9,\"#4d9221\"],[1,\"#276419\"]],\"sequential\":[[0.0,\"#0d0887\"],[0.1111111111111111,\"#46039f\"],[0.2222222222222222,\"#7201a8\"],[0.3333333333333333,\"#9c179e\"],[0.4444444444444444,\"#bd3786\"],[0.5555555555555556,\"#d8576b\"],[0.6666666666666666,\"#ed7953\"],[0.7777777777777778,\"#fb9f3a\"],[0.8888888888888888,\"#fdca26\"],[1.0,\"#f0f921\"]],\"sequentialminus\":[[0.0,\"#0d0887\"],[0.1111111111111111,\"#46039f\"],[0.2222222222222222,\"#7201a8\"],[0.3333333333333333,\"#9c179e\"],[0.4444444444444444,\"#bd3786\"],[0.5555555555555556,\"#d8576b\"],[0.6666666666666666,\"#ed7953\"],[0.7777777777777778,\"#fb9f3a\"],[0.8888888888888888,\"#fdca26\"],[1.0,\"#f0f921\"]]},\"colorway\":[\"#636efa\",\"#EF553B\",\"#00cc96\",\"#ab63fa\",\"#FFA15A\",\"#19d3f3\",\"#FF6692\",\"#B6E880\",\"#FF97FF\",\"#FECB52\"],\"font\":{\"color\":\"#2a3f5f\"},\"geo\":{\"bgcolor\":\"white\",\"lakecolor\":\"white\",\"landcolor\":\"#E5ECF6\",\"showlakes\":true,\"showland\":true,\"subunitcolor\":\"white\"},\"hoverlabel\":{\"align\":\"left\"},\"hovermode\":\"closest\",\"mapbox\":{\"style\":\"light\"},\"paper_bgcolor\":\"white\",\"plot_bgcolor\":\"#E5ECF6\",\"polar\":{\"angularaxis\":{\"gridcolor\":\"white\",\"linecolor\":\"white\",\"ticks\":\"\"},\"bgcolor\":\"#E5ECF6\",\"radialaxis\":{\"gridcolor\":\"white\",\"linecolor\":\"white\",\"ticks\":\"\"}},\"scene\":{\"xaxis\":{\"backgroundcolor\":\"#E5ECF6\",\"gridcolor\":\"white\",\"gridwidth\":2,\"linecolor\":\"white\",\"showbackground\":true,\"ticks\":\"\",\"zerolinecolor\":\"white\"},\"yaxis\":{\"backgroundcolor\":\"#E5ECF6\",\"gridcolor\":\"white\",\"gridwidth\":2,\"linecolor\":\"white\",\"showbackground\":true,\"ticks\":\"\",\"zerolinecolor\":\"white\"},\"zaxis\":{\"backgroundcolor\":\"#E5ECF6\",\"gridcolor\":\"white\",\"gridwidth\":2,\"linecolor\":\"white\",\"showbackground\":true,\"ticks\":\"\",\"zerolinecolor\":\"white\"}},\"shapedefaults\":{\"line\":{\"color\":\"#2a3f5f\"}},\"ternary\":{\"aaxis\":{\"gridcolor\":\"white\",\"linecolor\":\"white\",\"ticks\":\"\"},\"baxis\":{\"gridcolor\":\"white\",\"linecolor\":\"white\",\"ticks\":\"\"},\"bgcolor\":\"#E5ECF6\",\"caxis\":{\"gridcolor\":\"white\",\"linecolor\":\"white\",\"ticks\":\"\"}},\"title\":{\"x\":0.05},\"xaxis\":{\"automargin\":true,\"gridcolor\":\"white\",\"linecolor\":\"white\",\"ticks\":\"\",\"title\":{\"standoff\":15},\"zerolinecolor\":\"white\",\"zerolinewidth\":2},\"yaxis\":{\"automargin\":true,\"gridcolor\":\"white\",\"linecolor\":\"white\",\"ticks\":\"\",\"title\":{\"standoff\":15},\"zerolinecolor\":\"white\",\"zerolinewidth\":2}}},\"xaxis\":{\"anchor\":\"y\",\"domain\":[0.0,1.0],\"title\":{\"text\":\"Total Revenue\"}},\"yaxis\":{\"anchor\":\"x\",\"domain\":[0.0,1.0],\"title\":{\"text\":\"Item\"}},\"legend\":{\"tracegroupgap\":0},\"margin\":{\"t\":60},\"barmode\":\"relative\",\"title\":{\"text\":\"Top 10 most sold items in terms of Revenue\"}},                        {\"responsive\": true}                    ).then(function(){\n",
       "                            \n",
       "var gd = document.getElementById('b3d9e996-730b-499f-8ebd-de665630d3c4');\n",
       "var x = new MutationObserver(function (mutations, observer) {{\n",
       "        var display = window.getComputedStyle(gd).display;\n",
       "        if (!display || display === 'none') {{\n",
       "            console.log([gd, 'removed!']);\n",
       "            Plotly.purge(gd);\n",
       "            observer.disconnect();\n",
       "        }}\n",
       "}});\n",
       "\n",
       "// Listen for the removal of the full notebook cells\n",
       "var notebookContainer = gd.closest('#notebook-container');\n",
       "if (notebookContainer) {{\n",
       "    x.observe(notebookContainer, {childList: true});\n",
       "}}\n",
       "\n",
       "// Listen for the clearing of the current output cell\n",
       "var outputEl = gd.closest('.output');\n",
       "if (outputEl) {{\n",
       "    x.observe(outputEl, {childList: true});\n",
       "}}\n",
       "\n",
       "                        })                };                });            </script>        </div>"
      ]
     },
     "metadata": {},
     "output_type": "display_data"
    }
   ],
   "source": [
    "top_10_revenue = orders_num_per_item.sort_values(by = 'total_revenue', ascending = False)[:10].sort_values(by = 'total_revenue')\n",
    "fig = px.bar(\n",
    "    top_10_revenue, \n",
    "    x = 'total_revenue',\n",
    "    y = 'item_name',\n",
    "    orientation = 'h',\n",
    "    labels = {'total_revenue':'Total Revenue', 'item_name':'Item'})\n",
    "fig.update_layout(title = 'Top 10 most sold items in terms of Revenue')\n",
    "\n",
    "fig.show()"
   ]
  },
  {
   "cell_type": "markdown",
   "id": "97666a40",
   "metadata": {},
   "source": [
    "We can see a few items that we saw earlier, But we can see that the number one revenue source for our website is postage. More than 200,000$ were spent on postage. Other then that, the Cakestand is the item that gives the most revenue, with the rest of the items correlate more with the top quantity list. This shows that no matter how many times an item is sold, the revenue depends on how many pieces it sold."
   ]
  },
  {
   "cell_type": "markdown",
   "id": "1ef37602",
   "metadata": {},
   "source": [
    "Let's check the items with the least amount of revenue:"
   ]
  },
  {
   "cell_type": "code",
   "execution_count": 51,
   "id": "42f76b12",
   "metadata": {},
   "outputs": [
    {
     "data": {
      "text/html": [
       "<div>                            <div id=\"6ac0257f-d33c-430a-9ca1-b3f008741c9e\" class=\"plotly-graph-div\" style=\"height:525px; width:100%;\"></div>            <script type=\"text/javascript\">                require([\"plotly\"], function(Plotly) {                    window.PLOTLYENV=window.PLOTLYENV || {};                                    if (document.getElementById(\"6ac0257f-d33c-430a-9ca1-b3f008741c9e\")) {                    Plotly.newPlot(                        \"6ac0257f-d33c-430a-9ca1-b3f008741c9e\",                        [{\"alignmentgroup\":\"True\",\"hovertemplate\":\"Total Revenue=%{x}<br>Item=%{y}<extra></extra>\",\"legendgroup\":\"\",\"marker\":{\"color\":\"#636efa\",\"pattern\":{\"shape\":\"\"}},\"name\":\"\",\"offsetgroup\":\"\",\"orientation\":\"h\",\"showlegend\":false,\"textposition\":\"auto\",\"x\":[0.003,0.42,0.65,0.8000000000000007,0.84,0.85,0.95,0.95,0.9700000000000006,1.1],\"xaxis\":\"x\",\"y\":[\"PADS TO MATCH ALL CUSHIONS\",\"HEN HOUSE W CHICK IN NEST\",\"SET 12 COLOURING PENCILS DOILEY\",\"WHITE BEADED GARLAND STRING 20LIGHT\",\"VINTAGE BLUE TINSEL REEL\",\"PINK CRYSTAL GUITAR PHONE CHARM\",\"CAT WITH SUNGLASSES BLANK CARD\",\"HAPPY BIRTHDAY CARD TEDDY/CAKE\",\"3 WICK CHRISTMAS BRIAR CANDLE \",\"60 GOLD AND SILVER FAIRY CAKE CASES\"],\"yaxis\":\"y\",\"type\":\"bar\"}],                        {\"template\":{\"data\":{\"bar\":[{\"error_x\":{\"color\":\"#2a3f5f\"},\"error_y\":{\"color\":\"#2a3f5f\"},\"marker\":{\"line\":{\"color\":\"#E5ECF6\",\"width\":0.5},\"pattern\":{\"fillmode\":\"overlay\",\"size\":10,\"solidity\":0.2}},\"type\":\"bar\"}],\"barpolar\":[{\"marker\":{\"line\":{\"color\":\"#E5ECF6\",\"width\":0.5},\"pattern\":{\"fillmode\":\"overlay\",\"size\":10,\"solidity\":0.2}},\"type\":\"barpolar\"}],\"carpet\":[{\"aaxis\":{\"endlinecolor\":\"#2a3f5f\",\"gridcolor\":\"white\",\"linecolor\":\"white\",\"minorgridcolor\":\"white\",\"startlinecolor\":\"#2a3f5f\"},\"baxis\":{\"endlinecolor\":\"#2a3f5f\",\"gridcolor\":\"white\",\"linecolor\":\"white\",\"minorgridcolor\":\"white\",\"startlinecolor\":\"#2a3f5f\"},\"type\":\"carpet\"}],\"choropleth\":[{\"colorbar\":{\"outlinewidth\":0,\"ticks\":\"\"},\"type\":\"choropleth\"}],\"contour\":[{\"colorbar\":{\"outlinewidth\":0,\"ticks\":\"\"},\"colorscale\":[[0.0,\"#0d0887\"],[0.1111111111111111,\"#46039f\"],[0.2222222222222222,\"#7201a8\"],[0.3333333333333333,\"#9c179e\"],[0.4444444444444444,\"#bd3786\"],[0.5555555555555556,\"#d8576b\"],[0.6666666666666666,\"#ed7953\"],[0.7777777777777778,\"#fb9f3a\"],[0.8888888888888888,\"#fdca26\"],[1.0,\"#f0f921\"]],\"type\":\"contour\"}],\"contourcarpet\":[{\"colorbar\":{\"outlinewidth\":0,\"ticks\":\"\"},\"type\":\"contourcarpet\"}],\"heatmap\":[{\"colorbar\":{\"outlinewidth\":0,\"ticks\":\"\"},\"colorscale\":[[0.0,\"#0d0887\"],[0.1111111111111111,\"#46039f\"],[0.2222222222222222,\"#7201a8\"],[0.3333333333333333,\"#9c179e\"],[0.4444444444444444,\"#bd3786\"],[0.5555555555555556,\"#d8576b\"],[0.6666666666666666,\"#ed7953\"],[0.7777777777777778,\"#fb9f3a\"],[0.8888888888888888,\"#fdca26\"],[1.0,\"#f0f921\"]],\"type\":\"heatmap\"}],\"heatmapgl\":[{\"colorbar\":{\"outlinewidth\":0,\"ticks\":\"\"},\"colorscale\":[[0.0,\"#0d0887\"],[0.1111111111111111,\"#46039f\"],[0.2222222222222222,\"#7201a8\"],[0.3333333333333333,\"#9c179e\"],[0.4444444444444444,\"#bd3786\"],[0.5555555555555556,\"#d8576b\"],[0.6666666666666666,\"#ed7953\"],[0.7777777777777778,\"#fb9f3a\"],[0.8888888888888888,\"#fdca26\"],[1.0,\"#f0f921\"]],\"type\":\"heatmapgl\"}],\"histogram\":[{\"marker\":{\"pattern\":{\"fillmode\":\"overlay\",\"size\":10,\"solidity\":0.2}},\"type\":\"histogram\"}],\"histogram2d\":[{\"colorbar\":{\"outlinewidth\":0,\"ticks\":\"\"},\"colorscale\":[[0.0,\"#0d0887\"],[0.1111111111111111,\"#46039f\"],[0.2222222222222222,\"#7201a8\"],[0.3333333333333333,\"#9c179e\"],[0.4444444444444444,\"#bd3786\"],[0.5555555555555556,\"#d8576b\"],[0.6666666666666666,\"#ed7953\"],[0.7777777777777778,\"#fb9f3a\"],[0.8888888888888888,\"#fdca26\"],[1.0,\"#f0f921\"]],\"type\":\"histogram2d\"}],\"histogram2dcontour\":[{\"colorbar\":{\"outlinewidth\":0,\"ticks\":\"\"},\"colorscale\":[[0.0,\"#0d0887\"],[0.1111111111111111,\"#46039f\"],[0.2222222222222222,\"#7201a8\"],[0.3333333333333333,\"#9c179e\"],[0.4444444444444444,\"#bd3786\"],[0.5555555555555556,\"#d8576b\"],[0.6666666666666666,\"#ed7953\"],[0.7777777777777778,\"#fb9f3a\"],[0.8888888888888888,\"#fdca26\"],[1.0,\"#f0f921\"]],\"type\":\"histogram2dcontour\"}],\"mesh3d\":[{\"colorbar\":{\"outlinewidth\":0,\"ticks\":\"\"},\"type\":\"mesh3d\"}],\"parcoords\":[{\"line\":{\"colorbar\":{\"outlinewidth\":0,\"ticks\":\"\"}},\"type\":\"parcoords\"}],\"pie\":[{\"automargin\":true,\"type\":\"pie\"}],\"scatter\":[{\"marker\":{\"colorbar\":{\"outlinewidth\":0,\"ticks\":\"\"}},\"type\":\"scatter\"}],\"scatter3d\":[{\"line\":{\"colorbar\":{\"outlinewidth\":0,\"ticks\":\"\"}},\"marker\":{\"colorbar\":{\"outlinewidth\":0,\"ticks\":\"\"}},\"type\":\"scatter3d\"}],\"scattercarpet\":[{\"marker\":{\"colorbar\":{\"outlinewidth\":0,\"ticks\":\"\"}},\"type\":\"scattercarpet\"}],\"scattergeo\":[{\"marker\":{\"colorbar\":{\"outlinewidth\":0,\"ticks\":\"\"}},\"type\":\"scattergeo\"}],\"scattergl\":[{\"marker\":{\"colorbar\":{\"outlinewidth\":0,\"ticks\":\"\"}},\"type\":\"scattergl\"}],\"scattermapbox\":[{\"marker\":{\"colorbar\":{\"outlinewidth\":0,\"ticks\":\"\"}},\"type\":\"scattermapbox\"}],\"scatterpolar\":[{\"marker\":{\"colorbar\":{\"outlinewidth\":0,\"ticks\":\"\"}},\"type\":\"scatterpolar\"}],\"scatterpolargl\":[{\"marker\":{\"colorbar\":{\"outlinewidth\":0,\"ticks\":\"\"}},\"type\":\"scatterpolargl\"}],\"scatterternary\":[{\"marker\":{\"colorbar\":{\"outlinewidth\":0,\"ticks\":\"\"}},\"type\":\"scatterternary\"}],\"surface\":[{\"colorbar\":{\"outlinewidth\":0,\"ticks\":\"\"},\"colorscale\":[[0.0,\"#0d0887\"],[0.1111111111111111,\"#46039f\"],[0.2222222222222222,\"#7201a8\"],[0.3333333333333333,\"#9c179e\"],[0.4444444444444444,\"#bd3786\"],[0.5555555555555556,\"#d8576b\"],[0.6666666666666666,\"#ed7953\"],[0.7777777777777778,\"#fb9f3a\"],[0.8888888888888888,\"#fdca26\"],[1.0,\"#f0f921\"]],\"type\":\"surface\"}],\"table\":[{\"cells\":{\"fill\":{\"color\":\"#EBF0F8\"},\"line\":{\"color\":\"white\"}},\"header\":{\"fill\":{\"color\":\"#C8D4E3\"},\"line\":{\"color\":\"white\"}},\"type\":\"table\"}]},\"layout\":{\"annotationdefaults\":{\"arrowcolor\":\"#2a3f5f\",\"arrowhead\":0,\"arrowwidth\":1},\"autotypenumbers\":\"strict\",\"coloraxis\":{\"colorbar\":{\"outlinewidth\":0,\"ticks\":\"\"}},\"colorscale\":{\"diverging\":[[0,\"#8e0152\"],[0.1,\"#c51b7d\"],[0.2,\"#de77ae\"],[0.3,\"#f1b6da\"],[0.4,\"#fde0ef\"],[0.5,\"#f7f7f7\"],[0.6,\"#e6f5d0\"],[0.7,\"#b8e186\"],[0.8,\"#7fbc41\"],[0.9,\"#4d9221\"],[1,\"#276419\"]],\"sequential\":[[0.0,\"#0d0887\"],[0.1111111111111111,\"#46039f\"],[0.2222222222222222,\"#7201a8\"],[0.3333333333333333,\"#9c179e\"],[0.4444444444444444,\"#bd3786\"],[0.5555555555555556,\"#d8576b\"],[0.6666666666666666,\"#ed7953\"],[0.7777777777777778,\"#fb9f3a\"],[0.8888888888888888,\"#fdca26\"],[1.0,\"#f0f921\"]],\"sequentialminus\":[[0.0,\"#0d0887\"],[0.1111111111111111,\"#46039f\"],[0.2222222222222222,\"#7201a8\"],[0.3333333333333333,\"#9c179e\"],[0.4444444444444444,\"#bd3786\"],[0.5555555555555556,\"#d8576b\"],[0.6666666666666666,\"#ed7953\"],[0.7777777777777778,\"#fb9f3a\"],[0.8888888888888888,\"#fdca26\"],[1.0,\"#f0f921\"]]},\"colorway\":[\"#636efa\",\"#EF553B\",\"#00cc96\",\"#ab63fa\",\"#FFA15A\",\"#19d3f3\",\"#FF6692\",\"#B6E880\",\"#FF97FF\",\"#FECB52\"],\"font\":{\"color\":\"#2a3f5f\"},\"geo\":{\"bgcolor\":\"white\",\"lakecolor\":\"white\",\"landcolor\":\"#E5ECF6\",\"showlakes\":true,\"showland\":true,\"subunitcolor\":\"white\"},\"hoverlabel\":{\"align\":\"left\"},\"hovermode\":\"closest\",\"mapbox\":{\"style\":\"light\"},\"paper_bgcolor\":\"white\",\"plot_bgcolor\":\"#E5ECF6\",\"polar\":{\"angularaxis\":{\"gridcolor\":\"white\",\"linecolor\":\"white\",\"ticks\":\"\"},\"bgcolor\":\"#E5ECF6\",\"radialaxis\":{\"gridcolor\":\"white\",\"linecolor\":\"white\",\"ticks\":\"\"}},\"scene\":{\"xaxis\":{\"backgroundcolor\":\"#E5ECF6\",\"gridcolor\":\"white\",\"gridwidth\":2,\"linecolor\":\"white\",\"showbackground\":true,\"ticks\":\"\",\"zerolinecolor\":\"white\"},\"yaxis\":{\"backgroundcolor\":\"#E5ECF6\",\"gridcolor\":\"white\",\"gridwidth\":2,\"linecolor\":\"white\",\"showbackground\":true,\"ticks\":\"\",\"zerolinecolor\":\"white\"},\"zaxis\":{\"backgroundcolor\":\"#E5ECF6\",\"gridcolor\":\"white\",\"gridwidth\":2,\"linecolor\":\"white\",\"showbackground\":true,\"ticks\":\"\",\"zerolinecolor\":\"white\"}},\"shapedefaults\":{\"line\":{\"color\":\"#2a3f5f\"}},\"ternary\":{\"aaxis\":{\"gridcolor\":\"white\",\"linecolor\":\"white\",\"ticks\":\"\"},\"baxis\":{\"gridcolor\":\"white\",\"linecolor\":\"white\",\"ticks\":\"\"},\"bgcolor\":\"#E5ECF6\",\"caxis\":{\"gridcolor\":\"white\",\"linecolor\":\"white\",\"ticks\":\"\"}},\"title\":{\"x\":0.05},\"xaxis\":{\"automargin\":true,\"gridcolor\":\"white\",\"linecolor\":\"white\",\"ticks\":\"\",\"title\":{\"standoff\":15},\"zerolinecolor\":\"white\",\"zerolinewidth\":2},\"yaxis\":{\"automargin\":true,\"gridcolor\":\"white\",\"linecolor\":\"white\",\"ticks\":\"\",\"title\":{\"standoff\":15},\"zerolinecolor\":\"white\",\"zerolinewidth\":2}}},\"xaxis\":{\"anchor\":\"y\",\"domain\":[0.0,1.0],\"title\":{\"text\":\"Total Revenue\"},\"range\":[0,1.1]},\"yaxis\":{\"anchor\":\"x\",\"domain\":[0.0,1.0],\"title\":{\"text\":\"Item\"}},\"legend\":{\"tracegroupgap\":0},\"margin\":{\"t\":60},\"barmode\":\"relative\",\"title\":{\"text\":\"Bottom 10 most sold items in terms of Revenue\"}},                        {\"responsive\": true}                    ).then(function(){\n",
       "                            \n",
       "var gd = document.getElementById('6ac0257f-d33c-430a-9ca1-b3f008741c9e');\n",
       "var x = new MutationObserver(function (mutations, observer) {{\n",
       "        var display = window.getComputedStyle(gd).display;\n",
       "        if (!display || display === 'none') {{\n",
       "            console.log([gd, 'removed!']);\n",
       "            Plotly.purge(gd);\n",
       "            observer.disconnect();\n",
       "        }}\n",
       "}});\n",
       "\n",
       "// Listen for the removal of the full notebook cells\n",
       "var notebookContainer = gd.closest('#notebook-container');\n",
       "if (notebookContainer) {{\n",
       "    x.observe(notebookContainer, {childList: true});\n",
       "}}\n",
       "\n",
       "// Listen for the clearing of the current output cell\n",
       "var outputEl = gd.closest('.output');\n",
       "if (outputEl) {{\n",
       "    x.observe(outputEl, {childList: true});\n",
       "}}\n",
       "\n",
       "                        })                };                });            </script>        </div>"
      ]
     },
     "metadata": {},
     "output_type": "display_data"
    }
   ],
   "source": [
    "bottom_10_revenue = orders_num_per_item.sort_values(by = 'total_revenue').query('total_revenue > 0')[:10]\n",
    "fig = px.bar(\n",
    "    bottom_10_revenue, \n",
    "    x = 'total_revenue',\n",
    "    y = 'item_name',\n",
    "    orientation = 'h',\n",
    "    labels = {'total_revenue':'Total Revenue', 'item_name':'Item'})\n",
    "fig.update_layout(title = 'Bottom 10 most sold items in terms of Revenue')\n",
    "fig.update_xaxes(range = (0,max(bottom_10_revenue['total_revenue'])))\n",
    "fig.show()"
   ]
  },
  {
   "cell_type": "markdown",
   "id": "f57d8d06",
   "metadata": {},
   "source": [
    "So we see these are the cheapest items that were ordered once. Nothing in common about these items."
   ]
  },
  {
   "cell_type": "markdown",
   "id": "f23166ed",
   "metadata": {},
   "source": [
    "Let's check if some items sell more on different months. First, Let's check which months sold the most. To do that, Let's check our date range of our data:"
   ]
  },
  {
   "cell_type": "code",
   "execution_count": 52,
   "id": "d2bb4bee",
   "metadata": {},
   "outputs": [
    {
     "data": {
      "text/plain": [
       "Timestamp('2018-11-29 08:26:00')"
      ]
     },
     "execution_count": 52,
     "metadata": {},
     "output_type": "execute_result"
    }
   ],
   "source": [
    "sales['datetime'].min()"
   ]
  },
  {
   "cell_type": "code",
   "execution_count": 53,
   "id": "e4e2111e",
   "metadata": {},
   "outputs": [
    {
     "data": {
      "text/plain": [
       "Timestamp('2019-12-07 12:50:00')"
      ]
     },
     "execution_count": 53,
     "metadata": {},
     "output_type": "execute_result"
    }
   ],
   "source": [
    "sales['datetime'].max()"
   ]
  },
  {
   "cell_type": "markdown",
   "id": "9d271b56",
   "metadata": {},
   "source": [
    "We can see our data ranges from the 29/11/2018 to the 07/12/19. This means we should take these months out of our equasion, since they are not full months:"
   ]
  },
  {
   "cell_type": "code",
   "execution_count": 54,
   "id": "c9cfd59c",
   "metadata": {},
   "outputs": [
    {
     "data": {
      "text/html": [
       "<div>                            <div id=\"5afa06ef-02cb-4d9e-9dd6-ee57dc1e7046\" class=\"plotly-graph-div\" style=\"height:525px; width:100%;\"></div>            <script type=\"text/javascript\">                require([\"plotly\"], function(Plotly) {                    window.PLOTLYENV=window.PLOTLYENV || {};                                    if (document.getElementById(\"5afa06ef-02cb-4d9e-9dd6-ee57dc1e7046\")) {                    Plotly.newPlot(                        \"5afa06ef-02cb-4d9e-9dd6-ee57dc1e7046\",                        [{\"hovertemplate\":\"Month=%{x}<br>Number Of Orders=%{y}<extra></extra>\",\"legendgroup\":\"\",\"line\":{\"color\":\"#636efa\",\"dash\":\"solid\"},\"marker\":{\"symbol\":\"circle\"},\"mode\":\"lines\",\"name\":\"\",\"orientation\":\"v\",\"showlegend\":false,\"x\":[\"2018-11\",\"2018-12\",\"2019-01\",\"2019-02\",\"2019-03\",\"2019-04\",\"2019-05\",\"2019-06\",\"2019-07\",\"2019-08\",\"2019-09\",\"2019-10\",\"2019-11\",\"2019-12\"],\"xaxis\":\"x\",\"y\":[298,1587,1493,1303,1728,1420,2115,1781,1791,1701,2038,2560,3314,667],\"yaxis\":\"y\",\"type\":\"scatter\"}],                        {\"template\":{\"data\":{\"bar\":[{\"error_x\":{\"color\":\"#2a3f5f\"},\"error_y\":{\"color\":\"#2a3f5f\"},\"marker\":{\"line\":{\"color\":\"#E5ECF6\",\"width\":0.5},\"pattern\":{\"fillmode\":\"overlay\",\"size\":10,\"solidity\":0.2}},\"type\":\"bar\"}],\"barpolar\":[{\"marker\":{\"line\":{\"color\":\"#E5ECF6\",\"width\":0.5},\"pattern\":{\"fillmode\":\"overlay\",\"size\":10,\"solidity\":0.2}},\"type\":\"barpolar\"}],\"carpet\":[{\"aaxis\":{\"endlinecolor\":\"#2a3f5f\",\"gridcolor\":\"white\",\"linecolor\":\"white\",\"minorgridcolor\":\"white\",\"startlinecolor\":\"#2a3f5f\"},\"baxis\":{\"endlinecolor\":\"#2a3f5f\",\"gridcolor\":\"white\",\"linecolor\":\"white\",\"minorgridcolor\":\"white\",\"startlinecolor\":\"#2a3f5f\"},\"type\":\"carpet\"}],\"choropleth\":[{\"colorbar\":{\"outlinewidth\":0,\"ticks\":\"\"},\"type\":\"choropleth\"}],\"contour\":[{\"colorbar\":{\"outlinewidth\":0,\"ticks\":\"\"},\"colorscale\":[[0.0,\"#0d0887\"],[0.1111111111111111,\"#46039f\"],[0.2222222222222222,\"#7201a8\"],[0.3333333333333333,\"#9c179e\"],[0.4444444444444444,\"#bd3786\"],[0.5555555555555556,\"#d8576b\"],[0.6666666666666666,\"#ed7953\"],[0.7777777777777778,\"#fb9f3a\"],[0.8888888888888888,\"#fdca26\"],[1.0,\"#f0f921\"]],\"type\":\"contour\"}],\"contourcarpet\":[{\"colorbar\":{\"outlinewidth\":0,\"ticks\":\"\"},\"type\":\"contourcarpet\"}],\"heatmap\":[{\"colorbar\":{\"outlinewidth\":0,\"ticks\":\"\"},\"colorscale\":[[0.0,\"#0d0887\"],[0.1111111111111111,\"#46039f\"],[0.2222222222222222,\"#7201a8\"],[0.3333333333333333,\"#9c179e\"],[0.4444444444444444,\"#bd3786\"],[0.5555555555555556,\"#d8576b\"],[0.6666666666666666,\"#ed7953\"],[0.7777777777777778,\"#fb9f3a\"],[0.8888888888888888,\"#fdca26\"],[1.0,\"#f0f921\"]],\"type\":\"heatmap\"}],\"heatmapgl\":[{\"colorbar\":{\"outlinewidth\":0,\"ticks\":\"\"},\"colorscale\":[[0.0,\"#0d0887\"],[0.1111111111111111,\"#46039f\"],[0.2222222222222222,\"#7201a8\"],[0.3333333333333333,\"#9c179e\"],[0.4444444444444444,\"#bd3786\"],[0.5555555555555556,\"#d8576b\"],[0.6666666666666666,\"#ed7953\"],[0.7777777777777778,\"#fb9f3a\"],[0.8888888888888888,\"#fdca26\"],[1.0,\"#f0f921\"]],\"type\":\"heatmapgl\"}],\"histogram\":[{\"marker\":{\"pattern\":{\"fillmode\":\"overlay\",\"size\":10,\"solidity\":0.2}},\"type\":\"histogram\"}],\"histogram2d\":[{\"colorbar\":{\"outlinewidth\":0,\"ticks\":\"\"},\"colorscale\":[[0.0,\"#0d0887\"],[0.1111111111111111,\"#46039f\"],[0.2222222222222222,\"#7201a8\"],[0.3333333333333333,\"#9c179e\"],[0.4444444444444444,\"#bd3786\"],[0.5555555555555556,\"#d8576b\"],[0.6666666666666666,\"#ed7953\"],[0.7777777777777778,\"#fb9f3a\"],[0.8888888888888888,\"#fdca26\"],[1.0,\"#f0f921\"]],\"type\":\"histogram2d\"}],\"histogram2dcontour\":[{\"colorbar\":{\"outlinewidth\":0,\"ticks\":\"\"},\"colorscale\":[[0.0,\"#0d0887\"],[0.1111111111111111,\"#46039f\"],[0.2222222222222222,\"#7201a8\"],[0.3333333333333333,\"#9c179e\"],[0.4444444444444444,\"#bd3786\"],[0.5555555555555556,\"#d8576b\"],[0.6666666666666666,\"#ed7953\"],[0.7777777777777778,\"#fb9f3a\"],[0.8888888888888888,\"#fdca26\"],[1.0,\"#f0f921\"]],\"type\":\"histogram2dcontour\"}],\"mesh3d\":[{\"colorbar\":{\"outlinewidth\":0,\"ticks\":\"\"},\"type\":\"mesh3d\"}],\"parcoords\":[{\"line\":{\"colorbar\":{\"outlinewidth\":0,\"ticks\":\"\"}},\"type\":\"parcoords\"}],\"pie\":[{\"automargin\":true,\"type\":\"pie\"}],\"scatter\":[{\"marker\":{\"colorbar\":{\"outlinewidth\":0,\"ticks\":\"\"}},\"type\":\"scatter\"}],\"scatter3d\":[{\"line\":{\"colorbar\":{\"outlinewidth\":0,\"ticks\":\"\"}},\"marker\":{\"colorbar\":{\"outlinewidth\":0,\"ticks\":\"\"}},\"type\":\"scatter3d\"}],\"scattercarpet\":[{\"marker\":{\"colorbar\":{\"outlinewidth\":0,\"ticks\":\"\"}},\"type\":\"scattercarpet\"}],\"scattergeo\":[{\"marker\":{\"colorbar\":{\"outlinewidth\":0,\"ticks\":\"\"}},\"type\":\"scattergeo\"}],\"scattergl\":[{\"marker\":{\"colorbar\":{\"outlinewidth\":0,\"ticks\":\"\"}},\"type\":\"scattergl\"}],\"scattermapbox\":[{\"marker\":{\"colorbar\":{\"outlinewidth\":0,\"ticks\":\"\"}},\"type\":\"scattermapbox\"}],\"scatterpolar\":[{\"marker\":{\"colorbar\":{\"outlinewidth\":0,\"ticks\":\"\"}},\"type\":\"scatterpolar\"}],\"scatterpolargl\":[{\"marker\":{\"colorbar\":{\"outlinewidth\":0,\"ticks\":\"\"}},\"type\":\"scatterpolargl\"}],\"scatterternary\":[{\"marker\":{\"colorbar\":{\"outlinewidth\":0,\"ticks\":\"\"}},\"type\":\"scatterternary\"}],\"surface\":[{\"colorbar\":{\"outlinewidth\":0,\"ticks\":\"\"},\"colorscale\":[[0.0,\"#0d0887\"],[0.1111111111111111,\"#46039f\"],[0.2222222222222222,\"#7201a8\"],[0.3333333333333333,\"#9c179e\"],[0.4444444444444444,\"#bd3786\"],[0.5555555555555556,\"#d8576b\"],[0.6666666666666666,\"#ed7953\"],[0.7777777777777778,\"#fb9f3a\"],[0.8888888888888888,\"#fdca26\"],[1.0,\"#f0f921\"]],\"type\":\"surface\"}],\"table\":[{\"cells\":{\"fill\":{\"color\":\"#EBF0F8\"},\"line\":{\"color\":\"white\"}},\"header\":{\"fill\":{\"color\":\"#C8D4E3\"},\"line\":{\"color\":\"white\"}},\"type\":\"table\"}]},\"layout\":{\"annotationdefaults\":{\"arrowcolor\":\"#2a3f5f\",\"arrowhead\":0,\"arrowwidth\":1},\"autotypenumbers\":\"strict\",\"coloraxis\":{\"colorbar\":{\"outlinewidth\":0,\"ticks\":\"\"}},\"colorscale\":{\"diverging\":[[0,\"#8e0152\"],[0.1,\"#c51b7d\"],[0.2,\"#de77ae\"],[0.3,\"#f1b6da\"],[0.4,\"#fde0ef\"],[0.5,\"#f7f7f7\"],[0.6,\"#e6f5d0\"],[0.7,\"#b8e186\"],[0.8,\"#7fbc41\"],[0.9,\"#4d9221\"],[1,\"#276419\"]],\"sequential\":[[0.0,\"#0d0887\"],[0.1111111111111111,\"#46039f\"],[0.2222222222222222,\"#7201a8\"],[0.3333333333333333,\"#9c179e\"],[0.4444444444444444,\"#bd3786\"],[0.5555555555555556,\"#d8576b\"],[0.6666666666666666,\"#ed7953\"],[0.7777777777777778,\"#fb9f3a\"],[0.8888888888888888,\"#fdca26\"],[1.0,\"#f0f921\"]],\"sequentialminus\":[[0.0,\"#0d0887\"],[0.1111111111111111,\"#46039f\"],[0.2222222222222222,\"#7201a8\"],[0.3333333333333333,\"#9c179e\"],[0.4444444444444444,\"#bd3786\"],[0.5555555555555556,\"#d8576b\"],[0.6666666666666666,\"#ed7953\"],[0.7777777777777778,\"#fb9f3a\"],[0.8888888888888888,\"#fdca26\"],[1.0,\"#f0f921\"]]},\"colorway\":[\"#636efa\",\"#EF553B\",\"#00cc96\",\"#ab63fa\",\"#FFA15A\",\"#19d3f3\",\"#FF6692\",\"#B6E880\",\"#FF97FF\",\"#FECB52\"],\"font\":{\"color\":\"#2a3f5f\"},\"geo\":{\"bgcolor\":\"white\",\"lakecolor\":\"white\",\"landcolor\":\"#E5ECF6\",\"showlakes\":true,\"showland\":true,\"subunitcolor\":\"white\"},\"hoverlabel\":{\"align\":\"left\"},\"hovermode\":\"closest\",\"mapbox\":{\"style\":\"light\"},\"paper_bgcolor\":\"white\",\"plot_bgcolor\":\"#E5ECF6\",\"polar\":{\"angularaxis\":{\"gridcolor\":\"white\",\"linecolor\":\"white\",\"ticks\":\"\"},\"bgcolor\":\"#E5ECF6\",\"radialaxis\":{\"gridcolor\":\"white\",\"linecolor\":\"white\",\"ticks\":\"\"}},\"scene\":{\"xaxis\":{\"backgroundcolor\":\"#E5ECF6\",\"gridcolor\":\"white\",\"gridwidth\":2,\"linecolor\":\"white\",\"showbackground\":true,\"ticks\":\"\",\"zerolinecolor\":\"white\"},\"yaxis\":{\"backgroundcolor\":\"#E5ECF6\",\"gridcolor\":\"white\",\"gridwidth\":2,\"linecolor\":\"white\",\"showbackground\":true,\"ticks\":\"\",\"zerolinecolor\":\"white\"},\"zaxis\":{\"backgroundcolor\":\"#E5ECF6\",\"gridcolor\":\"white\",\"gridwidth\":2,\"linecolor\":\"white\",\"showbackground\":true,\"ticks\":\"\",\"zerolinecolor\":\"white\"}},\"shapedefaults\":{\"line\":{\"color\":\"#2a3f5f\"}},\"ternary\":{\"aaxis\":{\"gridcolor\":\"white\",\"linecolor\":\"white\",\"ticks\":\"\"},\"baxis\":{\"gridcolor\":\"white\",\"linecolor\":\"white\",\"ticks\":\"\"},\"bgcolor\":\"#E5ECF6\",\"caxis\":{\"gridcolor\":\"white\",\"linecolor\":\"white\",\"ticks\":\"\"}},\"title\":{\"x\":0.05},\"xaxis\":{\"automargin\":true,\"gridcolor\":\"white\",\"linecolor\":\"white\",\"ticks\":\"\",\"title\":{\"standoff\":15},\"zerolinecolor\":\"white\",\"zerolinewidth\":2},\"yaxis\":{\"automargin\":true,\"gridcolor\":\"white\",\"linecolor\":\"white\",\"ticks\":\"\",\"title\":{\"standoff\":15},\"zerolinecolor\":\"white\",\"zerolinewidth\":2}}},\"xaxis\":{\"anchor\":\"y\",\"domain\":[0.0,1.0],\"title\":{\"text\":\"Month\"},\"range\":[\"2018-12-01\",\"2019-11-01\"]},\"yaxis\":{\"anchor\":\"x\",\"domain\":[0.0,1.0],\"title\":{\"text\":\"Number Of Orders\"}},\"legend\":{\"tracegroupgap\":0},\"title\":{\"text\":\"Orders per Time\"}},                        {\"responsive\": true}                    ).then(function(){\n",
       "                            \n",
       "var gd = document.getElementById('5afa06ef-02cb-4d9e-9dd6-ee57dc1e7046');\n",
       "var x = new MutationObserver(function (mutations, observer) {{\n",
       "        var display = window.getComputedStyle(gd).display;\n",
       "        if (!display || display === 'none') {{\n",
       "            console.log([gd, 'removed!']);\n",
       "            Plotly.purge(gd);\n",
       "            observer.disconnect();\n",
       "        }}\n",
       "}});\n",
       "\n",
       "// Listen for the removal of the full notebook cells\n",
       "var notebookContainer = gd.closest('#notebook-container');\n",
       "if (notebookContainer) {{\n",
       "    x.observe(notebookContainer, {childList: true});\n",
       "}}\n",
       "\n",
       "// Listen for the clearing of the current output cell\n",
       "var outputEl = gd.closest('.output');\n",
       "if (outputEl) {{\n",
       "    x.observe(outputEl, {childList: true});\n",
       "}}\n",
       "\n",
       "                        })                };                });            </script>        </div>"
      ]
     },
     "metadata": {},
     "output_type": "display_data"
    }
   ],
   "source": [
    "items_per_months = sales.groupby(['month']).agg({'order_id':'nunique'}).reset_index()\n",
    "items_per_months.columns = ['month','number_of_orders']\n",
    "fig = px.line(items_per_months,\n",
    "              x = 'month',\n",
    "              y = 'number_of_orders',\n",
    "              title = 'Orders per Time',\n",
    "              labels ={'month':'Month','number_of_orders':'Number Of Orders'})\n",
    "fig.update_xaxes(range = ['2018-12-01','2019-11-01'])\n",
    "fig.show()"
   ]
  },
  {
   "cell_type": "markdown",
   "id": "9a0b2536",
   "metadata": {},
   "source": [
    "We have data here for the whole year. We can see that the climax of our orders is in September-November, with the climax being November with nearly 3000 orders that month. The worst period is the period just after that, December-Febuary, with Febuary recording just above 1000 orders. This makes sense. October and November are the months of big discounts. This might be the reason for people buying in these months."
   ]
  },
  {
   "cell_type": "markdown",
   "id": "b524659a",
   "metadata": {},
   "source": [
    "Let's check the amount of orders for certain products. We would think that Christmas products will sell more around the time of christmas. Let's check that:"
   ]
  },
  {
   "cell_type": "code",
   "execution_count": null,
   "id": "229adcf2",
   "metadata": {},
   "outputs": [],
   "source": [
    "christmas_products = pd.DataFrame()\n",
    "for i in sales.index:\n",
    "    for w in sales['item_name'][i].split(' '):\n",
    "        if w == 'CHRISTMAS':\n",
    "            christmas_products = christmas_products.append(sales.loc[i])"
   ]
  },
  {
   "cell_type": "code",
   "execution_count": null,
   "id": "85fe2e42",
   "metadata": {},
   "outputs": [],
   "source": [
    "christmas_products.head(10)"
   ]
  },
  {
   "cell_type": "markdown",
   "id": "43970458",
   "metadata": {},
   "source": [
    "Great! Let's check their distribution over time:"
   ]
  },
  {
   "cell_type": "code",
   "execution_count": null,
   "id": "b22fa4c6",
   "metadata": {},
   "outputs": [],
   "source": [
    "christmas_items_per_months = christmas_products.groupby(['month']).agg({'order_id':'nunique'}).reset_index()\n",
    "christmas_items_per_months.columns = ['month','number_of_orders']\n",
    "fig = px.line(christmas_items_per_months,\n",
    "              x = 'month',\n",
    "              y = 'number_of_orders',\n",
    "              title = 'Orders per Time for Christmas products',\n",
    "              labels ={'month':'Month','number_of_orders':'Number Of Orders'})\n",
    "fig.update_xaxes(range = ['2018-12-01','2019-11-01'])\n",
    "fig.show()"
   ]
  },
  {
   "cell_type": "markdown",
   "id": "7e8279a2",
   "metadata": {},
   "source": [
    "We can see here that our theory was right: People buy seasonal items closer to the season. We can see that from January until September, these items were not ordered much. But from September to December, their sales increase significantly. It is still unusual that November had a lot more orders than December. Maybe the shiping time is long, or the marketing team did something better in 2019."
   ]
  },
  {
   "cell_type": "markdown",
   "id": "2a65adc7",
   "metadata": {},
   "source": [
    "Let's check if there are any items customers came back to buy. In order to do that, Let's filter our sales data to data that dosent have any null customer id's:"
   ]
  },
  {
   "cell_type": "code",
   "execution_count": null,
   "id": "4a6e534a",
   "metadata": {},
   "outputs": [],
   "source": [
    "filtered_sales = sales.dropna()"
   ]
  },
  {
   "cell_type": "markdown",
   "id": "78043fd2",
   "metadata": {},
   "source": [
    "Now, Let's group the data by customer id:"
   ]
  },
  {
   "cell_type": "code",
   "execution_count": null,
   "id": "046d73a0",
   "metadata": {},
   "outputs": [],
   "source": [
    "returning_customers = filtered_sales.groupby(['customer_id','item_name']).agg({'item_code':'count'}).reset_index()\n",
    "returning_customers.columns = ['customer_id','item_name','number_of_times_ordered']\n",
    "returning_customers.head()"
   ]
  },
  {
   "cell_type": "markdown",
   "id": "a65797be",
   "metadata": {},
   "source": [
    "Now we need to filter all the items that have only 1:"
   ]
  },
  {
   "cell_type": "code",
   "execution_count": null,
   "id": "e90ed19b",
   "metadata": {},
   "outputs": [],
   "source": [
    "returning_customers = returning_customers.loc[returning_customers['number_of_times_ordered'] > 1]"
   ]
  },
  {
   "cell_type": "markdown",
   "id": "a33cad8b",
   "metadata": {},
   "source": [
    "Now, we can check the items that apper most:"
   ]
  },
  {
   "cell_type": "code",
   "execution_count": null,
   "id": "bc5a9a1f",
   "metadata": {},
   "outputs": [],
   "source": [
    "top10_returning_items = returning_customers['item_name'].value_counts().sort_values(ascending = False)[:10]\n",
    "f, ax = plt.subplots(figsize=(10, 10))\n",
    "sns.barplot(x = top10_returning_items.values,y = top10_returning_items.index)\n",
    "plt.title('Top 10 Items that were bought multiple times by same customer')\n",
    "plt.xlabel('Number of Times Customers returned to buy this item')\n",
    "plt.ylabel('Item')\n",
    "plt.show()"
   ]
  },
  {
   "cell_type": "markdown",
   "id": "2a426b8f",
   "metadata": {},
   "source": [
    "We can see that this chart is excatly like the chart with items with the most orders. This shows us someting important: These items were bought by the same customers multiple times. This is vital information for reccomendation systems."
   ]
  },
  {
   "cell_type": "markdown",
   "id": "e11435e1",
   "metadata": {},
   "source": [
    "Let's check if people tend to buy cheaper items:"
   ]
  },
  {
   "cell_type": "code",
   "execution_count": null,
   "id": "ddb71c02",
   "metadata": {},
   "outputs": [],
   "source": [
    "items = items[['item_name','price_category']]\n",
    "sales = sales.merge(items, on = 'item_name', how = 'left')"
   ]
  },
  {
   "cell_type": "code",
   "execution_count": null,
   "id": "82e81b3f",
   "metadata": {},
   "outputs": [],
   "source": [
    "pie_chart = sales.groupby('price_category').agg({'order_id':'nunique'})\n",
    "fig = go.Figure(data = [go.Pie( \n",
    "    labels = pie_chart.sort_values(by = 'order_id').index,\n",
    "    values = pie_chart.sort_values(by = 'order_id')['order_id'])])\n",
    "fig.update_layout(title = 'Number of Orders per Price Category')\n",
    "fig.show()"
   ]
  },
  {
   "cell_type": "markdown",
   "id": "61c692a4",
   "metadata": {},
   "source": [
    "We can see the data is distributed quite evenly between the 5 groups, but when we compare the expensive to the cheap prices, We'll see there is more than 10% difference in the number of orders that contain expensive products."
   ]
  },
  {
   "cell_type": "code",
   "execution_count": null,
   "id": "14494249",
   "metadata": {},
   "outputs": [],
   "source": [
    "pie_chart_1 = sales.groupby('price_category').agg({'quantity':'sum'}).reset_index()\n",
    "fig = go.Figure(data = [go.Pie( \n",
    "    labels = pie_chart_1.sort_values(by = 'quantity')['price_category'],\n",
    "    values = pie_chart_1.sort_values(by = 'quantity')['quantity'])])\n",
    "fig.update_layout(title = 'Sales per Price Category')\n",
    "fig.show()"
   ]
  },
  {
   "cell_type": "markdown",
   "id": "4d97007a",
   "metadata": {},
   "source": [
    "We see that as opposed to sales, Item's that are cheaper are bought in much bigger quantites. This makes sense, Because cheaper things are often smaller, therefore you need a lot from them."
   ]
  },
  {
   "cell_type": "markdown",
   "id": "da340565",
   "metadata": {},
   "source": [
    "Let's try to compare items: Are people likley to order cheaper things with more expensive ones?"
   ]
  },
  {
   "cell_type": "code",
   "execution_count": null,
   "id": "6c7aa479",
   "metadata": {},
   "outputs": [],
   "source": [
    "def Comparing (list1,list2,name1,name2):\n",
    "    group = name1 + '+' + name2\n",
    "    counter = 0\n",
    "    for i in list1:\n",
    "        if i in list2:\n",
    "            counter += 1\n",
    "    counter = counter / ((pie_chart['order_id'][name1] + pie_chart['order_id'][name2])) * 100\n",
    "    dic = {'group': group,'percentage_of_occurrences':counter}\n",
    "    return pd.Series(dic)    "
   ]
  },
  {
   "cell_type": "code",
   "execution_count": null,
   "id": "ff500ea9",
   "metadata": {},
   "outputs": [],
   "source": [
    "categories = sales.groupby('price_category').agg({'order_id': 'unique'}).reset_index()\n",
    "comparing_dataframe = pd.DataFrame(columns = ['group','percentage_of_occurrences'])\n",
    "for i in categories.index:\n",
    "    for z in range(4,i,-1):\n",
    "        row = Comparing(categories['order_id'][i],categories['order_id'][z],categories['price_category'][i],categories['price_category'][z])\n",
    "        comparing_dataframe = comparing_dataframe.append(row, ignore_index = True) \n",
    "            "
   ]
  },
  {
   "cell_type": "code",
   "execution_count": null,
   "id": "adc29fa6",
   "metadata": {},
   "outputs": [],
   "source": [
    "comparing_dataframe.head(10)"
   ]
  },
  {
   "cell_type": "code",
   "execution_count": null,
   "id": "f019fae8",
   "metadata": {},
   "outputs": [],
   "source": [
    "fig = px.bar(\n",
    "    comparing_dataframe.sort_values(by = 'percentage_of_occurrences'), \n",
    "    x = 'group',\n",
    "    y = 'percentage_of_occurrences',\n",
    "    labels = {'group':'Group Combinations', 'percentage_of_occurrences':'Percentage of Occurrences'})\n",
    "fig.update_layout(title = 'Price Categories Combinations - Percentages')\n",
    "fig.update_yaxes(range = (30,45))\n",
    "\n",
    "fig.show()"
   ]
  },
  {
   "cell_type": "markdown",
   "id": "6c9c768e",
   "metadata": {},
   "source": [
    "We can see that the most common combination is expensive products and mid range products. At the bottom 4, We have all the combinations for the 'Very Cheap' products. This shows that orders with relativly expensive items are the most likley to be big orders with various different products."
   ]
  },
  {
   "cell_type": "markdown",
   "id": "0162500f",
   "metadata": {},
   "source": [
    "### Hypothesis:"
   ]
  },
  {
   "cell_type": "markdown",
   "id": "64bc71b7",
   "metadata": {},
   "source": [
    "Let's check the hypothesis that orders under 5 dollars are the same in terms of quantity than orders that cost more than 5$."
   ]
  },
  {
   "cell_type": "markdown",
   "id": "217ae3c1",
   "metadata": {},
   "source": [
    "H0: quantites for orders under 5 dollars and over 5 dollars is the same.\n",
    "\n",
    "H1: quantittes for orders under 5 dollars and over 5 dollars are different."
   ]
  },
  {
   "cell_type": "markdown",
   "id": "8329729f",
   "metadata": {},
   "source": [
    "First, Let's create our samples:"
   ]
  },
  {
   "cell_type": "code",
   "execution_count": null,
   "id": "7c8ff19b",
   "metadata": {},
   "outputs": [],
   "source": [
    "under_5_orders = sales.groupby('order_id').agg({'revenue': 'sum','quantity':'sum'}).reset_index().query('revenue < 5')\n",
    "over_5_orders = sales.groupby('order_id').agg({'revenue': 'sum','quantity':'sum'}).reset_index().query('revenue > 5')\n",
    "sample1 = under_5_orders['quantity']\n",
    "sample2 = over_5_orders['quantity']"
   ]
  },
  {
   "cell_type": "markdown",
   "id": "a17653fd",
   "metadata": {},
   "source": [
    "Let's check the distribution of the samples:"
   ]
  },
  {
   "cell_type": "code",
   "execution_count": null,
   "id": "ae9de83a",
   "metadata": {},
   "outputs": [],
   "source": [
    "sample1.hist();"
   ]
  },
  {
   "cell_type": "code",
   "execution_count": null,
   "id": "42aa9d32",
   "metadata": {},
   "outputs": [],
   "source": [
    "sample2.hist();"
   ]
  },
  {
   "cell_type": "markdown",
   "id": "c22f8291",
   "metadata": {},
   "source": [
    "Let's get rid of our outliners:"
   ]
  },
  {
   "cell_type": "code",
   "execution_count": null,
   "id": "3b9cd753",
   "metadata": {},
   "outputs": [],
   "source": [
    "sample1 = sample1[sample1 > 0]"
   ]
  },
  {
   "cell_type": "code",
   "execution_count": null,
   "id": "67c59fc8",
   "metadata": {
    "scrolled": true
   },
   "outputs": [],
   "source": [
    "sample1.hist();"
   ]
  },
  {
   "cell_type": "code",
   "execution_count": null,
   "id": "bef5c716",
   "metadata": {},
   "outputs": [],
   "source": [
    "sample2 = sample2[sample2 < np.percentile(sample2,q = (99))]"
   ]
  },
  {
   "cell_type": "code",
   "execution_count": null,
   "id": "4504bcc9",
   "metadata": {
    "scrolled": true
   },
   "outputs": [],
   "source": [
    "sample2.hist();"
   ]
  },
  {
   "cell_type": "markdown",
   "id": "28924a22",
   "metadata": {},
   "source": [
    "We can see the distribution of our samples is the same, so we'll take it into account when we do our t-test:"
   ]
  },
  {
   "cell_type": "code",
   "execution_count": null,
   "id": "a6cb1479",
   "metadata": {},
   "outputs": [],
   "source": [
    "alpha = 0.01 # We will define our threshold at 1% change.\n",
    "results = st.ttest_ind(sample1,sample2, equal_var = True) #equal var is false because we found that the distibutions are the same\n",
    "print(results.pvalue)\n",
    "if results.pvalue < alpha:\n",
    "    print(\"We reject the null hypothesis\")\n",
    "else:\n",
    "    print(\"We can't reject the null hypothesis\") "
   ]
  },
  {
   "cell_type": "markdown",
   "id": "db46940f",
   "metadata": {},
   "source": [
    "We can see that there indeed is a difference for orders under 5 dollars and orders over 5 dollars."
   ]
  },
  {
   "cell_type": "markdown",
   "id": "c7ff8309",
   "metadata": {},
   "source": [
    "# Conclusion:"
   ]
  },
  {
   "cell_type": "markdown",
   "id": "922262d4",
   "metadata": {},
   "source": [
    "Let's sum up our study:\n",
    "1. We studied the data.\n",
    "2. We dealt with missing values and duplicates, changed datatypes, changed collumn names and filtered the data.\n",
    "3. We studied the distribution of the product prices and quantity, created new columns and categorized our data.\n",
    "4. We discovered the top and bottom 10 products in terms of number of orders,sales and revenue.\n",
    "5. We studied the sales of products per date and the sales of seasonal products.\n",
    "6. We checked which products customers buy more than once.\n",
    "7. We studied the share of orders and quantity per price category and the most common combinations.\n",
    "8. We tested the hypothesis that orders that are less then 5 dollars have less products than orders that cost more than 5 dollars.\n",
    "\n",
    "My research shows that:\n",
    "1. Products prices are generally low.\n",
    "2. Quantities are gennerally low. Some items have a negative average quantity, meaning that people return them back often.\n",
    "3. The top ordered products are mainly decorative house products.\n",
    "4. The top selling products are mainly crafts and one time things.\n",
    "5. The top revenue products are mainly the products that sell the most, not ordered the most.\n",
    "6. The shop's biggest peak of the year was September-November, and the worst time was December-January.\n",
    "7. Christmas Items were barely sold off-season.\n",
    "8. Products that customers buy more than once are the same products that have the largest number of orders.\n",
    "9. People tend to order expensive items in more times, But order many cheap items in one order.\n",
    "10. Orders with cheap items are less likley to be ordered with more expensive products.\n",
    "11. Orders that cost less than 5 dollars have less quantity than orders with more than 5 dollars.\n",
    "\n",
    "I can reccomend that:\n",
    "1. We should have a quality check every 6 months to see which items are being returned more than they sell. Maybe we should take them off the shelf.\n",
    "2. We should target people that want to buy decorative item and people that want to buy crafts.\n",
    "3. We should increase our marketing during December-Febuary, In order for the sales to continue the momentum from November.\n",
    "4. We should reccomend users seasonal products in different seasons.\n",
    "5. If we identify a customer has bought a decorative item, We should reccomend it to him the next time he visits.\n",
    "6. If we identify a customer that wants to buy a relativly expensive item, We should offer him othe expensive items."
   ]
  },
  {
   "cell_type": "markdown",
   "id": "3ee3c797",
   "metadata": {},
   "source": [
    "## 5 links I used:"
   ]
  },
  {
   "cell_type": "markdown",
   "id": "0604ea21",
   "metadata": {},
   "source": [
    "1. https://finance.arvato.com/en/blog/customer-journey/debt-purchasing-in-e-commerce-optimize-receivables-management-and-customer-experience/ - I didn't know what is a 'bad debt', so i looked it up.\n",
    "2. https://plotly.com/python/axes/#setting-the-range-of-axes-manually - range of axes in plotly.Found how to play with the range.\n",
    "3. https://www.google.com/search?q=white+hanging+heart+t-light+holder&sxsrf=AOaemvIJ8ctdVsk9jKTo5wmKU-g4ICat_A:1635507513059&source=lnms&tbm=isch&sa=X&sqi=2&ved=2ahUKEwiDx96ixO_zAhX9Q_EDHdjFCLEQ_AUoAXoECAEQAw&biw=1536&bih=664&dpr=1.25 - Didn't know what that was so I looked it up.\n",
    "4. https://thispointer.com/python-how-to-check-if-an-item-exists-in-list-search-by-value-or-condition/ - In the christmas part, this helped me get on track!\n",
    "5.'https://stackoverflow.com/questions/25692293/inserting-a-link-to-a-webpage-in-an-ipython-notebook' - Just for now, Didn't know how to insert a link."
   ]
  },
  {
   "cell_type": "markdown",
   "id": "e6a3ce6d",
   "metadata": {},
   "source": [
    "## Presentation:"
   ]
  },
  {
   "cell_type": "markdown",
   "id": "ce985571",
   "metadata": {},
   "source": [
    "https://github.com/nadavkloot/Final-Presentation/blob/main/E-Commerce%20Store.pdf"
   ]
  },
  {
   "cell_type": "markdown",
   "id": "6148f246",
   "metadata": {},
   "source": [
    "## Dashboard:"
   ]
  },
  {
   "cell_type": "markdown",
   "id": "c73b6d6d",
   "metadata": {},
   "source": [
    "https://public.tableau.com/app/profile/nadav.kloot/viz/FinalProjectDashboard_16356209590440/Dashboard1#1"
   ]
  },
  {
   "cell_type": "code",
   "execution_count": null,
   "id": "80ca6f92",
   "metadata": {},
   "outputs": [],
   "source": []
  }
 ],
 "metadata": {
  "ExecuteTimeLog": [
   {
    "duration": 1852,
    "start_time": "2021-10-29T12:44:31.775Z"
   },
   {
    "duration": 4479,
    "start_time": "2021-10-29T12:44:33.630Z"
   },
   {
    "duration": 203,
    "start_time": "2021-10-29T12:44:37.913Z"
   },
   {
    "duration": 194,
    "start_time": "2021-10-29T12:44:37.923Z"
   },
   {
    "duration": 189,
    "start_time": "2021-10-29T12:44:37.930Z"
   },
   {
    "duration": 187,
    "start_time": "2021-10-29T12:44:37.934Z"
   },
   {
    "duration": 185,
    "start_time": "2021-10-29T12:44:37.937Z"
   },
   {
    "duration": 185,
    "start_time": "2021-10-29T12:44:37.939Z"
   },
   {
    "duration": -119,
    "start_time": "2021-10-29T12:44:38.245Z"
   },
   {
    "duration": -128,
    "start_time": "2021-10-29T12:44:38.255Z"
   },
   {
    "duration": -131,
    "start_time": "2021-10-29T12:44:38.260Z"
   },
   {
    "duration": -133,
    "start_time": "2021-10-29T12:44:38.263Z"
   },
   {
    "duration": -135,
    "start_time": "2021-10-29T12:44:38.266Z"
   },
   {
    "duration": -136,
    "start_time": "2021-10-29T12:44:38.268Z"
   },
   {
    "duration": -136,
    "start_time": "2021-10-29T12:44:38.270Z"
   },
   {
    "duration": -138,
    "start_time": "2021-10-29T12:44:38.273Z"
   },
   {
    "duration": -140,
    "start_time": "2021-10-29T12:44:38.276Z"
   },
   {
    "duration": -140,
    "start_time": "2021-10-29T12:44:38.278Z"
   },
   {
    "duration": -141,
    "start_time": "2021-10-29T12:44:38.281Z"
   },
   {
    "duration": -142,
    "start_time": "2021-10-29T12:44:38.283Z"
   },
   {
    "duration": -142,
    "start_time": "2021-10-29T12:44:38.285Z"
   },
   {
    "duration": -419,
    "start_time": "2021-10-29T12:44:38.563Z"
   },
   {
    "duration": -431,
    "start_time": "2021-10-29T12:44:38.577Z"
   },
   {
    "duration": -440,
    "start_time": "2021-10-29T12:44:38.587Z"
   },
   {
    "duration": -443,
    "start_time": "2021-10-29T12:44:38.591Z"
   },
   {
    "duration": -452,
    "start_time": "2021-10-29T12:44:38.601Z"
   },
   {
    "duration": -454,
    "start_time": "2021-10-29T12:44:38.605Z"
   },
   {
    "duration": -458,
    "start_time": "2021-10-29T12:44:38.610Z"
   },
   {
    "duration": -466,
    "start_time": "2021-10-29T12:44:38.619Z"
   },
   {
    "duration": -468,
    "start_time": "2021-10-29T12:44:38.622Z"
   },
   {
    "duration": -471,
    "start_time": "2021-10-29T12:44:38.627Z"
   },
   {
    "duration": -478,
    "start_time": "2021-10-29T12:44:38.636Z"
   },
   {
    "duration": -479,
    "start_time": "2021-10-29T12:44:38.639Z"
   },
   {
    "duration": -482,
    "start_time": "2021-10-29T12:44:38.643Z"
   },
   {
    "duration": -489,
    "start_time": "2021-10-29T12:44:38.651Z"
   },
   {
    "duration": -492,
    "start_time": "2021-10-29T12:44:38.655Z"
   },
   {
    "duration": -804,
    "start_time": "2021-10-29T12:44:38.969Z"
   },
   {
    "duration": -808,
    "start_time": "2021-10-29T12:44:38.974Z"
   },
   {
    "duration": -811,
    "start_time": "2021-10-29T12:44:38.978Z"
   },
   {
    "duration": -812,
    "start_time": "2021-10-29T12:44:38.980Z"
   },
   {
    "duration": -814,
    "start_time": "2021-10-29T12:44:38.983Z"
   },
   {
    "duration": -815,
    "start_time": "2021-10-29T12:44:38.985Z"
   },
   {
    "duration": -816,
    "start_time": "2021-10-29T12:44:38.987Z"
   },
   {
    "duration": -760,
    "start_time": "2021-10-29T12:44:38.989Z"
   },
   {
    "duration": -762,
    "start_time": "2021-10-29T12:44:38.993Z"
   },
   {
    "duration": -763,
    "start_time": "2021-10-29T12:44:38.995Z"
   },
   {
    "duration": -764,
    "start_time": "2021-10-29T12:44:38.997Z"
   },
   {
    "duration": -766,
    "start_time": "2021-10-29T12:44:39.000Z"
   },
   {
    "duration": -766,
    "start_time": "2021-10-29T12:44:39.002Z"
   },
   {
    "duration": -742,
    "start_time": "2021-10-29T12:44:39.005Z"
   },
   {
    "duration": -951,
    "start_time": "2021-10-29T12:44:39.215Z"
   },
   {
    "duration": -952,
    "start_time": "2021-10-29T12:44:39.218Z"
   },
   {
    "duration": -953,
    "start_time": "2021-10-29T12:44:39.220Z"
   },
   {
    "duration": -954,
    "start_time": "2021-10-29T12:44:39.223Z"
   },
   {
    "duration": -957,
    "start_time": "2021-10-29T12:44:39.227Z"
   },
   {
    "duration": -958,
    "start_time": "2021-10-29T12:44:39.229Z"
   },
   {
    "duration": -960,
    "start_time": "2021-10-29T12:44:39.232Z"
   },
   {
    "duration": -961,
    "start_time": "2021-10-29T12:44:39.234Z"
   },
   {
    "duration": -962,
    "start_time": "2021-10-29T12:44:39.236Z"
   },
   {
    "duration": -964,
    "start_time": "2021-10-29T12:44:39.239Z"
   },
   {
    "duration": -913,
    "start_time": "2021-10-29T12:44:39.242Z"
   },
   {
    "duration": -916,
    "start_time": "2021-10-29T12:44:39.246Z"
   },
   {
    "duration": -917,
    "start_time": "2021-10-29T12:44:39.249Z"
   },
   {
    "duration": -919,
    "start_time": "2021-10-29T12:44:39.252Z"
   },
   {
    "duration": -1257,
    "start_time": "2021-10-29T12:44:39.591Z"
   },
   {
    "duration": -1263,
    "start_time": "2021-10-29T12:44:39.599Z"
   },
   {
    "duration": -1265,
    "start_time": "2021-10-29T12:44:39.602Z"
   },
   {
    "duration": -1266,
    "start_time": "2021-10-29T12:44:39.604Z"
   },
   {
    "duration": -1267,
    "start_time": "2021-10-29T12:44:39.606Z"
   },
   {
    "duration": -1269,
    "start_time": "2021-10-29T12:44:39.610Z"
   },
   {
    "duration": -1272,
    "start_time": "2021-10-29T12:44:39.614Z"
   },
   {
    "duration": -1273,
    "start_time": "2021-10-29T12:44:39.617Z"
   },
   {
    "duration": -1275,
    "start_time": "2021-10-29T12:44:39.620Z"
   },
   {
    "duration": -1276,
    "start_time": "2021-10-29T12:44:39.622Z"
   },
   {
    "duration": -1278,
    "start_time": "2021-10-29T12:44:39.625Z"
   },
   {
    "duration": -1279,
    "start_time": "2021-10-29T12:44:39.628Z"
   },
   {
    "duration": 5750,
    "start_time": "2021-10-29T12:45:22.586Z"
   },
   {
    "duration": 4448,
    "start_time": "2021-10-29T12:45:45.932Z"
   },
   {
    "duration": 990,
    "start_time": "2021-10-29T12:47:21.859Z"
   },
   {
    "duration": 2068,
    "start_time": "2021-10-29T12:47:30.814Z"
   },
   {
    "duration": 855,
    "start_time": "2021-10-29T12:47:32.885Z"
   },
   {
    "duration": 113,
    "start_time": "2021-10-29T12:47:33.743Z"
   },
   {
    "duration": 129,
    "start_time": "2021-10-29T12:47:33.859Z"
   },
   {
    "duration": 442,
    "start_time": "2021-10-29T12:47:33.990Z"
   },
   {
    "duration": 431,
    "start_time": "2021-10-29T12:47:34.434Z"
   },
   {
    "duration": 609,
    "start_time": "2021-10-29T12:47:34.868Z"
   },
   {
    "duration": 422,
    "start_time": "2021-10-29T12:47:35.480Z"
   },
   {
    "duration": 51,
    "start_time": "2021-10-29T12:47:35.906Z"
   },
   {
    "duration": 198,
    "start_time": "2021-10-29T12:47:35.959Z"
   },
   {
    "duration": 29,
    "start_time": "2021-10-29T12:47:36.160Z"
   },
   {
    "duration": 41,
    "start_time": "2021-10-29T12:47:36.192Z"
   },
   {
    "duration": 14,
    "start_time": "2021-10-29T12:47:36.236Z"
   },
   {
    "duration": 25,
    "start_time": "2021-10-29T12:47:36.253Z"
   },
   {
    "duration": 14,
    "start_time": "2021-10-29T12:47:36.280Z"
   },
   {
    "duration": 14,
    "start_time": "2021-10-29T12:47:36.330Z"
   },
   {
    "duration": 223,
    "start_time": "2021-10-29T12:47:36.347Z"
   },
   {
    "duration": 256,
    "start_time": "2021-10-29T12:47:36.573Z"
   },
   {
    "duration": 419,
    "start_time": "2021-10-29T12:47:36.831Z"
   },
   {
    "duration": 346,
    "start_time": "2021-10-29T12:47:37.252Z"
   },
   {
    "duration": 365,
    "start_time": "2021-10-29T12:47:37.600Z"
   },
   {
    "duration": 172,
    "start_time": "2021-10-29T12:47:37.968Z"
   },
   {
    "duration": 112,
    "start_time": "2021-10-29T12:47:38.146Z"
   },
   {
    "duration": 111,
    "start_time": "2021-10-29T12:47:38.263Z"
   },
   {
    "duration": 598,
    "start_time": "2021-10-29T12:47:38.377Z"
   },
   {
    "duration": 20,
    "start_time": "2021-10-29T12:47:38.977Z"
   },
   {
    "duration": 215,
    "start_time": "2021-10-29T12:47:38.999Z"
   },
   {
    "duration": 168,
    "start_time": "2021-10-29T12:47:39.217Z"
   },
   {
    "duration": 42,
    "start_time": "2021-10-29T12:47:39.387Z"
   },
   {
    "duration": 33,
    "start_time": "2021-10-29T12:47:39.431Z"
   },
   {
    "duration": 12,
    "start_time": "2021-10-29T12:47:39.467Z"
   },
   {
    "duration": 81,
    "start_time": "2021-10-29T12:47:39.482Z"
   },
   {
    "duration": 112,
    "start_time": "2021-10-29T12:47:39.565Z"
   },
   {
    "duration": 97,
    "start_time": "2021-10-29T12:47:39.679Z"
   },
   {
    "duration": 403,
    "start_time": "2021-10-29T12:47:39.778Z"
   },
   {
    "duration": 5,
    "start_time": "2021-10-29T12:47:40.183Z"
   },
   {
    "duration": 120,
    "start_time": "2021-10-29T12:47:40.190Z"
   },
   {
    "duration": 182,
    "start_time": "2021-10-29T12:47:40.312Z"
   },
   {
    "duration": 355,
    "start_time": "2021-10-29T12:47:40.496Z"
   },
   {
    "duration": 8,
    "start_time": "2021-10-29T12:47:40.854Z"
   },
   {
    "duration": 664,
    "start_time": "2021-10-29T12:47:40.865Z"
   },
   {
    "duration": 499,
    "start_time": "2021-10-29T12:47:41.531Z"
   },
   {
    "duration": 6,
    "start_time": "2021-10-29T12:47:42.033Z"
   },
   {
    "duration": 16,
    "start_time": "2021-10-29T12:47:42.041Z"
   },
   {
    "duration": 447,
    "start_time": "2021-10-29T12:47:42.060Z"
   },
   {
    "duration": 22,
    "start_time": "2021-10-29T12:47:42.510Z"
   },
   {
    "duration": 3670,
    "start_time": "2021-10-29T12:47:42.534Z"
   },
   {
    "duration": 321,
    "start_time": "2021-10-29T12:47:46.206Z"
   },
   {
    "duration": 1093,
    "start_time": "2021-10-29T12:47:46.529Z"
   },
   {
    "duration": 13,
    "start_time": "2021-10-29T12:47:47.625Z"
   },
   {
    "duration": 1391,
    "start_time": "2021-10-29T12:47:47.641Z"
   },
   {
    "duration": 7,
    "start_time": "2021-10-29T12:47:49.034Z"
   },
   {
    "duration": 13,
    "start_time": "2021-10-29T12:47:49.043Z"
   },
   {
    "duration": 536,
    "start_time": "2021-10-29T12:47:49.059Z"
   },
   {
    "duration": 7,
    "start_time": "2021-10-29T12:47:49.598Z"
   },
   {
    "duration": 27,
    "start_time": "2021-10-29T12:47:49.607Z"
   },
   {
    "duration": 527,
    "start_time": "2021-10-29T12:47:49.637Z"
   },
   {
    "duration": 396,
    "start_time": "2021-10-29T12:47:50.167Z"
   },
   {
    "duration": 7,
    "start_time": "2021-10-29T12:47:50.565Z"
   },
   {
    "duration": 10,
    "start_time": "2021-10-29T12:47:50.575Z"
   },
   {
    "duration": 759,
    "start_time": "2021-10-29T12:47:50.588Z"
   },
   {
    "duration": 222585,
    "start_time": "2021-10-29T12:47:51.350Z"
   },
   {
    "duration": 21,
    "start_time": "2021-10-29T12:51:33.938Z"
   },
   {
    "duration": 428,
    "start_time": "2021-10-29T12:51:33.962Z"
   },
   {
    "duration": 198,
    "start_time": "2021-10-29T12:51:34.393Z"
   },
   {
    "duration": 197,
    "start_time": "2021-10-29T12:51:34.594Z"
   },
   {
    "duration": 10,
    "start_time": "2021-10-29T12:51:34.794Z"
   },
   {
    "duration": 497,
    "start_time": "2021-10-29T12:51:34.829Z"
   },
   {
    "duration": 1012,
    "start_time": "2021-10-29T12:51:34.316Z"
   },
   {
    "duration": 1010,
    "start_time": "2021-10-29T12:51:34.320Z"
   },
   {
    "duration": 1006,
    "start_time": "2021-10-29T12:51:34.325Z"
   },
   {
    "duration": 1004,
    "start_time": "2021-10-29T12:51:34.329Z"
   },
   {
    "duration": 1001,
    "start_time": "2021-10-29T12:51:34.333Z"
   },
   {
    "duration": 999,
    "start_time": "2021-10-29T12:51:34.336Z"
   },
   {
    "duration": 998,
    "start_time": "2021-10-29T12:51:34.339Z"
   },
   {
    "duration": 997,
    "start_time": "2021-10-29T12:51:34.341Z"
   },
   {
    "duration": 259,
    "start_time": "2021-10-29T12:52:34.268Z"
   },
   {
    "duration": 264,
    "start_time": "2021-10-29T12:52:45.522Z"
   },
   {
    "duration": 245,
    "start_time": "2021-10-29T12:54:13.421Z"
   },
   {
    "duration": 260,
    "start_time": "2021-10-29T12:54:36.734Z"
   },
   {
    "duration": 262,
    "start_time": "2021-10-29T12:54:43.959Z"
   },
   {
    "duration": 4,
    "start_time": "2021-10-29T12:55:19.473Z"
   },
   {
    "duration": 840,
    "start_time": "2021-10-29T12:55:48.913Z"
   },
   {
    "duration": 1252,
    "start_time": "2021-10-29T12:57:17.536Z"
   },
   {
    "duration": 18312,
    "start_time": "2021-10-29T12:57:46.518Z"
   },
   {
    "duration": 247,
    "start_time": "2021-10-29T12:59:05.979Z"
   },
   {
    "duration": 5,
    "start_time": "2021-10-29T12:59:20.280Z"
   },
   {
    "duration": 284,
    "start_time": "2021-10-29T12:59:32.983Z"
   },
   {
    "duration": 440,
    "start_time": "2021-10-29T12:59:40.450Z"
   },
   {
    "duration": 747,
    "start_time": "2021-10-29T12:59:40.893Z"
   },
   {
    "duration": 220,
    "start_time": "2021-10-29T12:59:41.700Z"
   },
   {
    "duration": 7,
    "start_time": "2021-10-29T12:59:42.581Z"
   },
   {
    "duration": 63818,
    "start_time": "2021-10-29T12:59:42.809Z"
   },
   {
    "duration": 11,
    "start_time": "2021-10-29T13:00:46.630Z"
   },
   {
    "duration": 385,
    "start_time": "2021-10-29T13:00:46.644Z"
   },
   {
    "duration": 173,
    "start_time": "2021-10-29T13:00:47.032Z"
   },
   {
    "duration": 256,
    "start_time": "2021-10-29T13:02:32.083Z"
   },
   {
    "duration": 553,
    "start_time": "2021-10-29T13:05:06.098Z"
   },
   {
    "duration": 550,
    "start_time": "2021-10-29T13:06:35.262Z"
   },
   {
    "duration": 669,
    "start_time": "2021-10-29T13:07:46.178Z"
   },
   {
    "duration": 80,
    "start_time": "2021-10-29T13:08:06.830Z"
   },
   {
    "duration": 614,
    "start_time": "2021-10-29T13:08:10.381Z"
   },
   {
    "duration": 484,
    "start_time": "2021-10-29T13:08:31.870Z"
   },
   {
    "duration": 296,
    "start_time": "2021-10-29T13:08:41.517Z"
   },
   {
    "duration": 263,
    "start_time": "2021-10-29T13:09:20.243Z"
   },
   {
    "duration": 303,
    "start_time": "2021-10-29T13:09:29.811Z"
   },
   {
    "duration": 350,
    "start_time": "2021-10-29T13:10:49.011Z"
   },
   {
    "duration": 356,
    "start_time": "2021-10-29T13:10:59.120Z"
   },
   {
    "duration": 371,
    "start_time": "2021-10-29T13:11:29.542Z"
   },
   {
    "duration": 1352,
    "start_time": "2021-10-29T13:12:02.597Z"
   },
   {
    "duration": 602,
    "start_time": "2021-10-29T13:12:24.382Z"
   },
   {
    "duration": 509,
    "start_time": "2021-10-29T13:13:18.253Z"
   },
   {
    "duration": 525,
    "start_time": "2021-10-29T13:14:02.033Z"
   },
   {
    "duration": 76334,
    "start_time": "2021-10-30T09:23:40.429Z"
   },
   {
    "duration": 1556,
    "start_time": "2021-10-30T09:24:56.766Z"
   },
   {
    "duration": 806,
    "start_time": "2021-10-30T09:24:58.325Z"
   },
   {
    "duration": 114,
    "start_time": "2021-10-30T09:24:59.134Z"
   },
   {
    "duration": 123,
    "start_time": "2021-10-30T09:24:59.250Z"
   },
   {
    "duration": 421,
    "start_time": "2021-10-30T09:24:59.375Z"
   },
   {
    "duration": 422,
    "start_time": "2021-10-30T09:24:59.799Z"
   },
   {
    "duration": 628,
    "start_time": "2021-10-30T09:25:00.228Z"
   },
   {
    "duration": 410,
    "start_time": "2021-10-30T09:25:00.862Z"
   },
   {
    "duration": 56,
    "start_time": "2021-10-30T09:25:01.277Z"
   },
   {
    "duration": 193,
    "start_time": "2021-10-30T09:25:01.336Z"
   },
   {
    "duration": 28,
    "start_time": "2021-10-30T09:25:01.531Z"
   },
   {
    "duration": 20,
    "start_time": "2021-10-30T09:25:01.561Z"
   },
   {
    "duration": 51,
    "start_time": "2021-10-30T09:25:01.583Z"
   },
   {
    "duration": 24,
    "start_time": "2021-10-30T09:25:01.636Z"
   },
   {
    "duration": 15,
    "start_time": "2021-10-30T09:25:01.662Z"
   },
   {
    "duration": 15,
    "start_time": "2021-10-30T09:25:01.679Z"
   },
   {
    "duration": 256,
    "start_time": "2021-10-30T09:25:01.697Z"
   },
   {
    "duration": 252,
    "start_time": "2021-10-30T09:25:01.955Z"
   },
   {
    "duration": 450,
    "start_time": "2021-10-30T09:25:02.210Z"
   },
   {
    "duration": 369,
    "start_time": "2021-10-30T09:25:02.663Z"
   },
   {
    "duration": 369,
    "start_time": "2021-10-30T09:25:03.034Z"
   },
   {
    "duration": 172,
    "start_time": "2021-10-30T09:25:03.406Z"
   },
   {
    "duration": 334,
    "start_time": "2021-10-30T09:25:03.581Z"
   },
   {
    "duration": 111,
    "start_time": "2021-10-30T09:25:03.917Z"
   },
   {
    "duration": 395,
    "start_time": "2021-10-30T09:25:04.030Z"
   },
   {
    "duration": 18,
    "start_time": "2021-10-30T09:25:04.432Z"
   },
   {
    "duration": 203,
    "start_time": "2021-10-30T09:25:04.453Z"
   },
   {
    "duration": 156,
    "start_time": "2021-10-30T09:25:04.658Z"
   },
   {
    "duration": 35,
    "start_time": "2021-10-30T09:25:04.816Z"
   },
   {
    "duration": 33,
    "start_time": "2021-10-30T09:25:04.853Z"
   },
   {
    "duration": 13,
    "start_time": "2021-10-30T09:25:04.888Z"
   },
   {
    "duration": 47,
    "start_time": "2021-10-30T09:25:04.929Z"
   },
   {
    "duration": 124,
    "start_time": "2021-10-30T09:25:04.978Z"
   },
   {
    "duration": 96,
    "start_time": "2021-10-30T09:25:05.104Z"
   },
   {
    "duration": 395,
    "start_time": "2021-10-30T09:25:05.202Z"
   },
   {
    "duration": 4,
    "start_time": "2021-10-30T09:25:05.599Z"
   },
   {
    "duration": 123,
    "start_time": "2021-10-30T09:25:05.606Z"
   },
   {
    "duration": 167,
    "start_time": "2021-10-30T09:25:05.731Z"
   },
   {
    "duration": 331,
    "start_time": "2021-10-30T09:25:05.900Z"
   },
   {
    "duration": 7,
    "start_time": "2021-10-30T09:25:06.233Z"
   },
   {
    "duration": 638,
    "start_time": "2021-10-30T09:25:06.242Z"
   },
   {
    "duration": 439,
    "start_time": "2021-10-30T09:25:06.883Z"
   },
   {
    "duration": 8,
    "start_time": "2021-10-30T09:25:07.324Z"
   },
   {
    "duration": 22,
    "start_time": "2021-10-30T09:25:07.334Z"
   },
   {
    "duration": 450,
    "start_time": "2021-10-30T09:25:07.358Z"
   },
   {
    "duration": 14,
    "start_time": "2021-10-30T09:25:07.810Z"
   },
   {
    "duration": 3454,
    "start_time": "2021-10-30T09:25:07.829Z"
   },
   {
    "duration": 325,
    "start_time": "2021-10-30T09:25:11.285Z"
   },
   {
    "duration": 1036,
    "start_time": "2021-10-30T09:25:11.612Z"
   },
   {
    "duration": 14,
    "start_time": "2021-10-30T09:25:12.650Z"
   },
   {
    "duration": 17978,
    "start_time": "2021-10-30T09:25:12.666Z"
   },
   {
    "duration": 7,
    "start_time": "2021-10-30T09:25:30.646Z"
   },
   {
    "duration": 13,
    "start_time": "2021-10-30T09:25:30.655Z"
   },
   {
    "duration": 184,
    "start_time": "2021-10-30T09:25:30.670Z"
   },
   {
    "duration": 9,
    "start_time": "2021-10-30T09:25:30.856Z"
   },
   {
    "duration": 67,
    "start_time": "2021-10-30T09:25:30.868Z"
   },
   {
    "duration": 131,
    "start_time": "2021-10-30T09:25:30.938Z"
   },
   {
    "duration": 90,
    "start_time": "2021-10-30T09:25:31.071Z"
   },
   {
    "duration": 7,
    "start_time": "2021-10-30T09:25:31.163Z"
   },
   {
    "duration": 25,
    "start_time": "2021-10-30T09:25:31.172Z"
   },
   {
    "duration": 294,
    "start_time": "2021-10-30T09:25:31.199Z"
   },
   {
    "duration": 214974,
    "start_time": "2021-10-30T09:25:31.495Z"
   },
   {
    "duration": 22,
    "start_time": "2021-10-30T09:29:06.471Z"
   },
   {
    "duration": 113,
    "start_time": "2021-10-30T09:29:06.495Z"
   },
   {
    "duration": 203,
    "start_time": "2021-10-30T09:29:06.610Z"
   },
   {
    "duration": 194,
    "start_time": "2021-10-30T09:29:06.816Z"
   },
   {
    "duration": 22,
    "start_time": "2021-10-30T09:29:07.012Z"
   },
   {
    "duration": 522,
    "start_time": "2021-10-30T09:29:07.036Z"
   },
   {
    "duration": 427,
    "start_time": "2021-10-30T09:29:07.561Z"
   },
   {
    "duration": 404,
    "start_time": "2021-10-30T09:29:07.990Z"
   },
   {
    "duration": 80,
    "start_time": "2021-10-30T09:29:08.397Z"
   },
   {
    "duration": 5,
    "start_time": "2021-10-30T09:29:08.479Z"
   },
   {
    "duration": 62994,
    "start_time": "2021-10-30T09:29:08.487Z"
   },
   {
    "duration": 10,
    "start_time": "2021-10-30T09:30:11.484Z"
   },
   {
    "duration": 99,
    "start_time": "2021-10-30T09:30:11.496Z"
   },
   {
    "duration": 169,
    "start_time": "2021-10-30T09:30:11.598Z"
   },
   {
    "duration": 21291,
    "start_time": "2021-11-26T09:52:31.113Z"
   },
   {
    "duration": 1876,
    "start_time": "2021-11-26T09:52:52.408Z"
   },
   {
    "duration": 1239,
    "start_time": "2021-11-26T09:52:54.287Z"
   },
   {
    "duration": 18,
    "start_time": "2021-11-26T09:52:55.529Z"
   },
   {
    "duration": 121,
    "start_time": "2021-11-26T09:52:55.549Z"
   },
   {
    "duration": 125,
    "start_time": "2021-11-26T09:52:55.672Z"
   },
   {
    "duration": 428,
    "start_time": "2021-11-26T09:52:55.799Z"
   },
   {
    "duration": 423,
    "start_time": "2021-11-26T09:52:56.231Z"
   },
   {
    "duration": 216,
    "start_time": "2021-11-26T09:52:56.657Z"
   },
   {
    "duration": 567,
    "start_time": "2021-11-26T09:52:56.875Z"
   },
   {
    "duration": 330,
    "start_time": "2021-11-26T09:52:57.445Z"
   },
   {
    "duration": 42,
    "start_time": "2021-11-26T09:52:57.777Z"
   },
   {
    "duration": 182,
    "start_time": "2021-11-26T09:52:57.821Z"
   },
   {
    "duration": 28,
    "start_time": "2021-11-26T09:52:58.005Z"
   },
   {
    "duration": 220,
    "start_time": "2021-11-26T09:52:58.036Z"
   },
   {
    "duration": 162,
    "start_time": "2021-11-26T09:52:58.259Z"
   },
   {
    "duration": 19,
    "start_time": "2021-11-26T09:52:58.424Z"
   },
   {
    "duration": 17,
    "start_time": "2021-11-26T09:52:58.445Z"
   },
   {
    "duration": 23,
    "start_time": "2021-11-26T09:52:58.482Z"
   },
   {
    "duration": 13,
    "start_time": "2021-11-26T09:52:58.508Z"
   },
   {
    "duration": 112,
    "start_time": "2021-11-26T09:52:58.523Z"
   },
   {
    "duration": 98,
    "start_time": "2021-11-26T09:52:58.637Z"
   },
   {
    "duration": 335,
    "start_time": "2021-11-26T09:52:58.741Z"
   },
   {
    "duration": 17,
    "start_time": "2021-11-26T09:52:59.084Z"
   },
   {
    "duration": 13,
    "start_time": "2021-11-26T09:52:59.103Z"
   },
   {
    "duration": 68,
    "start_time": "2021-11-26T09:52:59.119Z"
   },
   {
    "duration": 93,
    "start_time": "2021-11-26T09:52:59.190Z"
   },
   {
    "duration": 101,
    "start_time": "2021-11-26T09:52:59.286Z"
   },
   {
    "duration": 317,
    "start_time": "2021-11-26T09:52:59.389Z"
   },
   {
    "duration": 4,
    "start_time": "2021-11-26T09:52:59.709Z"
   },
   {
    "duration": 101,
    "start_time": "2021-11-26T09:52:59.716Z"
   },
   {
    "duration": 180,
    "start_time": "2021-11-26T09:52:59.820Z"
   },
   {
    "duration": 339,
    "start_time": "2021-11-26T09:53:00.003Z"
   },
   {
    "duration": 7,
    "start_time": "2021-11-26T09:53:00.344Z"
   },
   {
    "duration": 683,
    "start_time": "2021-11-26T09:53:00.354Z"
   },
   {
    "duration": 502,
    "start_time": "2021-11-26T09:53:01.039Z"
   },
   {
    "duration": 8,
    "start_time": "2021-11-26T09:53:01.544Z"
   },
   {
    "duration": 46,
    "start_time": "2021-11-26T09:53:01.555Z"
   },
   {
    "duration": 633,
    "start_time": "2021-11-26T09:53:01.604Z"
   },
   {
    "duration": 19,
    "start_time": "2021-11-26T09:53:02.240Z"
   },
   {
    "duration": 4289,
    "start_time": "2021-11-26T09:53:02.262Z"
   },
   {
    "duration": 311,
    "start_time": "2021-11-26T09:53:06.553Z"
   },
   {
    "duration": 2108,
    "start_time": "2021-11-26T09:53:06.867Z"
   },
   {
    "duration": 14,
    "start_time": "2021-11-26T09:53:08.978Z"
   },
   {
    "duration": 1986,
    "start_time": "2021-11-26T09:53:08.994Z"
   },
   {
    "duration": 666,
    "start_time": "2021-11-26T09:53:10.983Z"
   },
   {
    "duration": 489,
    "start_time": "2021-11-26T09:53:11.652Z"
   },
   {
    "duration": 1923,
    "start_time": "2021-11-26T09:53:12.144Z"
   },
   {
    "duration": 115,
    "start_time": "2021-11-26T09:53:14.070Z"
   },
   {
    "duration": 23,
    "start_time": "2021-11-26T09:53:14.188Z"
   },
   {
    "duration": 150,
    "start_time": "2021-11-26T09:53:14.214Z"
   },
   {
    "duration": 119,
    "start_time": "2021-11-26T09:53:14.367Z"
   },
   {
    "duration": 9,
    "start_time": "2021-11-26T09:53:14.490Z"
   },
   {
    "duration": 9,
    "start_time": "2021-11-26T09:53:14.501Z"
   },
   {
    "duration": 324,
    "start_time": "2021-11-26T09:53:14.513Z"
   },
   {
    "duration": 219322,
    "start_time": "2021-11-26T09:53:14.839Z"
   },
   {
    "duration": 29,
    "start_time": "2021-11-26T09:56:54.163Z"
   },
   {
    "duration": 106,
    "start_time": "2021-11-26T09:56:54.194Z"
   },
   {
    "duration": 164,
    "start_time": "2021-11-26T09:56:54.303Z"
   },
   {
    "duration": 191,
    "start_time": "2021-11-26T09:56:54.469Z"
   },
   {
    "duration": 22,
    "start_time": "2021-11-26T09:56:54.663Z"
   },
   {
    "duration": 622,
    "start_time": "2021-11-26T09:56:54.687Z"
   },
   {
    "duration": 322,
    "start_time": "2021-11-26T09:56:55.312Z"
   },
   {
    "duration": 535,
    "start_time": "2021-11-26T09:56:55.637Z"
   },
   {
    "duration": 70,
    "start_time": "2021-11-26T09:56:56.183Z"
   },
   {
    "duration": 6,
    "start_time": "2021-11-26T09:56:56.255Z"
   },
   {
    "duration": 66746,
    "start_time": "2021-11-26T09:56:56.263Z"
   },
   {
    "duration": 11,
    "start_time": "2021-11-26T09:58:03.018Z"
   },
   {
    "duration": 106,
    "start_time": "2021-11-26T09:58:03.032Z"
   },
   {
    "duration": 170,
    "start_time": "2021-11-26T09:58:03.141Z"
   },
   {
    "duration": 409,
    "start_time": "2021-11-26T09:58:03.313Z"
   },
   {
    "duration": 327,
    "start_time": "2021-11-26T09:58:03.725Z"
   },
   {
    "duration": 5,
    "start_time": "2021-11-26T09:58:04.054Z"
   },
   {
    "duration": 395,
    "start_time": "2021-11-26T09:58:04.062Z"
   },
   {
    "duration": 6,
    "start_time": "2021-11-26T09:58:04.460Z"
   },
   {
    "duration": 279,
    "start_time": "2021-11-26T09:58:04.468Z"
   },
   {
    "duration": 7,
    "start_time": "2021-11-26T09:58:04.750Z"
   }
  ],
  "kernelspec": {
   "display_name": "Python 3",
   "language": "python",
   "name": "python3"
  },
  "language_info": {
   "codemirror_mode": {
    "name": "ipython",
    "version": 3
   },
   "file_extension": ".py",
   "mimetype": "text/x-python",
   "name": "python",
   "nbconvert_exporter": "python",
   "pygments_lexer": "ipython3",
   "version": "3.8.10"
  },
  "toc": {
   "base_numbering": 1,
   "nav_menu": {},
   "number_sections": true,
   "sideBar": true,
   "skip_h1_title": true,
   "title_cell": "Table of Contents",
   "title_sidebar": "Contents",
   "toc_cell": false,
   "toc_position": {},
   "toc_section_display": true,
   "toc_window_display": false
  }
 },
 "nbformat": 4,
 "nbformat_minor": 5
}
